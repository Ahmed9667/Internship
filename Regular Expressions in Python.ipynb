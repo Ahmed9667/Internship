{
 "cells": [
  {
   "cell_type": "code",
   "execution_count": 1,
   "id": "39887cd1",
   "metadata": {},
   "outputs": [],
   "source": [
    "import re"
   ]
  },
  {
   "cell_type": "code",
   "execution_count": 2,
   "id": "5ab790ce",
   "metadata": {},
   "outputs": [
    {
     "name": "stdout",
     "output_type": "stream",
     "text": [
      "Python:Exercises::PHP:exercises:\n"
     ]
    }
   ],
   "source": [
    "#Question 1- Write a Python program to replace all occurrences of a space, comma, or dot with a colon.\n",
    "\n",
    "Sample_text = 'Python Exercises, PHP exercises.'\n",
    "\n",
    "pattern = '[ ,.]'\n",
    "\n",
    "result = re.sub(pattern ,':' , Sample_text)\n",
    "print(result)"
   ]
  },
  {
   "cell_type": "code",
   "execution_count": 3,
   "id": "d9df89b8",
   "metadata": {},
   "outputs": [
    {
     "name": "stdout",
     "output_type": "stream",
     "text": [
      "['ahmed', 'ate', 'eggs']\n"
     ]
    }
   ],
   "source": [
    "#Question 2-  Write a Python program to find all words starting with 'a' or 'e' in a given string.\n",
    "string = 'ahmed ate two eggs'\n",
    "\n",
    "pattern = r'[ae]\\w+'\n",
    "result = re.findall(pattern , string)\n",
    "print(result)"
   ]
  },
  {
   "cell_type": "code",
   "execution_count": 4,
   "id": "98cee006",
   "metadata": {},
   "outputs": [
    {
     "name": "stdout",
     "output_type": "stream",
     "text": [
      "['John', 'went', 'pool']\n"
     ]
    }
   ],
   "source": [
    "#Question 3- Create a function in python to find all words that are at least 4 characters long in a string. \n",
    "#The use of the re.compile() method is mandatory\n",
    "\n",
    "text = 'John went directly to the pool'\n",
    "\n",
    "pattern = re.compile( r\"\\b\\w{4}\\b\"  )\n",
    "\n",
    "result = pattern.findall(text)\n",
    "print(result)"
   ]
  },
  {
   "cell_type": "code",
   "execution_count": 5,
   "id": "9ddbfeb9",
   "metadata": {},
   "outputs": [
    {
     "name": "stdout",
     "output_type": "stream",
     "text": [
      "example\n",
      "hr@fliprobo\n",
      "github\n",
      "Hello\n",
      "Data\n"
     ]
    }
   ],
   "source": [
    "#Question 5- Create a function in Python to remove the parenthesis in a list of strings. \n",
    "#The use of the re.compile() method is mandatory.\n",
    "Sample_Text = [\"example (.com)\", \"hr@fliprobo (.com)\", \"github (.com)\", \"Hello (Data Science World)\", \"Data (Scientist)\"]\n",
    "\n",
    "pattern = re.compile(r\" ?\\([^)]+\\)\")\n",
    "\n",
    "for i in Sample_Text :\n",
    "    result = pattern.sub(\"\" , i)\n",
    "    print(result)"
   ]
  },
  {
   "cell_type": "code",
   "execution_count": 6,
   "id": "501df572",
   "metadata": {},
   "outputs": [
    {
     "name": "stdout",
     "output_type": "stream",
     "text": [
      "['example', 'hr@fliprobo', 'github', 'Hello', 'Data']\n"
     ]
    }
   ],
   "source": [
    "#Question 6- Write a python program to remove the parenthesis area from the text stored in the text file using Regular Expression\n",
    "Sample_Text = [\"example (.com)\", \"hr@fliprobo (.com)\", \"github (.com)\", \"Hello (Data Science World)\", \"Data (Scientist)\"]\n",
    "result = []\n",
    "pattern = r\" ?\\([^)]+\\)\"\n",
    "\n",
    "for i in Sample_Text:\n",
    "    result.append(re.sub(pattern ,'',i))\n",
    "print(result)    \n"
   ]
  },
  {
   "cell_type": "code",
   "execution_count": 7,
   "id": "dc7e7125",
   "metadata": {},
   "outputs": [
    {
     "name": "stdout",
     "output_type": "stream",
     "text": [
      "['Importance', 'Of', 'Regular', 'Expressions', 'In', 'Python']\n"
     ]
    }
   ],
   "source": [
    "#Question 7- Write a regular expression in Python to split a string into uppercase letters\n",
    "text = 'ImportanceOfRegularExpressionsInPython'\n",
    "\n",
    "pattern = r'[A-Z][^A-Z]*'\n",
    "result = re.findall(pattern, text)\n",
    "print(result)"
   ]
  },
  {
   "cell_type": "code",
   "execution_count": 8,
   "id": "8249894e",
   "metadata": {},
   "outputs": [
    {
     "name": "stdout",
     "output_type": "stream",
     "text": [
      "RegularExpression 1IsAn 2ImportantTopic 3InPython\n"
     ]
    }
   ],
   "source": [
    "#Question 8- Create a function in python to insert spaces between words starting with numbers\n",
    "\n",
    "text = 'RegularExpression1IsAn2ImportantTopic3InPython'\n",
    "pattern = r'(\\d+(\\.\\d+)?)'\n",
    "\n",
    "result = re.sub(pattern , r' \\1' , text)\n",
    "print(str(result))"
   ]
  },
  {
   "cell_type": "code",
   "execution_count": 9,
   "id": "ce07028a",
   "metadata": {},
   "outputs": [
    {
     "name": "stdout",
     "output_type": "stream",
     "text": [
      "RegularExpression 1 IsAn 2 ImportantTopic 3 InPython\n"
     ]
    }
   ],
   "source": [
    "#Question 9- Create a function in python to insert spaces between words starting with capital letters or with numbers\n",
    "\n",
    "text = 'RegularExpression1IsAn2ImportantTopic3InPython'\n",
    "\n",
    "pattern = r'(\\d+(\\.\\d+)?)'\n",
    "\n",
    "result = re.sub(pattern , r' \\1 ' , text)\n",
    "print(str(result))"
   ]
  },
  {
   "cell_type": "code",
   "execution_count": 10,
   "id": "71debef2",
   "metadata": {},
   "outputs": [
    {
     "name": "stdout",
     "output_type": "stream",
     "text": [
      "['xyz@domain.com', 'xyz.abc@sdomain.domain.com']\n",
      "['hr@fliprobo.com']\n"
     ]
    }
   ],
   "source": [
    "#Question 10- Write a python program to extract email address from the text stored in the text file using Regular Expression\n",
    "\n",
    "pattern = r\"[a-z0-9\\.\\w+\\-+_]+@[a-z0-9\\.\\w+\\-+_]+\\.[a-z]+\"\n",
    "\n",
    "result1 = re.findall(pattern , 'Hello my name is Data Science and my email address is xyz@domain.com and alternate email address is xyz.abc@sdomain.domain.com')\n",
    "result2 = re.findall(pattern ,'Please contact us at hr@fliprobo.com for further information')\n",
    "print(result1)\n",
    "print(result2)"
   ]
  },
  {
   "cell_type": "code",
   "execution_count": 11,
   "id": "4b0b7cbd",
   "metadata": {},
   "outputs": [
    {
     "name": "stdout",
     "output_type": "stream",
     "text": [
      "Hello_ahmed_9667 >>>  match\n",
      "whats up >>>  non matched\n"
     ]
    }
   ],
   "source": [
    "#Question 11- Write a Python program to match a string that contains only upper and lowercase letters, numbers, and underscores\n",
    "\n",
    "text =  ['Hello_ahmed_9667' , 'whats up']\n",
    "\n",
    "pattern = r'^[A-Za-z0-9_]*$'\n",
    "\n",
    "for i in text : \n",
    "    if re.match(pattern , i):\n",
    "        print(i ,'>>> ','match')\n",
    "    else:\n",
    "        print(i , '>>> ', 'non matched')"
   ]
  },
  {
   "cell_type": "code",
   "execution_count": 12,
   "id": "1918135c",
   "metadata": {},
   "outputs": [
    {
     "name": "stdout",
     "output_type": "stream",
     "text": [
      "0842152624\n"
     ]
    }
   ],
   "source": [
    "#Question 12- Write a Python program where a string will start with a specific number\n",
    "\n",
    "pattern = r'^0'  #or  pattern = r'0\\S+'\n",
    "numbers = ['0842152624' ,'6364777']\n",
    "for i in numbers :\n",
    "    if re.search(pattern , i):\n",
    "        print(i)"
   ]
  },
  {
   "cell_type": "code",
   "execution_count": 13,
   "id": "8ee9d88d",
   "metadata": {},
   "outputs": [
    {
     "name": "stdout",
     "output_type": "stream",
     "text": [
      "198.168.1.1\n"
     ]
    }
   ],
   "source": [
    "#Question 13- Write a Python program to remove leading zeros from an IP address\n",
    "\n",
    "pattern = r'[0]'\n",
    "\n",
    "my_ip = '198.168.01.01'\n",
    "result = re.sub(pattern ,'' , my_ip)\n",
    "print(result)       "
   ]
  },
  {
   "cell_type": "code",
   "execution_count": 14,
   "id": "63e100ca",
   "metadata": {},
   "outputs": [
    {
     "name": "stdout",
     "output_type": "stream",
     "text": [
      "August 15th 1947\n"
     ]
    }
   ],
   "source": [
    "#Question 14- Write a regular expression in python to match a date string in the form of Month name followed by day number and year stored in a text file\n",
    "#Expected Output- August 15th 1947\n",
    "\n",
    "text = 'On August 15th 1947 that India was declared independent from British colonialism, and the reins of control were handed over to the leaders of the Country'\n",
    "\n",
    "pattern = r'([a-zA-z]+) ([0-9a-z]+) (\\d+)'\n",
    "\n",
    "result = re.search(pattern, text)\n",
    "print(result.group())"
   ]
  },
  {
   "cell_type": "code",
   "execution_count": 15,
   "id": "943c2846",
   "metadata": {},
   "outputs": [
    {
     "name": "stdout",
     "output_type": "stream",
     "text": [
      "fox\n",
      "dog\n"
     ]
    }
   ],
   "source": [
    "#Question 15- Write a Python program to search some literals strings in a string.\n",
    "#Searched words : 'fox', 'dog', 'horse'\n",
    "\n",
    "text = 'The quick brown fox jumps over the lazy dog.'\n",
    "pattern = ['fox', 'dog', 'horse']\n",
    "\n",
    "for i in pattern:\n",
    "    if re.search(i , text):\n",
    "        print(i)   "
   ]
  },
  {
   "cell_type": "code",
   "execution_count": 16,
   "id": "2da30295",
   "metadata": {},
   "outputs": [
    {
     "name": "stdout",
     "output_type": "stream",
     "text": [
      "The fox starts from  16 and ends at  19\n"
     ]
    }
   ],
   "source": [
    "#Write a Python program to search a literals string in a string and also find the location within the original string where the pattern occurs\n",
    "#Searched words : 'fox'\n",
    "\n",
    "text = 'The quick brown fox jumps over the lazy dog.'\n",
    "pattern = 'fox'\n",
    "\n",
    "result = re.search(pattern , text)\n",
    "print('The',pattern ,'starts from ',result.start(),'and ends at ',result.end())"
   ]
  },
  {
   "cell_type": "code",
   "execution_count": 17,
   "id": "d629b2d3",
   "metadata": {},
   "outputs": [
    {
     "name": "stdout",
     "output_type": "stream",
     "text": [
      "['exercises', 'exercises', 'exercises']\n"
     ]
    }
   ],
   "source": [
    "#Question 17- Write a Python program to find the substrings within a string.\n",
    "text = 'Python exercises, PHP exercises, C# exercises'\n",
    "pattern = 'exercises'\n",
    "\n",
    "result = re.findall(pattern , text)\n",
    "print(result)"
   ]
  },
  {
   "cell_type": "code",
   "execution_count": 18,
   "id": "109f2856",
   "metadata": {},
   "outputs": [
    {
     "name": "stdout",
     "output_type": "stream",
     "text": [
      "exercises  starts from  7  and ends at  16\n",
      "exercises  starts from  22  and ends at  31\n",
      "exercises  starts from  36  and ends at  45\n"
     ]
    }
   ],
   "source": [
    "#Question 18- Write a Python program to find the occurrence and position of the substrings within a string\n",
    "text = 'Python exercises, PHP exercises, C# exercises'\n",
    "pattern = 'exercises'\n",
    "\n",
    "result = re.finditer(pattern , text)\n",
    "\n",
    "for i in result:\n",
    "    start = i.start()\n",
    "    end   = i.end()\n",
    "    print(text[start:end],' starts from ',start,' and ends at ',end)    "
   ]
  },
  {
   "cell_type": "code",
   "execution_count": 19,
   "id": "6e0d3f16",
   "metadata": {},
   "outputs": [
    {
     "name": "stdout",
     "output_type": "stream",
     "text": [
      "12-07-1994\n"
     ]
    }
   ],
   "source": [
    "#Question 19- Write a Python program to convert a date of yyyy-mm-dd format to dd-mm-yyyy format\n",
    "text = \"1994-07-12\"\n",
    "\n",
    "pattern = r'(\\d{4})-(\\d{1,2})-(\\d{1,2})'\n",
    "\n",
    "ddd = '\\\\3-\\\\2-\\\\1' #we reversed the sequence\n",
    "print(re.sub(pattern , ddd , text))"
   ]
  },
  {
   "cell_type": "code",
   "execution_count": 20,
   "id": "63fcd77e",
   "metadata": {},
   "outputs": [
    {
     "name": "stdout",
     "output_type": "stream",
     "text": [
      "['72.1', '51.47']\n"
     ]
    }
   ],
   "source": [
    "#Question 20- Create a function in python to find all decimal numbers with a precision of 1 or 2 in a string. The use of the re.compile() method is mandatory\n",
    "\n",
    "text = 'I had 72.1 marks in maths and 51.47 in history'\n",
    "\n",
    "pattern = re.compile('\\d+\\.*\\d+')\n",
    "result = pattern.findall(text)\n",
    "print(result)"
   ]
  },
  {
   "cell_type": "code",
   "execution_count": 21,
   "id": "7b3f98ea",
   "metadata": {},
   "outputs": [
    {
     "name": "stdout",
     "output_type": "stream",
     "text": [
      "80 starts at  6  and end at  8\n",
      "50 starts at  28  and end at  30\n"
     ]
    }
   ],
   "source": [
    "#Question 21- Write a Python program to separate and print the numbers and their position of a given string\n",
    "\n",
    "text = 'I had 80 marks in maths and 50 in history'\n",
    "\n",
    "pattern = r'\\d+'\n",
    "\n",
    "result = re.finditer(pattern , text)\n",
    "for i in result:\n",
    "    start = i.start()\n",
    "    end   = i.end()\n",
    "    print(text[start:end],'starts at ',start,' and end at ',end)"
   ]
  },
  {
   "cell_type": "code",
   "execution_count": 22,
   "id": "07adca27",
   "metadata": {},
   "outputs": [
    {
     "name": "stdout",
     "output_type": "stream",
     "text": [
      "950\n"
     ]
    }
   ],
   "source": [
    "#Question 22- Write a regular expression in python program to extract maximum/largest numeric value from a string\n",
    "text = 'My marks in each semester are: 947, 896, 926, 524, 734, 950, 642'\n",
    "pattern = r'\\d+'\n",
    "\n",
    "number = re.findall(pattern , text)\n",
    "max_value = map(int , number)\n",
    "print(max(max_value))"
   ]
  },
  {
   "cell_type": "code",
   "execution_count": 23,
   "id": "b2b2a0f4",
   "metadata": {},
   "outputs": [
    {
     "name": "stdout",
     "output_type": "stream",
     "text": [
      "Hello My Name Is Ahmed\n"
     ]
    }
   ],
   "source": [
    "#Question 23- Create a function in python to insert spaces between words starting with capital letters\n",
    "\n",
    "pattern = r\"(\\w)([A-Z])\"\n",
    "text = \"HelloMyNameIsAhmed\"\n",
    "\n",
    "result = re.sub(pattern , r\"\\1 \\2\" ,text)\n",
    "print(result)"
   ]
  },
  {
   "cell_type": "code",
   "execution_count": 24,
   "id": "800b5d80",
   "metadata": {},
   "outputs": [
    {
     "name": "stdout",
     "output_type": "stream",
     "text": [
      "Ahmed  has the sequence\n",
      "PYTHON  has NOT the sequence\n"
     ]
    }
   ],
   "source": [
    "#Question 24- Python regex to find sequences of one upper case letter followed by lower case letters\n",
    "\n",
    "text =['Ahmed','PYTHON']\n",
    "\n",
    "pattern = '[A-Z]+[a-z]+$'\n",
    "for i in text :\n",
    "    if re.match(pattern , i):\n",
    "        print(i,' has the sequence')\n",
    "    else:\n",
    "        print(i, ' has NOT the sequence')"
   ]
  },
  {
   "cell_type": "code",
   "execution_count": 25,
   "id": "98a3cea1",
   "metadata": {},
   "outputs": [
    {
     "name": "stdout",
     "output_type": "stream",
     "text": [
      "Hello hello world\n"
     ]
    }
   ],
   "source": [
    "#Question 25- Write a Python program to remove continuous duplicate words from Sentence using Regular Expression\n",
    "\n",
    "text = \"Hello hello world world\"\n",
    "pattern = r'\\b(\\w+)( \\1\\b)'\n",
    "\n",
    "print(re.sub(pattern , r'\\1' ,text))"
   ]
  },
  {
   "cell_type": "code",
   "execution_count": 26,
   "id": "0356ff1d",
   "metadata": {},
   "outputs": [
    {
     "name": "stdout",
     "output_type": "stream",
     "text": [
      "Ahmed9667  is alphanumeric\n",
      "ahmed9667@  is Not alphanumeric\n"
     ]
    }
   ],
   "source": [
    "#Question 26-  Write a python program using RegEx to accept string ending with alphanumeric character\n",
    "\n",
    "text = ['Ahmed9667','ahmed9667@']\n",
    "\n",
    "pattern = r'[A-za-z0-9]$'\n",
    "\n",
    "for i in text:\n",
    "    if re.search(pattern , i):\n",
    "        print(i,' is alphanumeric')\n",
    "    else:\n",
    "        print(i,' is Not alphanumeric')"
   ]
  },
  {
   "cell_type": "code",
   "execution_count": 27,
   "id": "53351b12",
   "metadata": {},
   "outputs": [
    {
     "name": "stdout",
     "output_type": "stream",
     "text": [
      "['#Doltiwal', '#xyzabc', '#Demonetization']\n"
     ]
    }
   ],
   "source": [
    "#Question 27-Write a python program using RegEx to extract the hashtags\n",
    "\n",
    "text = \"\"\"RT @kapil_kausik: #Doltiwal I mean #xyzabc is \"hurt\" by #Demonetization as the same has rendered USELESS <ed><U+00A0><U+00BD><ed><U+00B1><U+0089> \"acquired funds\" No wo\"\"\"\n",
    "\n",
    "pattern = r'#\\S+'\n",
    "\n",
    "result = re.findall(pattern,text)\n",
    "print(result)"
   ]
  },
  {
   "cell_type": "code",
   "execution_count": 28,
   "id": "d84f9b71",
   "metadata": {},
   "outputs": [
    {
     "name": "stdout",
     "output_type": "stream",
     "text": [
      "@Jags123456 Bharat band on 28??<ed><ed>Those who  are protesting #demonetization  are all different party leaders\n"
     ]
    }
   ],
   "source": [
    "#Question 28- Write a python program using RegEx to remove <U+..> like symbols\n",
    "text = \"@Jags123456 Bharat band on 28??<ed><U+00A0><U+00BD><ed><U+00B8><U+0082>Those who  are protesting #demonetization  are all different party leaders\"\n",
    "\n",
    "pattern = r'<U\\+[0-9A-Z]{4}>'\n",
    "print(re.sub(pattern,'',text))"
   ]
  },
  {
   "cell_type": "code",
   "execution_count": 29,
   "id": "5c3df3d2",
   "metadata": {},
   "outputs": [
    {
     "name": "stdout",
     "output_type": "stream",
     "text": [
      "['12-09-1992', '15-12-1999']\n"
     ]
    }
   ],
   "source": [
    "#Question 29- Write a python program to extract dates from the text stored in the text file\n",
    "text = 'Ron was born on 12-09-1992 and he was admitted to school 15-12-1999'\n",
    "\n",
    "pattern = r'\\d{2}-\\d{2}-\\d{4}'\n",
    "result = re.findall(pattern , text)\n",
    "print(result)"
   ]
  },
  {
   "cell_type": "code",
   "execution_count": 30,
   "id": "39cad518",
   "metadata": {},
   "outputs": [
    {
     "name": "stdout",
     "output_type": "stream",
     "text": [
      " following example creates  ArrayList with  capacity   elements.  elements  then added   ArrayList   ArrayList  trimmed accordingly.\n"
     ]
    }
   ],
   "source": [
    "#Question 30- Create a function in python to remove all words from a string of length between 2 and 4.\n",
    "#The use of the re.compile() method is mandatory\n",
    "\n",
    "text =\"The following example creates an ArrayList with a capacity of 50 elements. 4 elements are then added to the ArrayList and the ArrayList is trimmed accordingly.\"\n",
    "\n",
    "pattern = re.compile(r'\\w*\\b\\w{1,3}\\b')\n",
    "\n",
    "result = pattern.sub('',text)\n",
    "print(result)"
   ]
  },
  {
   "cell_type": "code",
   "execution_count": null,
   "id": "a5c9c9bf",
   "metadata": {},
   "outputs": [],
   "source": []
  }
 ],
 "metadata": {
  "kernelspec": {
   "display_name": "Python 3 (ipykernel)",
   "language": "python",
   "name": "python3"
  },
  "language_info": {
   "codemirror_mode": {
    "name": "ipython",
    "version": 3
   },
   "file_extension": ".py",
   "mimetype": "text/x-python",
   "name": "python",
   "nbconvert_exporter": "python",
   "pygments_lexer": "ipython3",
   "version": "3.9.16"
  }
 },
 "nbformat": 4,
 "nbformat_minor": 5
}
