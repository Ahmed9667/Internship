{
 "cells": [
  {
   "cell_type": "code",
   "execution_count": 1,
   "id": "c7a01164",
   "metadata": {},
   "outputs": [],
   "source": [
    "import selenium\n",
    "from selenium import webdriver\n",
    "import pandas as pd\n",
    "from selenium.webdriver.common.by import By\n",
    "import warnings\n",
    "warnings.filterwarnings('ignore')\n",
    "import time\n",
    "\n",
    "from selenium.common.exceptions import NoSuchElementException\n",
    "\n",
    "from selenium.common.exceptions import StaleElementReferenceException\n",
    "from selenium.webdriver.support.ui import WebDriverWait\n",
    "from selenium.webdriver.support import expected_conditions as EC\n",
    "\n",
    "import requests\n",
    "from bs4 import BeautifulSoup\n"
   ]
  },
  {
   "cell_type": "code",
   "execution_count": null,
   "id": "36244c57",
   "metadata": {},
   "outputs": [],
   "source": []
  },
  {
   "cell_type": "markdown",
   "id": "a1d7d572",
   "metadata": {},
   "source": [
    "# Q1"
   ]
  },
  {
   "cell_type": "markdown",
   "id": "1518e165",
   "metadata": {},
   "source": [
    "Write a python program which searches all the product under a particular product from www.amazon.in. The\n",
    "product to be searched will be taken as input from user. For e.g. If user input is ‘guitar’. Then search for\n",
    "guitars"
   ]
  },
  {
   "cell_type": "code",
   "execution_count": 2,
   "id": "b61407cb",
   "metadata": {},
   "outputs": [],
   "source": [
    "driver = webdriver.Chrome()\n",
    "driver.get('https://www.amazon.in/')\n",
    "time.sleep(2)"
   ]
  },
  {
   "cell_type": "code",
   "execution_count": 3,
   "id": "3ddc12a2",
   "metadata": {},
   "outputs": [],
   "source": [
    "#search for guitar\n",
    "search = driver.find_element(By.XPATH , '/html/body/div[1]/header/div/div[1]/div[2]/div/form/div[2]/div[1]/input')\n",
    "search.send_keys('guitar')\n",
    "\n",
    "#click on seaarch button\n",
    "driver.find_element(By.XPATH , '/html/body/div[1]/header/div/div[1]/div[2]/div/form/div[3]/div/span/input').click()"
   ]
  },
  {
   "cell_type": "code",
   "execution_count": null,
   "id": "21c4f813",
   "metadata": {},
   "outputs": [],
   "source": []
  },
  {
   "cell_type": "markdown",
   "id": "2a100fc5",
   "metadata": {},
   "source": [
    "# Q2"
   ]
  },
  {
   "cell_type": "markdown",
   "id": "86ef8d68",
   "metadata": {},
   "source": [
    "In the above question, now scrape the following details of each product listed in first 3 pages of your search\n",
    "results and save it in a data frame and csv. In case if any product has less than 3 pages in search results then\n",
    "scrape all the products available under that product name. Details to be scraped are: \"Brand\n",
    "Name\", \"Name of the Product\", \"Price\", \"Return/Exchange\", \"Expected Delivery\", \"Availability\" and\n",
    "“Product URL”. In case, if any of the details are missing for any of the product then replace it by “-“."
   ]
  },
  {
   "cell_type": "code",
   "execution_count": 4,
   "id": "bd4e4715",
   "metadata": {},
   "outputs": [],
   "source": [
    "url = []\n",
    "for page in range(0,3):\n",
    "    for i in driver.find_elements(By.XPATH , '//a[@class=\"a-link-normal s-underline-text s-underline-link-text s-link-style a-text-normal\"]'):\n",
    "        url.append(i.get_attribute('href'))\n",
    "        \n",
    "    driver.find_element(By.XPATH , '//a[@class=\"s-pagination-item s-pagination-next s-pagination-button s-pagination-separator\"]').click() \n",
    "    time.sleep(5)  "
   ]
  },
  {
   "cell_type": "code",
   "execution_count": 6,
   "id": "0b9c3d99",
   "metadata": {},
   "outputs": [
    {
     "data": {
      "text/plain": [
       "177"
      ]
     },
     "execution_count": 6,
     "metadata": {},
     "output_type": "execute_result"
    }
   ],
   "source": [
    "len(url)"
   ]
  },
  {
   "cell_type": "code",
   "execution_count": 31,
   "id": "15877aa9",
   "metadata": {},
   "outputs": [],
   "source": [
    "brand = []\n",
    "for i in url:\n",
    "    driver.get(i)\n",
    "    time.sleep(4)\n",
    "    try:\n",
    "        \n",
    "        name_of_brand = driver.find_element(By.XPATH , '/html/body/div[2]/div[2]/div[5]/div[3]/div[4]/div[46]/div/table/tbody/tr[1]/td[2]/span')\n",
    "        brand.append(name_of_brand.text)\n",
    "    \n",
    "    except NoSuchElementException:\n",
    "        brand.append('-')   "
   ]
  },
  {
   "cell_type": "code",
   "execution_count": 16,
   "id": "de517281",
   "metadata": {},
   "outputs": [],
   "source": [
    "return_exchange = []\n",
    "product = []\n",
    "price = []\n",
    "expected_delivary = []\n",
    "availibilty = []\n",
    "for i in url:\n",
    "    driver.get(i)\n",
    "    time.sleep(4)\n",
    "    try:\n",
    "        \n",
    "        \n",
    "        exchange = driver.find_element(By.XPATH , '/html/body/div[2]/div[2]/div[5]/div[3]/div[4]/div[23]/div[2]/div/div/div/div[2]/div/ol/li[3]/div/span/div[2]/span')\n",
    "        return_exchange.append(exchange.text)\n",
    "        \n",
    "        name_of_product = driver.find_element(By.XPATH , '//span[@id=\"productTitle\"]')\n",
    "        product.append(name_of_product.text)\n",
    "        \n",
    "        num_of_price = driver.find_element(By.XPATH , '//span[@class=\"a-price-whole\"]')\n",
    "        price.append(num_of_price.text)\n",
    "        \n",
    "        delivary = driver.find_element(By.XPATH , '//span[@class=\"a-text-bold\"]')\n",
    "        expected_delivary.append(delivary.text)\n",
    "        \n",
    "        stock = driver.find_element(By.XPATH , '//div[@id=\"availability\"]')\n",
    "        availibilty.append(stock.text)\n",
    "    \n",
    "    except NoSuchElementException:\n",
    "        \n",
    "        return_exchange.append('-')\n",
    "        product.append('-')\n",
    "        price.append('-')\n",
    "        expected_delivary.append('-')\n",
    "        availibilty.append('-')\n",
    "        "
   ]
  },
  {
   "cell_type": "code",
   "execution_count": 32,
   "id": "59017360",
   "metadata": {},
   "outputs": [
    {
     "data": {
      "text/html": [
       "<div>\n",
       "<style scoped>\n",
       "    .dataframe tbody tr th:only-of-type {\n",
       "        vertical-align: middle;\n",
       "    }\n",
       "\n",
       "    .dataframe tbody tr th {\n",
       "        vertical-align: top;\n",
       "    }\n",
       "\n",
       "    .dataframe thead th {\n",
       "        text-align: right;\n",
       "    }\n",
       "</style>\n",
       "<table border=\"1\" class=\"dataframe\">\n",
       "  <thead>\n",
       "    <tr style=\"text-align: right;\">\n",
       "      <th></th>\n",
       "      <th>Brand</th>\n",
       "      <th>Prouduct Name</th>\n",
       "      <th>Price</th>\n",
       "      <th>Expected Delivary</th>\n",
       "      <th>Return-Exchange</th>\n",
       "      <th>Availibilty</th>\n",
       "      <th>Img Url</th>\n",
       "    </tr>\n",
       "  </thead>\n",
       "  <tbody>\n",
       "    <tr>\n",
       "      <th>0</th>\n",
       "      <td>Kadence</td>\n",
       "      <td>Kadence rosewood Guitar Frontier Series, Elect...</td>\n",
       "      <td>4,999</td>\n",
       "      <td>Saturday, 2 September</td>\n",
       "      <td>7 days Replacement</td>\n",
       "      <td>In stock</td>\n",
       "      <td>https://www.amazon.in/sspa/click?ie=UTF8&amp;spc=M...</td>\n",
       "    </tr>\n",
       "    <tr>\n",
       "      <th>1</th>\n",
       "      <td>Medellin</td>\n",
       "      <td>Medellin Acoustic Guitar (with guitar learning...</td>\n",
       "      <td>2,499</td>\n",
       "      <td>Saturday, 2 September</td>\n",
       "      <td>7 days Replacement</td>\n",
       "      <td>In stock</td>\n",
       "      <td>https://www.amazon.in/sspa/click?ie=UTF8&amp;spc=M...</td>\n",
       "    </tr>\n",
       "    <tr>\n",
       "      <th>2</th>\n",
       "      <td>Kadence</td>\n",
       "      <td>Kadence Slowhand Premium Jumbo Semi Acoustic G...</td>\n",
       "      <td>11,999</td>\n",
       "      <td>Saturday, 2 September</td>\n",
       "      <td>7 days Replacement</td>\n",
       "      <td>In stock</td>\n",
       "      <td>https://www.amazon.in/sspa/click?ie=UTF8&amp;spc=M...</td>\n",
       "    </tr>\n",
       "    <tr>\n",
       "      <th>3</th>\n",
       "      <td>Medellin</td>\n",
       "      <td>Medellin Acoustic Guitar (with guitar learning...</td>\n",
       "      <td>2,499</td>\n",
       "      <td>Sunday, 3 September</td>\n",
       "      <td>7 days Replacement</td>\n",
       "      <td>Only 1 left in stock</td>\n",
       "      <td>https://www.amazon.in/sspa/click?ie=UTF8&amp;spc=M...</td>\n",
       "    </tr>\n",
       "    <tr>\n",
       "      <th>4</th>\n",
       "      <td>JUAREZ</td>\n",
       "      <td>Juârez Acoustic Guitar, 38 Inch Cutaway, 038C ...</td>\n",
       "      <td>1,999</td>\n",
       "      <td>Thursday, 31 August</td>\n",
       "      <td>7 days Replacement</td>\n",
       "      <td>In stock</td>\n",
       "      <td>https://www.amazon.in/Juarez-Acoustic-Cutaway-...</td>\n",
       "    </tr>\n",
       "    <tr>\n",
       "      <th>...</th>\n",
       "      <td>...</td>\n",
       "      <td>...</td>\n",
       "      <td>...</td>\n",
       "      <td>...</td>\n",
       "      <td>...</td>\n",
       "      <td>...</td>\n",
       "      <td>...</td>\n",
       "    </tr>\n",
       "    <tr>\n",
       "      <th>172</th>\n",
       "      <td>HOVNER</td>\n",
       "      <td>Hovner Carlton Special Quality Rosewood Fretbo...</td>\n",
       "      <td>4,635</td>\n",
       "      <td>Friday, 8 September</td>\n",
       "      <td>7 days Replacement</td>\n",
       "      <td>In stock</td>\n",
       "      <td>https://www.amazon.in/Carlton-Rosewood-Fretboa...</td>\n",
       "    </tr>\n",
       "    <tr>\n",
       "      <th>173</th>\n",
       "      <td>HOVNER</td>\n",
       "      <td>Hovner 215 Royal Metallic Black F-Cut Rosewood...</td>\n",
       "      <td>4,580</td>\n",
       "      <td>Friday, 8 September</td>\n",
       "      <td>7 days Replacement</td>\n",
       "      <td>Only 1 left in stock</td>\n",
       "      <td>https://www.amazon.in/Hovner-Royal-Metallic-Ro...</td>\n",
       "    </tr>\n",
       "    <tr>\n",
       "      <th>174</th>\n",
       "      <td>-</td>\n",
       "      <td>-</td>\n",
       "      <td>-</td>\n",
       "      <td>-</td>\n",
       "      <td>-</td>\n",
       "      <td>-</td>\n",
       "      <td>https://www.amazon.in/Washburn-Dreadnought-Aco...</td>\n",
       "    </tr>\n",
       "    <tr>\n",
       "      <th>175</th>\n",
       "      <td>-</td>\n",
       "      <td>-</td>\n",
       "      <td>-</td>\n",
       "      <td>-</td>\n",
       "      <td>-</td>\n",
       "      <td>-</td>\n",
       "      <td>https://www.amazon.in/JUAREZ-Acoustic-Rosewood...</td>\n",
       "    </tr>\n",
       "    <tr>\n",
       "      <th>176</th>\n",
       "      <td>Cort</td>\n",
       "      <td>Cort AF500C Standard Series Open Pore Cutaway ...</td>\n",
       "      <td>8,999</td>\n",
       "      <td>Thursday, 31 August</td>\n",
       "      <td>7 days Replacement</td>\n",
       "      <td>In stock</td>\n",
       "      <td>https://www.amazon.in/Cort-Standard-Gig-Bag-Po...</td>\n",
       "    </tr>\n",
       "  </tbody>\n",
       "</table>\n",
       "<p>177 rows × 7 columns</p>\n",
       "</div>"
      ],
      "text/plain": [
       "        Brand                                      Prouduct Name   Price  \\\n",
       "0     Kadence  Kadence rosewood Guitar Frontier Series, Elect...   4,999   \n",
       "1    Medellin  Medellin Acoustic Guitar (with guitar learning...   2,499   \n",
       "2     Kadence  Kadence Slowhand Premium Jumbo Semi Acoustic G...  11,999   \n",
       "3    Medellin  Medellin Acoustic Guitar (with guitar learning...   2,499   \n",
       "4      JUAREZ  Juârez Acoustic Guitar, 38 Inch Cutaway, 038C ...   1,999   \n",
       "..        ...                                                ...     ...   \n",
       "172    HOVNER  Hovner Carlton Special Quality Rosewood Fretbo...   4,635   \n",
       "173    HOVNER  Hovner 215 Royal Metallic Black F-Cut Rosewood...   4,580   \n",
       "174         -                                                  -       -   \n",
       "175         -                                                  -       -   \n",
       "176      Cort  Cort AF500C Standard Series Open Pore Cutaway ...   8,999   \n",
       "\n",
       "         Expected Delivary     Return-Exchange           Availibilty  \\\n",
       "0    Saturday, 2 September  7 days Replacement              In stock   \n",
       "1    Saturday, 2 September  7 days Replacement              In stock   \n",
       "2    Saturday, 2 September  7 days Replacement              In stock   \n",
       "3      Sunday, 3 September  7 days Replacement  Only 1 left in stock   \n",
       "4      Thursday, 31 August  7 days Replacement              In stock   \n",
       "..                     ...                 ...                   ...   \n",
       "172    Friday, 8 September  7 days Replacement              In stock   \n",
       "173    Friday, 8 September  7 days Replacement  Only 1 left in stock   \n",
       "174                      -                   -                     -   \n",
       "175                      -                   -                     -   \n",
       "176    Thursday, 31 August  7 days Replacement              In stock   \n",
       "\n",
       "                                               Img Url  \n",
       "0    https://www.amazon.in/sspa/click?ie=UTF8&spc=M...  \n",
       "1    https://www.amazon.in/sspa/click?ie=UTF8&spc=M...  \n",
       "2    https://www.amazon.in/sspa/click?ie=UTF8&spc=M...  \n",
       "3    https://www.amazon.in/sspa/click?ie=UTF8&spc=M...  \n",
       "4    https://www.amazon.in/Juarez-Acoustic-Cutaway-...  \n",
       "..                                                 ...  \n",
       "172  https://www.amazon.in/Carlton-Rosewood-Fretboa...  \n",
       "173  https://www.amazon.in/Hovner-Royal-Metallic-Ro...  \n",
       "174  https://www.amazon.in/Washburn-Dreadnought-Aco...  \n",
       "175  https://www.amazon.in/JUAREZ-Acoustic-Rosewood...  \n",
       "176  https://www.amazon.in/Cort-Standard-Gig-Bag-Po...  \n",
       "\n",
       "[177 rows x 7 columns]"
      ]
     },
     "execution_count": 32,
     "metadata": {},
     "output_type": "execute_result"
    }
   ],
   "source": [
    "guitars = pd.DataFrame()\n",
    "guitars['Brand'] = brand\n",
    "guitars['Prouduct Name'] = product\n",
    "guitars['Price'] = price\n",
    "guitars['Expected Delivary'] = expected_delivary\n",
    "guitars['Return-Exchange'] = return_exchange\n",
    "guitars['Availibilty'] = availibilty\n",
    "guitars['Img Url'] = url\n",
    "guitars"
   ]
  },
  {
   "cell_type": "code",
   "execution_count": 33,
   "id": "90be979e",
   "metadata": {},
   "outputs": [],
   "source": [
    "# Export guitars DataFrame to csv\n",
    "guitars.to_csv('E:\\\\Datatrained\\\\internship\\\\Guitars.csv' , index = False )"
   ]
  },
  {
   "cell_type": "code",
   "execution_count": null,
   "id": "9889ea3d",
   "metadata": {},
   "outputs": [],
   "source": []
  },
  {
   "cell_type": "markdown",
   "id": "4c5304f7",
   "metadata": {},
   "source": [
    "# Q3"
   ]
  },
  {
   "cell_type": "markdown",
   "id": "f65d73e6",
   "metadata": {},
   "source": [
    "Write a python program to access the search bar and search button on images.google.com and scrape 10\n",
    "images each for keywords ‘fruits’, ‘cars’ and ‘Machine Learning’, ‘Guitar’, ‘Cakes’."
   ]
  },
  {
   "cell_type": "code",
   "execution_count": 449,
   "id": "d1666a6a",
   "metadata": {},
   "outputs": [],
   "source": [
    "from selenium.webdriver.common.keys import Keys"
   ]
  },
  {
   "cell_type": "code",
   "execution_count": 450,
   "id": "b5a26aba",
   "metadata": {},
   "outputs": [],
   "source": [
    "#gets fruits images\n",
    "driver = webdriver.Chrome()\n",
    "driver.get('https://www.google.com/xhtml')\n",
    "\n",
    "#click on images\n",
    "driver.find_element(By.XPATH , '/html/body/div[1]/div[1]/div/div/div/div[1]/div/div[2]/a').click()\n",
    "\n",
    "#put fruits in search bar\n",
    "driver.find_element(By.XPATH ,'/html/body/div[1]/div[3]/form/div[1]/div[1]/div[1]/div/div[2]/textarea').send_keys('fuits')\n",
    "\n",
    "#click on search\n",
    "driver.find_element(By.XPATH , '/html/body/div[1]/div[3]/form/div[1]/div[1]/div[1]/button/div').click()\n",
    "\n"
   ]
  },
  {
   "cell_type": "code",
   "execution_count": 256,
   "id": "ab382cbe",
   "metadata": {},
   "outputs": [
    {
     "name": "stdout",
     "output_type": "stream",
     "text": [
      "data:image/jpeg;base64,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\n",
      "data:image/png;base64,iVBORw0KGgoAAAANSUhEUgAAABAAAAAQCAMAAAAoLQ9TAAAAh1BMVEVHcEwAjpwAj50AjpwAj50AjpwAjpsAjpwAi5oAj50AjpwAjpwAj501vs0zu8ovtsYUmqgrvc4gv9Eprb0Kk6EepLLUe0DJglC6imZmsa9Ot70okbr6YgD6agAELK2MoJOCo5radzOgl4FAv8aHs5wbgbfzZwCwkHEFPcVCS65Lm64tn71sdpuERHHUAAAADXRSTlMA5WFLJ6aSzxf9Zm+xbLC1AgAAAKNJREFUGJVNj9kSgjAMRctO1bR0ZZNdVv3/77PYATlPyZlkkovQjziIPHQhlIImkX+0LlZgEDKw005CQJRlSUFg14hIALzrpR6BAJG7oLDVy7oOjBBI4l1s46eqqmfDDlEM87PNm/wUJM8m3RX/Ffaap6zn/CL6Kc10yq14KGBFqjvdMqD7WRRIAdzAiHLs936UUPOVwrcznIeVkOE1LrqHsS2+KSMNQQ3kAQEAAAAASUVORK5CYII=\n",
      "data:image/jpeg;base64,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\n",
      "data:image/jpeg;base64,/9j/4AAQSkZJRgABAQAAAQABAAD/2wCEAAkGBwEHAQEBAQEBCgkBDQoPDQwBDRsUFQQWIBEiFiAdEx8kKDQsJCYxJx8fLT0tMSk3Ojo6Iys/RD84QzQ5OjcBCgoKDQwNGg8PGjclHyU3Nzc3Nzc3Nys3Nzc3Nzc3Nzc3Nzc3Nzc3Nzc3Nzc3Nzc3Nzc3Nzc3Nzc3Nzc3Nzc1Lf/AABEIABAAEAMBEQACEQEDEQH/xAAVAAEBAAAAAAAAAAAAAAAAAAAEAf/EACQQAAEDAgYDAQEAAAAAAAAAAAECAwcRIQAEBQYIEjEyQRYT/8QAGAEAAgMAAAAAAAAAAAAAAAAAAgMBBQf/xAAiEQABAwQCAgMAAAAAAAAAAAABAgMRAAQhQRIxE5EFobH/2gAMAwEAAhEDEQA/ALl8lGwhGA5Okfc8i9+SLrqG/wAFSmmgL6VUD7XB8KFsVQQniCrdaA5cu+dbbYEIAJncicHXo0o5COTFXIvd2w9z7/K+LjjKHDvKlNSq5/M9APW9PJNsT408SRqlJunfK2lYELBIjUCcnfoUDTdd4xJhHj7EM5QbJL5hRTqgrajnQ5cl5S6pvQ+RYj5gUOo4hKhMU24+PuS+t1pYHKOxOgM4/Ka/rXG9cW8io8hKFZEYM/FpSlbxc7HMEPBdVXoPtgPowanUFKgB3SGrC5S8hbqwQiehGox9d1//2Q==\n",
      "data:image/jpeg;base64,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\n",
      "data:image/png;base64,iVBORw0KGgoAAAANSUhEUgAAABAAAAAQCAMAAAAoLQ9TAAABIFBMVEX////i6fD6/P/v7efMsmfq5trbw4XTt2vUum7bw4Pr5tj29/nTtmjjzpjz8/Lf5PDR1+e+xtzhzp/Qr0/GzeCttcu/xdXg5u7Fy9nS1uLd1b7t6+bQsVn08e7/5+jM0Nzt7/Tkq7rki5/j17f/8PL/l5ZPZaVgdqKnZnNrJ0IeSWgAMn+zwdzYza/n3MPSuXX/q6vRkJ8fO0kAEiYzGzaahK3uhJLZ2NzW1M6tqr0xQ1EAHD0AGkAALl/0rrXCwsHHtoD/x8bQgZDhADS4OzeDdDGqkCfp35TiRELhACTbGj/RorDESkXqgGf0qgDYcAD02IzlfnzlZHPbbH3beCTTUwDuzM+IaZlrZ3m/lE2io8LArb2KlLoAU5UAmbPACjn5DZkGAAAA7ElEQVQYlW2PWVPCQBCEO7uag002UYwQCHElEu9EwQMvQsQDRUVRUfH6///CTemj30NPdVfNVA8gmVY1XdeMAn5hpsVtZ0bhsxrLPS/SOXe+pJS9StXnMvBrwYJwFuu2VykwE4jDpYaIlldW19Y3NmkcIyFbwXaz1dpxd/f220RFgsZB8/Do+CToCDcVKrpBdto7O7+47PeurlPWRZJlg5vbu+H9w2j0mCr5Cpy08/Q8VMZ1F/JGHAKDl9e3/iR65whjwKwx7+Pz63sSle2qLouRYiq1NBZA2yd5d2KoNJ9UNcjfe9SaklgU//EDfXscIrz7yw0AAAAASUVORK5CYII=\n",
      "data:image/jpeg;base64,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\n",
      "data:image/png;base64,iVBORw0KGgoAAAANSUhEUgAAAA8AAAAQCAMAAAD+iNU2AAAApVBMVEVHcEwAcccAdMjkGBsEiaQBg9AAdMgAc8gAc8kMriEFlbYAc8gHqIkAb8YEqOIAc8gCqu8AdMjiIBzncgTvABXofwAAc8kAt1kEqOIArFQCi9QCpuUAqT7/kQAEpuMIqlHnFhkNqVEAslXtbwDndQEBqlHncgPxbgAAqlINqVENqVEEpuMEp+IKqVH/tgD/ugUNqVEAdMjocgPiIRwDpuL3szAAqlKwb0Z2AAAAMHRSTlMAYkyRCiKDVtghF8gpNX+aQfj08Ck78DOpc5HrLxr2lUm5T3iR3d2HvezdmtDzUXeOHxQ1AAAAqklEQVQImT3M5w6DIBiF4aOi4B6dxtq9px/Q3v+lFWzs++PAExIQcZ7CjYUoGWwOUQmXTPDtcDMuzAgEgwViohzTweSbp8Cnv3NzdwIS3HyYOnlMmIrUYcg0svs8K3zWvlDMtda46Wa51MX7/Wy0NQttC4SLJImiBNfO9sGjPztcuu5chy1mh5/rGXCScuJh2xu7o5RyP1ZqjJXxSNpQKaU8sM3PE0/ZqjW+fx0bTeItUokAAAAASUVORK5CYII=\n",
      "data:image/jpeg;base64,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\n",
      "data:image/png;base64,iVBORw0KGgoAAAANSUhEUgAAABAAAAAQCAMAAAAoLQ9TAAAAh1BMVEVHcEwAjpwAj50AjpwAj50AjpwAjpsAjpwAi5oAj50AjpwAjpwAj501vs0zu8ovtsYUmqgrvc4gv9Eprb0Kk6EepLLUe0DJglC6imZmsa9Ot70okbr6YgD6agAELK2MoJOCo5radzOgl4FAv8aHs5wbgbfzZwCwkHEFPcVCS65Lm64tn71sdpuERHHUAAAADXRSTlMA5WFLJ6aSzxf9Zm+xbLC1AgAAAKNJREFUGJVNj9kSgjAMRctO1bR0ZZNdVv3/77PYATlPyZlkkovQjziIPHQhlIImkX+0LlZgEDKw005CQJRlSUFg14hIALzrpR6BAJG7oLDVy7oOjBBI4l1s46eqqmfDDlEM87PNm/wUJM8m3RX/Ffaap6zn/CL6Kc10yq14KGBFqjvdMqD7WRRIAdzAiHLs936UUPOVwrcznIeVkOE1LrqHsS2+KSMNQQ3kAQEAAAAASUVORK5CYII=\n"
     ]
    }
   ],
   "source": [
    "#get url of fruits 10 first images\n",
    "for i in driver.find_elements(By.XPATH , '//div[@class=\"isv-r PNCib MSM1fd BUooTd\"]//img')[0:10]:\n",
    "    print(i.get_attribute('src'))\n",
    "driver.close()    "
   ]
  },
  {
   "cell_type": "code",
   "execution_count": null,
   "id": "adcf98b5",
   "metadata": {},
   "outputs": [],
   "source": []
  },
  {
   "cell_type": "code",
   "execution_count": null,
   "id": "2a66b0b9",
   "metadata": {},
   "outputs": [],
   "source": []
  },
  {
   "cell_type": "code",
   "execution_count": null,
   "id": "62e2c36b",
   "metadata": {},
   "outputs": [],
   "source": []
  },
  {
   "cell_type": "code",
   "execution_count": 451,
   "id": "6960945b",
   "metadata": {},
   "outputs": [],
   "source": [
    "#gets cars images\n",
    "driver = webdriver.Chrome()\n",
    "driver.get('https://www.google.com/xhtml')\n",
    "\n",
    "#click on images\n",
    "driver.find_element(By.XPATH , '/html/body/div[1]/div[1]/div/div/div/div[1]/div/div[2]/a').click()\n",
    "\n",
    "#put fruits in search bar\n",
    "driver.find_element(By.XPATH ,'/html/body/div[1]/div[3]/form/div[1]/div[1]/div[1]/div/div[2]/textarea').send_keys('cars')\n",
    "\n",
    "#click on search\n",
    "driver.find_element(By.XPATH , '/html/body/div[1]/div[3]/form/div[1]/div[1]/div[1]/button/div').click()\n",
    "\n"
   ]
  },
  {
   "cell_type": "code",
   "execution_count": 453,
   "id": "05d693a9",
   "metadata": {},
   "outputs": [
    {
     "name": "stdout",
     "output_type": "stream",
     "text": [
      "data:image/jpeg;base64,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\n",
      "data:image/png;base64,iVBORw0KGgoAAAANSUhEUgAAABAAAAAQCAMAAAAoLQ9TAAAAUVBMVEUYFxYAAAD///8XFhUSERB+fn7JyciQkJBKSUmNjY2EhISKiYkFAwCFhYTu7e14eHjk5OSbm5pPTk7c3NzU1NQ+PTzOzs4vLi719fUdHBuurq5Tz1SxAAAAcUlEQVQYlYWP2w6DMAxDY7d0tNAyNugu//+hRAJCHybNbz5yEkfkhzwOnb6PXZeGIeVxB84nMuRYCHcQkDedMCAojAomMXBnwvywgODJJXD1dlcTGbVvQNGl68td4M0Z/vLjR3vArDYNtS7flrSP/NcGpFAC8GL61hcAAAAASUVORK5CYII=\n",
      "data:image/jpeg;base64,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\n",
      "data:image/png;base64,iVBORw0KGgoAAAANSUhEUgAAABAAAAAQCAYAAAAf8/9hAAABO0lEQVQ4jaWTMaoCMRCG/wnvDtELmHaxdAmIXcheZA9hYeMNxNZqsc81lu0X+2VLTzBj8V5C8uQ9UAcG5k+YP5kvhPATzCx4IZRSBAD0TnNuQu82J5NPmgFADcMAay2UUjifzwAA733S8zzDWgtrLeZ5xvV6xXK5hPcet9vte/5pmoSIJIQgURtj5HQ6CTOLc06maRJmFmaWuq5TjVg454qNrutEay0hBDkej8V6NC4M+r4XANL3fdo0xogxJul4UK4TxPV6Decc9vt9ArTb7XC/35MehgFVVZUUc7cQghCRjOOYTtNaS9d1wszStm3BgpnlKzfz3mO1WuFyuWCz2aBpGlhrcTgcsN1uAQCLxeLvG0RIRJRmjS9U13XB5wlinlrrgnTbtk/w/jWIDPL8PXvMzz9TzuLVZgB4AExRsO8ga8hoAAAAAElFTkSuQmCC\n",
      "data:image/jpeg;base64,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\n",
      "data:image/png;base64,iVBORw0KGgoAAAANSUhEUgAAABAAAAAQCAMAAAAoLQ9TAAAAMFBMVEUApP8Aov8AqP8Anv////8ApP8Aov+85f+By/+j2f9fv//e8/9Gt/+T0v8tr//t+f44+btAAAAAA3RSTlPq7jJWKR5KAAAAcUlEQVQYlX2Pyw6FMAhEicOzber//+0Fq0Zd3FnQzKFMgDaSh2ijl0/y8UmOqgrVB1DxcMEN0LjkWEBPzzwArR/Gl3YTJfR8l7edDQTuGPOYGNkEqY/OLcyicW+uFRo8kZocK1QqvLYB7k3/HEP0Pf8HxUUFSpCwwwYAAAAASUVORK5CYII=\n",
      "data:image/jpeg;base64,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\n",
      "data:image/png;base64,iVBORw0KGgoAAAANSUhEUgAAABAAAAAQCAMAAAAoLQ9TAAAAYFBMVEX////z8/Pr6+uxsbH5+fnEw8Pl5eXT0tL8/Pzo6OjY2Nje3d0VDxEvLCwtKiu8u7yDgYKXlZZ3dnalpaU4NTZFQkPOzc0+OzxiYGFsamtQTk5LSEmenZ5WVFUAAACOjY0mCJSsAAAAdElEQVQYlZ1PyxLCIBDbwMJCUVtEqG1R//8vpVVHvXYvecxkNiHac51SH/YCHd6EDkdeQU79EHFOF5NLbNqOWl8nNZvFjHZoRpWSb5nvy5RnH7dokaTr4+cNM8BfCWdBAIkDOzTDlC556UO1PgX9XxG7htETYfIESZ4PyDoAAAAASUVORK5CYII=\n",
      "data:image/jpeg;base64,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\n",
      "data:image/png;base64,iVBORw0KGgoAAAANSUhEUgAAABAAAAAQCAYAAAAf8/9hAAADIElEQVQ4jV2TW2hcVRhG1/733ucyk8vYJKYNISUJ2lhDFQNqiVARhII0IvZJEKUgIiiCF1AjDIPoSwWJmgd90BdBKChVxEDFaKm1VRrREqiFYqidqGlMOs11zsw55/ehF4rrfX3wPSzDVcrlslQqlRzg0CFsb3ffHXFkBwOnUWB1Uevp7K33zlcBtIxQQQ2o+b/87dTgmHfZs4GXkTCiFBURp3kSelv1oX7h25J3OjvnqwoGwNwof/LZY5Wewonxjk6xpm5Jz0DxlpzWfogiJQwM9bX8tEWfKvXN/axlxFy7cGBy4qX9A98d7G45Tm6KWeBF64dF9QhseTUn6sKkZ8V1DTq4PfndRc19cal6TgB4bequ/mJtvKM4S64kQeyJ29XFO4w3C9avv+V97QXv1t+gsdZoakuHHzJN/zrAlYHWlce3b1kvWc7lPio4m4qtnzLamEZdQdXUVPWiavyoBMXhPCXJQXm4sTg44nj5h9Y+Pz/aFq4ShKCrzmx8j+YfOcSAD8FuVcwFQzYDjfNi8puUIJRSmumoYGtddeu6rbV4h7oA07obOj9O6Xg3Ixi5Irudiv4JtYNiGv+AiQwGtjtCJxfVyIZ24CyYUo7fqgSx4lTJZoTGCeh4JSfoMmycUpLzhqgXRNS63jaWq8TLcxsDvSOCcTZBsgibNRBrcO3gDyjFYcXHStyjKqmFBijZ31J9ce8yVn45fKmff+tPUgj/UmutMaaAYIiHctofShGnaF1AndoWyJrZplXzkwBsi7JPT9Zc9tWFRyTJ7kyL8axaUSMmNsVdkYm2FwxZwSiaiq4IfhUj2VG+ufsY15n88X0+OKNvf/m5Vs892EgukiaLpMkSaXOJNLtEU2s0tdmtawsPLG8s3T8KYCmrcLSiY3v2HTtro/4ja33DjZV7bMnulGLQLoH1ItIiypBs6pic/mNv7dfq7md23TYxBVeDoKxCxeTPTXwdvme2PU8WPo1n4InOTYbbV2hzCZc3NTm/VpyenLv5TcaHjl+L8HoL10YA9nz4W+/RVX8fmewgtxGpW+ByMMN0z0lmTPPGgv8Dk0JevLubBwYAAAAASUVORK5CYII=\n"
     ]
    }
   ],
   "source": [
    "#get url of carss 10 first images\n",
    "for i in driver.find_elements(By.XPATH , '//div[@class=\"isv-r PNCib MSM1fd BUooTd\"]//img')[0:10]:\n",
    "    print(i.get_attribute('src'))\n",
    "driver.close()    "
   ]
  },
  {
   "cell_type": "code",
   "execution_count": null,
   "id": "dbf862ed",
   "metadata": {},
   "outputs": [],
   "source": []
  },
  {
   "cell_type": "code",
   "execution_count": 454,
   "id": "3b9f78b2",
   "metadata": {},
   "outputs": [],
   "source": [
    "#gets machine learning images\n",
    "driver = webdriver.Chrome()\n",
    "driver.get('https://www.google.com/xhtml')\n",
    "\n",
    "#click on images\n",
    "driver.find_element(By.XPATH , '/html/body/div[1]/div[1]/div/div/div/div[1]/div/div[2]/a').click()\n",
    "\n",
    "#put fruits in search bar\n",
    "driver.find_element(By.XPATH ,'/html/body/div[1]/div[3]/form/div[1]/div[1]/div[1]/div/div[2]/textarea').send_keys('Machine Learning')\n",
    "\n",
    "#click on search\n",
    "driver.find_element(By.XPATH , '/html/body/div[1]/div[3]/form/div[1]/div[1]/div[1]/button/div').click()\n",
    "\n"
   ]
  },
  {
   "cell_type": "code",
   "execution_count": 455,
   "id": "7b1cd3c8",
   "metadata": {},
   "outputs": [
    {
     "name": "stdout",
     "output_type": "stream",
     "text": [
      "data:image/jpeg;base64,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\n",
      "data:image/png;base64,iVBORw0KGgoAAAANSUhEUgAAABAAAAAQCAYAAAAf8/9hAAACaklEQVQ4jX1Sz08TQRT+ZnZ2t1va0tIVELQBDEr1AhIVCPEHiYkxEQ1qSNR4Ug/yD2hi8C5X48UDmsiBGOOhIcaYqBH1QIyKjQr+ACkYkFKgwLJdurPjwZZQbX3JJC/f971v3nszEEKg0Lnxfvna6xmr9X+agsTAhHk80DvNd/b/is2ZPFhIR5EnbEdIo4t22KeQZEClicGZtUP5dADAssmdUePigiX0jSSBEBqDGZ1P10fn0/VZvLNGu7fdz0YAgAghAAB7H8Y/fU3ycKGbNkZfm7/9aMgVAZA7gq7S2ZYy+TkAp7ZY+ixTpCrcdOpwpTKgu+hsufYn3+Sis9maHIPmMvlFX1vgBAB6ukbrq/JKPxp1eainyde1r1R+1aDLb3uafF27SuQP/+wAACIx69QqX3QDgExhZ7COSMzqyGoeTVrtG0fIMQAARgj/G9MkrDoAdQRIESOGQomdt4PdQTZ0Key++XjKOpbFiBBcY9SodNOpWr88cnt/8RlKyHpNzg5CXjZ+sEJ5AsAxbaFaHOqRkCvCBVh0gTfEVnhV//fU+Z8G35LXAAAoIaLaK431DBvdsRVe3VKmDF6p91wHgDfxdPPll8m7w4l0Q0EDAOhu9F5lFPY2n/TlbK3We6HOfSvsZ9F82vWP9GDM7NQ1Gj+wWX0KAImUoxcxsuxixAKAkYV0+F3C3gMAreXKs60eaRIAyJzJg5knEwCgUGI5gJRpj685QqYEToazDVt4CMBFRsPuj5nnEiknWOdnH78t8R0BlSSSa6IkqNI5r0ySpW46HZlInfTKdMknk6UVW3hNW2hFjBghjzT+G9aVNsWSsbuQAAAAAElFTkSuQmCC\n",
      "data:image/jpeg;base64,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\n",
      "data:image/png;base64,iVBORw0KGgoAAAANSUhEUgAAABAAAAAQCAMAAAAoLQ9TAAAALVBMVEVHcEweTZweTZweTZweTZweTZweTZweTZweTZweTZweTZweTZweTZweTZweTZwL8kxXAAAADnRSTlMA1bY061N3puAca8WZD+NflzoAAABjSURBVBiVVY5JEsAgCAQV9yz9/+eGiKZIX5RmajQEQ3IJngTxJwQYbr51pjlxQQcnQAoc31whqcwuoPf2WsPS+rIssfryrtXVtZrqFOf+ExYZcFpUa4sdUSbRVvwY4ejR0esDDvQEs3WW8lIAAAAASUVORK5CYII=\n",
      "data:image/jpeg;base64,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\n",
      "data:image/png;base64,iVBORw0KGgoAAAANSUhEUgAAABAAAAAQCAMAAAAoLQ9TAAAAYFBMVEUsWnv////R2+AmV3lsh5srWnwZUXYgVXUnWHkKS3K8yNCHnq8gU3cjVXfBytJEaYVKb4l4kabk6euktMB/l6lffpT19/iZq7fs8PG2xc0wXn4vXn9lg5jN1dz7/f6Tp7Wa3cIjAAAAZ0lEQVQYla2PWQ6AIBBDGVlEAdEZxwUX7n9LDfx4AJv0oy9pkwrxm7Q27ScIabve+RAqMM0QxwnJuLlkyYC8IKz9tqdCusUl0A0pwMOWyoYnXDflFbitHYqcFSuagq4r3kof5OufTjw0LgRw0D7SLQAAAABJRU5ErkJggg==\n",
      "data:image/jpeg;base64,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\n",
      "data:image/png;base64,iVBORw0KGgoAAAANSUhEUgAAABAAAAAQCAMAAAAoLQ9TAAAAUVBMVEUYFxYAAAD///8XFhUSERB+fn7JyciQkJBKSUmNjY2EhISKiYkFAwCFhYTu7e14eHjk5OSbm5pPTk7c3NzU1NQ+PTzOzs4vLi719fUdHBuurq5Tz1SxAAAAcUlEQVQYlYWP2w6DMAxDY7d0tNAyNugu//+hRAJCHybNbz5yEkfkhzwOnb6PXZeGIeVxB84nMuRYCHcQkDedMCAojAomMXBnwvywgODJJXD1dlcTGbVvQNGl68td4M0Z/vLjR3vArDYNtS7flrSP/NcGpFAC8GL61hcAAAAASUVORK5CYII=\n",
      "data:image/png;base64,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\n",
      "data:image/png;base64,iVBORw0KGgoAAAANSUhEUgAAABAAAAAQCAMAAAAoLQ9TAAAAYFBMVEUsWnv////R2+AmV3lsh5srWnwZUXYgVXUnWHkKS3K8yNCHnq8gU3cjVXfBytJEaYVKb4l4kabk6euktMB/l6lffpT19/iZq7fs8PG2xc0wXn4vXn9lg5jN1dz7/f6Tp7Wa3cIjAAAAZ0lEQVQYla2PWQ6AIBBDGVlEAdEZxwUX7n9LDfx4AJv0oy9pkwrxm7Q27ScIabve+RAqMM0QxwnJuLlkyYC8IKz9tqdCusUl0A0pwMOWyoYnXDflFbitHYqcFSuagq4r3kof5OufTjw0LgRw0D7SLQAAAABJRU5ErkJggg==\n"
     ]
    }
   ],
   "source": [
    "#get url of machine learning 10 first images\n",
    "for i in driver.find_elements(By.XPATH , '//div[@class=\"isv-r PNCib MSM1fd BUooTd\"]//img')[0:10]:\n",
    "    print(i.get_attribute('src'))\n",
    "driver.close()    "
   ]
  },
  {
   "cell_type": "code",
   "execution_count": null,
   "id": "6e4f0d39",
   "metadata": {},
   "outputs": [],
   "source": []
  },
  {
   "cell_type": "code",
   "execution_count": null,
   "id": "9e91d253",
   "metadata": {},
   "outputs": [],
   "source": []
  },
  {
   "cell_type": "code",
   "execution_count": 456,
   "id": "436aaf8d",
   "metadata": {},
   "outputs": [],
   "source": [
    "#gets guitar images\n",
    "driver = webdriver.Chrome()\n",
    "driver.get('https://www.google.com/xhtml')\n",
    "\n",
    "#click on images\n",
    "driver.find_element(By.XPATH , '/html/body/div[1]/div[1]/div/div/div/div[1]/div/div[2]/a').click()\n",
    "\n",
    "#put fruits in search bar\n",
    "driver.find_element(By.XPATH ,'/html/body/div[1]/div[3]/form/div[1]/div[1]/div[1]/div/div[2]/textarea').send_keys('Guitar')\n",
    "\n",
    "#click on search\n",
    "driver.find_element(By.XPATH , '/html/body/div[1]/div[3]/form/div[1]/div[1]/div[1]/button/div').click()\n",
    "\n"
   ]
  },
  {
   "cell_type": "code",
   "execution_count": 457,
   "id": "f4ce0373",
   "metadata": {},
   "outputs": [
    {
     "name": "stdout",
     "output_type": "stream",
     "text": [
      "data:image/jpeg;base64,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\n",
      "data:image/png;base64,iVBORw0KGgoAAAANSUhEUgAAABAAAAAQCAYAAAAf8/9hAAABO0lEQVQ4jaWTMaoCMRCG/wnvDtELmHaxdAmIXcheZA9hYeMNxNZqsc81lu0X+2VLTzBj8V5C8uQ9UAcG5k+YP5kvhPATzCx4IZRSBAD0TnNuQu82J5NPmgFADcMAay2UUjifzwAA733S8zzDWgtrLeZ5xvV6xXK5hPcet9vte/5pmoSIJIQgURtj5HQ6CTOLc06maRJmFmaWuq5TjVg454qNrutEay0hBDkej8V6NC4M+r4XANL3fdo0xogxJul4UK4TxPV6Decc9vt9ArTb7XC/35MehgFVVZUUc7cQghCRjOOYTtNaS9d1wszStm3BgpnlKzfz3mO1WuFyuWCz2aBpGlhrcTgcsN1uAQCLxeLvG0RIRJRmjS9U13XB5wlinlrrgnTbtk/w/jWIDPL8PXvMzz9TzuLVZgB4AExRsO8ga8hoAAAAAElFTkSuQmCC\n",
      "data:image/jpeg;base64,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\n",
      "data:image/png;base64,iVBORw0KGgoAAAANSUhEUgAAABAAAAAQCAYAAAAf8/9hAAABy0lEQVQ4jY2TP2hTURjFf09zM1UbcGmID9xEFEyyCTo1b6uLxuCS1e4Fg4tuIlhczMMti0NwadOho9DNf7wpCCYdDEL7njWgiU87NOBxeGmavryKB+5wv8t3vnPuuRdJaUnPJO3o/7Ez7klbkp4AD5jC9vY2jUaDz70elmVxc2mJarVKAlaRFExTe56n08YoFVu1Wi1JSYCkwXTl3vKyUsao5DjqdDqT/XnbTiIYWJIGwPyhpiAI8H2f4XDIzzCk2WzSarUAGB0cxC0MZxR0u13li8UZCyljEhXMENypVJQyRvliUb7vq+66/yQ4Fdd0KLdcLpPNZmm325OzMAxnc4gryBcKk4klxzmWSN11T7Dw259UPM9TzraVMkY521bddVWuVLToOAq/B/rTeSl9WInWJIXNy/NcX4fMxaTHcoSt2zB3AdIZ+PQI7mqcwu5r6RXS+xUp9OMyj/BrV+qtST860tq52Dv40oJ3t6JJmRuw4IA5CwIsC/a2YG8Drq1H9f4buPpwaEkKgAUA+h58fAzfNqJGxv0Ac5eg8BxyJRiN0zBnvlqSngL3j3kddKH/FkbDiCFzBXKLSbeyiqLv/ELS/snmZ7A/7kn/BXFbL8ajtAhKAAAAAElFTkSuQmCC\n",
      "data:image/jpeg;base64,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\n",
      "data:image/png;base64,iVBORw0KGgoAAAANSUhEUgAAABAAAAAQCAYAAAAf8/9hAAABtklEQVQ4jZXTP2gUURAG8N9dUoQguRAl5aIih0UKqwhyRZQgyIplSCFWh0WwEEmxCIJYyCIpUkhAuMrSxiaLECyPICFFighiofLKQ1CCgsQ/WNycnCRBHHjMe9/OfG923jc11AxZnhWzaGMe0wH38BKdKpVbw/G1AUGeFRNYQwsrWMdkxH3GVSyji6UqlXt/CCJ5A7u4VaXyW5CuQpXK23Eew2PM4HKVyr3RuGENu1Uq2/62H8OHIG7nWdGJnOu1PCvO4xnO4lz4p5Ez+N/Z8DfwBjvhF0aajdZ9PMcrnMJF3MMvHMcnHIvSf+It3uM7rtSj2+uYwgOM4y4WcTrWYmDjETMVOfOjmK5S+SFKnMuzYgGrcVMW+LvAHlapvBnYxzwrpusO2s4h2JHf6ujlWXES8qw4o6+BHX0NfIk1GdhKxIic3kiz0ZpBo9loTWAT23gdfkxfhS+CaAJPmo3WJi7gax0dfYWdwCW0q1Q+CoKBbQfWxlzELqNTD213MV+lslulcv+oBlSp3K9S2dV/uW6Vyq2BEpewEQobSDlFdWJ/QMr8Y5gGzxsNu4Y7Dhum4TL/d5x/A7x8nontSSrPAAAAAElFTkSuQmCC\n",
      "data:image/jpeg;base64,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\n",
      "data:image/png;base64,iVBORw0KGgoAAAANSUhEUgAAABAAAAAQCAMAAAAoLQ9TAAAAOVBMVEVHcEwTExMSEhITExMTExMTExMTExMTExMSEhITExMTExMTExMTExMTExMSEhITExMTExMTExMTExNKiOpRAAAAEnRSTlMA7iu2PG+Sex+owdNhTw7knYdAtcXNAAAAh0lEQVQYlTWPWxLFIAhDaX1QtdXes//FXhSbD4ckQ4Ii5RBHjymdIi/voleA1lCBNHmGLNM2QW1ocE69DqkEkQOuyW+GRJs/P4E1KIbb6DOoNNfJuULpmZ8JxXJVb1vqHrUWFwLFXkstzh/wqnWJ3Qpx6zNJTnj8T56h29+1A0KXD7HUoNcmf/ZRBycuxgqpAAAAAElFTkSuQmCC\n",
      "data:image/jpeg;base64,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\n",
      "data:image/png;base64,iVBORw0KGgoAAAANSUhEUgAAABAAAAAQCAMAAAAoLQ9TAAAAeFBMVEUyZpo3aJs3aJo4aJsyZZo7apszZporYZcpYJYlXpU+bJwvY5ddgKiBoMCUscqYssyRrsysv9WfuNBLfKdljLN2mrxeh622x9lbhK3R3ere6fHr8vdPe6lFdaQcWZLc5fG+z+H///8AS4qHqMbK1OG0w9mDn72kvNOxX+TYAAAAzUlEQVQYlR2PC4+DIBCEh8eigC1CpQo+79Dz///Do91kky8zO5ks8BnZtG0rvwhjiXj3eLq+IyJL6PwmbXgN8d0baNdBj1MrWcrzvNh2ujTUmsMWdu+vsPkzKiCPA+XbPd0xrGdaoWz50cmXvuTf2RmFJh6n1uN5H2JLwTe19v3McclpirkUzSHt8PAlnN6HK0bLQbx5/XmXj3IvgwYDGFOKb3tajVIkGURdSXpPphHgjH8uGLjOyQh8XSVqjllXPxEVOZQCVclaKSoz/g8NTA3EMgY2uQAAAABJRU5ErkJggg==\n"
     ]
    }
   ],
   "source": [
    "#get url of guitar 10 first images\n",
    "for i in driver.find_elements(By.XPATH , '//div[@class=\"isv-r PNCib MSM1fd BUooTd\"]//img')[0:10]:\n",
    "    print(i.get_attribute('src'))\n",
    "driver.close()    "
   ]
  },
  {
   "cell_type": "code",
   "execution_count": null,
   "id": "3bf70528",
   "metadata": {},
   "outputs": [],
   "source": []
  },
  {
   "cell_type": "code",
   "execution_count": 458,
   "id": "6625ca95",
   "metadata": {},
   "outputs": [],
   "source": [
    "#gets Cakes images\n",
    "driver = webdriver.Chrome()\n",
    "driver.get('https://www.google.com/xhtml')\n",
    "\n",
    "#click on images\n",
    "driver.find_element(By.XPATH , '/html/body/div[1]/div[1]/div/div/div/div[1]/div/div[2]/a').click()\n",
    "\n",
    "#put fruits in search bar\n",
    "driver.find_element(By.XPATH ,'/html/body/div[1]/div[3]/form/div[1]/div[1]/div[1]/div/div[2]/textarea').send_keys('Cakes')\n",
    "\n",
    "#click on search\n",
    "driver.find_element(By.XPATH , '/html/body/div[1]/div[3]/form/div[1]/div[1]/div[1]/button/div').click()\n",
    "\n"
   ]
  },
  {
   "cell_type": "code",
   "execution_count": 459,
   "id": "726aa9a8",
   "metadata": {},
   "outputs": [
    {
     "name": "stdout",
     "output_type": "stream",
     "text": [
      "data:image/jpeg;base64,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\n",
      "data:image/png;base64,iVBORw0KGgoAAAANSUhEUgAAABAAAAAQCAYAAAAf8/9hAAAB9klEQVQ4jW3TS0jVQRTH8c/8vWVZdtW6hFoaKtFDMQILF6VERatCaBMtol3gohZFizZBuzZtioIggha1j3YVuSmIFkFg9KAXVKZkaT4wr3da3P8t76UDwzBnzvnOb87MCXDlUZ/UqlGLAexADXrT+Tau4TXiYP8QCGlygm04jp3oxHLlVsBbnMedEqQE2IUr6CpFR1GMBUEQQrIYNIazuIV8JpV3qjJ5ZXVOU7bb7O8fPk88F2OhtJ3DJazB7QRVKeSf1kLe6hVt9m46Z3vLUUFYDIAsjqA2QTd6/u1FjdkuG1b3CiFYWZ2ztemgxmwX4mLIRmxOsB/1f9Nj1J7r09k0gCBbs96ujpPac31iLAOswL4MDim+AgghGP56T74wp6f1mPGpd55+vOnnzKfKYkJrBg3lvmB8+r1vk8MiZucnfPz+2EJh/n+AhgRfKr0hJEIqKgkJQmUI5NGc4EFldaAQ82JcUFfTonvdYU113ZUhEd8SxS/6rlLB+MwHI5PDli+t19t2Qtua3ZVPWYWHGbzAZVzEkmIVgum5MfdfXrB21RaZZJmxqVdCKLvKE1zNpIvrqaQzaE51+DU3anJ0JF2FQlrEJD30NN4Hyrpxj+K37sOq1DeBzxjFVrzBSTwrglNbBKnBgXRExa4M6MBd3MAIDPYP+QMzb5frhsRazQAAAABJRU5ErkJggg==\n",
      "data:image/jpeg;base64,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\n",
      "data:image/png;base64,iVBORw0KGgoAAAANSUhEUgAAABAAAAAQCAMAAAAoLQ9TAAAAY1BMVEWZJh6ZJR2SAAD58fDkyceTAAD///+XHxacLCSYGQr89POPAACVGQ6vWlWVFwuXHhXIiobSpKG8d3OmQzzt2NaWEgCgMSe3bmnAgn/26ejhw8HNmpeqTknw4N+6dHDhvbqjPDVkZeSFAAAAmklEQVQYlU2QVxKDMAxELRk3kBsxhkASuP8pY1MG9CW9UdkVY2cAwJUq740Cbbw+axtC7N2rTfrowSS61BPyBo/ZQWYaJxIXYPieO23VDdwkF1TsBgxnGfABQIkkrd9BPQP6U+a/+ACLcz8JFVAoBHyD4GWuAFe369iGzEUR1m2tqKZiHKOlIr3nXNQlZshUzZF25nQMh/39A39eFwaqhIJRoQAAAABJRU5ErkJggg==\n",
      "data:image/jpeg;base64,/9j/4AAQSkZJRgABAQAAAQABAAD/2wCEAAoHCBUVFRgVFRIYGBgYGBgSGBgSGBkYGBgYGBgZGRgYGBgcIS4lHB4rHxgYJjgmKzAxNTU1HCQ7QDszPy40NTEBDAwMEA8QHhISHzQrISs0NDQ0NDQ2NDQ0NDQ0NDQ0NDQ0NDQ3NDQ0NDQ0PTQ0NjQ0PjQ0NDQ0NDY0NDE0NDQ2Mf/AABEIAOEA4QMBIgACEQEDEQH/xAAbAAACAgMBAAAAAAAAAAAAAAAAAQIEAwUGB//EAEIQAAEDAgMFBQYEAwYGAwAAAAEAAhEDIQQSMQVBUWFxBiKBkaETMrHB0fAUQpKiI1JTBzNygrLhFkNic8LSJIPx/8QAGgEAAwEBAQEAAAAAAAAAAAAAAAECAwQFBv/EACwRAAICAQMCBQMEAwAAAAAAAAABAhEDBBIhMUETFCJhoQVRkTJxgbEVwfD/2gAMAwEAAhEDEQA/APRAmCohMLwkzpYihSSISGQJU2oypoSG2MpBBKYC0u2SMBCaYC0SFYoUVNRASaCwQAhOUWImEnIlIobAJSQ5NoUlEmpoShUSNMJBNCAEICcIoAQgJIAaiVIKJQwCUJQkkBhagJoasUWxoQpQqomyKiVOFEtTaGAU5SATAVJUAkwVFSVRYmBKjKHKIUybsaRKUAoSCTYUZESkiU7AAphQCyBCJGkUwlCpgCYSQgBymopkqgAoKESpAYSKGlDkdgCUKMpKSjEm1RCJUIGTRKgXIlOwJEpEoKRCGgQ82ilKgApIVgwBTCITWiVEiekAm5DVLfI0hwokKaIQxihEJwgKQG0KQSapK0JgoLIVFNghSglBSSECyLGsiENkSUinCTkMEMIhDQpJJWDIQkpyhPagtldCiE5WSGIi6IumSpAKoxsGCiUylCcn2QJAFIJIBQmOiSSYTCp8k9CJSaVIqIWb6lroTTSQmgCUBOEAJoljYVMKDQptVxEwUFMpEJsSIoSTUNjoFMlQCkE4gwQm5IFNghtCCUApynaoKCEJShK0FFUIlQa5BKwvgqicqbViCm1VGQmhlCCUJgEKQSCk1WkKyUJJlRVMSYlIJAKQU0UIoKkQlCTQrEE4Ug1OE0hkYUwEwpKqJIQk5TKiUMDGhTKQYoooiFMFIsRlVdCQJRCA1NKrKBoQQmEFVt4FZFCnCEtgWUQmVElJpWIyYCnCxysgTigkxFAThIK0hWSCm1QCkFaExlARCk0IYIIQAoYmqGNLoncBIEk6CSseBxR9q9jpIa2ZjXfYeaSatJj7FlYhWB0BImM26eqvuptqtII3nSxtvBWjxtVtMOaQ1uUiXAgkXsXD3hNtbKc+6K3LoOHqddzZ0HNdLi4RG699PFWXUAZym41C5LC7XayuCajDTDMsNeDLjJkMEnfqYUz2ly1HOa3M2LXubb9bSpjqIqC311/n9zTy+Rv0o6N0DUx1Ta9psHDzXK19vVHEzSymwdOYG3Fs8LKi/GPcDJBB70GTdYZNVtl6Vfwax0k2jrq+JyvDNIAe5xvYnQDwWehjmVC4ZYyzHNoMEjiuFo4mo15c14uR3A0logjdJmeHkrGD2hWp5iQ1wcXOaIyhubUNvoqjqhPRzO1q0wG5mmRbXnA+aRcBaDwnmtFiauIpiBTL2Oc1vd3S7K3XnztaSJWSpjqgcabqT2nI59hM5YnK7Q66AnXcrlOSd7Wv6MVD3NxSIc4tB0ueA8dFJ9MjUfRc/T2i1mVti8C7RPca6CGg6OPPmt7SxOUNzOBc42DRoCRYnf1WmLLCad8NESi0yTh6iVFW6tMEwLEX5cVTIP2QtpLaSuRoSUgERVgwQhCqhWa94ssRMBZkBq45Rs0uiNJnNZwsbGwpyqjwJkkkIC0uxDUgkmAgCQUmhIKTQnQ0c12r2sxrmYfMWudke57TdjHFzZ/aT4LYbHqMY7IXGKbAQSbuAsXPPiL81wf9p1NwxTHTAdRYGkHXK95dPD3vguVpY57DINyMpsJvYid40seCna07R0LHGUVzR7js/aQfTzhwMuLgW3sSd/BKviA+HNcQRIMy0k2i4Fx4FeQYDb72SWkidchyT1A36K2e0r3fmqc++SOUx9/BYyWWqNFp1dpo9Qa72hEuBzWc2GloEiSSWyRG42ustLZmFIcBTBiAXSZNwYDpkCw815hge1T6TXBjiWk3LyXXPlbRdNW7e08gFOnDnCXB5EawWtIgu8Y10WsOF6lz7r+jOWLIpVHp7M6raWx6dVoynI4DulsGQBADpuQOAPyXOVtk12/8tjtJyOgxvHeAkxKwVe3bHMAEsc0wS1rXAjhE2vCoHtIMxf8AiHyblrmsIAAFxew6QssyjJ2l8G+COeKq/wAnbYxjwypkDIGVzJEzJ74eI5QI0B5LVU64e9rSxueAJytzMi5Gbhmm5Wnb2rY5jgTmDtQczLDS4JLZ4grTUcVhaZdWomtTc4QWS17HZyLEOE8+PSSlKLnV2vYlYZxTR6lgsQXkNEZWnI6YnM0TAi3OVYqUW1Wwdxa8EEgggyCCLjhzBI0K832Tt1+HrOJc5w7zCxzQ2HD+XKJnS0HXotxgu0FYyBHeLXDKG93NuG7LNtJsumORxS3e9/6MHpZt8V+S7j/wwc6oS1tRpILS5zRmBNyAJ1iYB8VRbtr2bmuDM4aw5fYju5iD3QXkFxsL6fKgcTnNRzsrnF0teQRIPSBaD/8Aiw03EwYIzE2IuRw9QL3suTbcrSrn/rOtaZJepnaM7RUrOOZsw0hzbtJsJ5E2sqmx8ea2c6tzOLXREtJJaCOMQehC0jqQcwBpLYl0tgjM2YDptl5/Nbvs40CjAAABIAG6wstlklJqL7GWXBDHBtdTaAKRQEFdEeEcLBCSEWIogqUqEolctmrRkCAkE5VoglKJScgIbGhgrK1YgsjU4sGZApNUAptV2I5/tnsVmIpiX5arA409CXTEtIJEjQ8l5TidmVmkh1I3zQW3ByCXEco6L2zaNOcpMFvBw0PGfvRa7EYBhOcjK6SQ4CWgkQ6eRspbknZrDJtVHjQpkAi5JAdrcyNeM8Oiiypudb4x53GnqvTML2UaXuc/IWgAMBEjPmDg7l7sab/MZ2UY+o9zqZYAXOaLuaS43kAw5nvW1EjRCm+6NvGR5uHEgZYiYkd02EjT4+iQI1vO+LX1ABB5Lpu0PZqs14bR7rHOAL2gENaT3nZwJABvx6rpn9h6Ps3EMdMAw1xJDhrlnVrvGFd8cA80TzSJi/DSdNAN/BZcsFuhvzMxcRN9Qt/sLspUe57awqWcWtbHs3ObaXtJbBPAdVutodgS2g99N73va0lrLyR/JaHNMcE7V0hrNFdTjaUmCbAy4jwl3HUfFZRSzCQ4QIJEB19QWneL267t3ZbF7EMqNl73z/0Pu2RBGUtEa81kxHYh1KqSDnoZQQbFzT+Zr2yM0nQtAtrzm7juV0X48bpnHtgzvbq4C9hEkAG5g36EWiVsKWNe1uQEyCHMdEtJEExaxyOtMaDqPQmdlcPUoloY0EwQ9ktcHAg3vMGIIm4J4rJsfZDKRg0wCIlwykTAkaaTvSlbStcMlamKukcG6XNDXMnvZ7gXJOaYN9QL8uC2OHwj4uwhxkNLomXGSRPAj7su5fsxjX52sAklxAEDNcucYveytVcG14abBzdHAAmN4BOgKPCbbXf+xPW8Lg5vZ/Zh5IL6kN17t3EH8pPieO5bt2GbSAaPdAt0nfzWypSLfG6q7SN2/W3lxW0scY47XU5ZZpzl6nwVw9GZYwhYqToXBOUlGUI3DKqiUBErmZYB0alTY8G4M9Fjc0G27QrWZzhn3vTeYB4Hgeahzar7Ao3+5uk06bC4BzRINwVl9g7guhQlLlJmdpGMKYWLFVmsEvMdLnyCxbJzPYXEzfeUqlGSjTt38D6qy60KWcDUqliMTDiwHSJO+4n4LE0rVL7knOf2jY97RQ9m9zDNR2ZhLTIDBqORPmub2d2wxNJ7c7/asgyx2UOvFw8CZHPn4br+0Vn8Om6D3XOaSDYAtkmP8ouuCY2YggyZJJHGB6Itrk7cUIygk0ei0e32GM5qb27jna2/LuyVsaPa/BWIqxyLKjSORABghedYbZWaQdeXEEf7+ap1NnODnNyyW313XsPvcpWSLfUb0q7Hrx7R4NwBNamc1u9lnTQzBHilgu0uGe4U/agkkhu8E8A5v1Xk+GwhLTOYGct8ouJMa3FzuVXKA7gNCOY3q1O3wT5RV1PbMbiaDBnc9gAvJe5vxMK7s7atKswOZWY4EbnjN0J3leDNdugE8SLngZG8z58IWemZaO5OskATabXE7vVUpbXaSJ8rff4Paq+Mo0CHPqU2tJu59QZsxO46ALbMqseNWuGt4I4zwK8Fw7HG/s7b7AW11Om7TothQBaA/KJ97QQ0TvNrXk6blKyKPCSL8i5d/g9ZdtqhTqCm6uyXTEQA2NxcJDeWaJWPa+3KNMNfnL3A5Q2l3jcgO7o1gX13LzCjWd+URxfAgNMg776T0hbBjn73wIabEx3gYMjfPrG5Hi8Ux+SSp8npFHbOHc2Pas6Anrpr4KtT7QUw5zQw5RMFpbLgLE5HQQJm++FwTSSbEwIJmQSTJEcNN/NKhJ9508LOEZhFgTDhoSeqrx1w0uRLRJXZ2WM7QvLgaYDWR+YZnHUzY20Ai+t+WXZld1YPqHvXDZEXyi5gdY8Fy9OzYEQZMizpBGXTUGDPKQus7MM/hOMRLjp0G7dclRGcs09r6Dz4YYsVpcmWUsy2L6YdqPHf5rX4ikWniDoUZcUoK+qOKLTFmTWKULn3F0Ywr2GwDnXNh6rDiKTQxxDrgSJNrXuthgcex7ZabgXbvH+3NdmHTx3eoylJ1wZaeBY3dPVVqmCpPfL2NcGggBwkX11WWrVJVF73NOaCRyXZUEqSVEcsrnENwbw17wKD3Qxzj7rz+WSttVeuD7citiQ1jHsYxnfeKky91xu3AepWt2B2gqYfM2viW1KbYZBDpaSYnO7Ro567lyw1EIScE+L9+PY2eFyin3PRGUA4lzrrBshgNMH/AKj9Fz2O7R1spbh6IzPzezNRwbLGgAvy66usPHkqPY3a+IpllCtRJpvc4sqB4c5pcbyPzNmenTQefHLKna4TX5BY5KD4Osx+zi452GHaG3vDcDxVJlR7bPpm2pZcfp1HS66EjmoOYDrBXRLHCTsxUmjkts4VuIDQx7XRILXWN4/K65XMY3sa4yWZmGItduke6fqvS6uEY7VoPUAqq/Asbpmb/wBtxb6AqPCijWOaUeh5ezs5jqYOUtdrvLToBPX6LC/CYxsudhnk8WlpnrC9SIA0xDxyc0O/8ZKm15mPa05/le0Nd+mQfRT5fHLk0Wqmjx6viKjXHNh6gvN2PEQdAS2Fjp45gfLm79w6xqB0XtgoPP5WHoCPmn+FcdaTD4n6FLykexa1su6PGaGJpQXw2xDb7ydBe0wCYWxbi6YaDkLS7vNkGHe7JYD13cR4+pv2cw64emescP8AAkzZdMR/8WmMvuwG2vNu5a6iWivuaR19djzqptKk5wa0kE3gGxlugMdTFpIVV+NoEuMRAcwyPe3wOhHw4L1AbLp6/h6YPRvQ3yKYwDP6bB0A/wDXqpWgS7lf5D2+TzOhiP4DnNcx9QEZWuabDMMwsReBpPxVyo4vaxrab9MzzTa88IEjX74X9FZh40gdAVP2I3n9p+qtaP7sl/UOeF8nntHAV3z/AAHDNcgsLQTNjLo4DXgthhthVHe81rW8HODiNdMpPlpddcatAHKagngC2fK5WYZYnI8/4u76WKtaSP3IlrpvsjQ4TYjGwXuLiNws3eeu/wBAt9hgGtDQ3KBYDQeSnmAuKfmSfRZBUMWcG9GraOGMf0o5cmaU/wBTEGE3OnE2C1+NxQd3W6A68enJW6uELvee4+UeSwfg2NNy49bLLNDJNbYql7sUXFcspIV38Mzj6oXL5TJ7fkvxImme8uBBNiIXOt9tQdDSXtBsJyvaOAdo4eRW3a9y120qlT3mQSNztCOCqLdgy5hu05FnmDwqNLT+rQ+q2dDbrHbiOhBC4obfpDu1mPpHSXDMz9Q+YCs0XYapdj6bubSJ9FtchUjpdpUsPiB3y0lvebmGhHMhYqOBpAyGsJeIfMe8NHFaduEG5zh0e75lTGEduqP82n4hS4J80NOjK7YIq1Q6oS7uOZE92xJBDdAdL8lY2b2eZTNJwLs7Se9mMkSYDj+YCTrxVT8M/wDqP/b9Efh3/wBR37UljS7BuZ2hr81A4ofzDzC4/wDCv31H/t+izUsG7fUd+r6LS2RSOo/FDcUjB957R4yfRaihhWC7nfqcY9SttgqlMe5Dv8An1FlcY31E2WsLQaDLGFzv5n2A6BbIU7Q7vTrIkHwWOi/lCm6otoxUVwS3ZVfsmgTJoUwf5gxrT+oCVzb4LiWOqNbJyhtWoGxu7uaFvttYvJTIGr+6Om/0+K5xjtPNTKroabLTaj/6r/1z/qBWUVKn9Z/7P/RV2u5+YWel4IQrMzGPOtap+z45Vnp4OTepVP8A9r2/6SEqUclssJSGtvKVokgtlWrstgE5qh45q1Zw8i+FVfs1huKTHEX7zQ8+BdJW9qMkELVFhEnNBHMW3WnVTKK+wJv7lvZdHK09zLJ0jL6IqB2bxWSk/K0NJJPEqb3lWlwIrOrlu6ekptLXXIIVTH7Rp0tRLxo1pt4ncuax20alWQXw2fdbp/v4rh1P1DFh46v7I1x4ZT56I6XE7aoUzBfJ3hgzR1IssntW1WB7HS28WgyNQZXFezW/7M1SW1GbgWuHDvAg/wCkLl0n1GWfLsaSTs0yYFGNoyZnpLZfhjxCF6+05jQupKpUw5W0cxQdTXCo0bWaKvs5rrOaD1C1WJ7JYd5k0wDxbYrrzTR7NWuAOJ/4Sj3K9Zn+F7o8pR/w7iR7uOqeOU/ELtwwIDAqsRxjNiY0aY53ixp+Szs2LjN+Od4MZ9F12UJhoRYjlWbAxJ97H1P8rWD/AMVco7A/nxNd/wDnLZ/RC35hIlFiKGG2TQYZyZjxqEvPm5bejVyiAAOQVQuSNRPc0FG0Zi+ayDGDitE6oeYVbE4l7WuLTJAJA4mNEnOQJIsbUxmepANm2HXeq4ed60OB2sx098B8wWus4HgQdN62LMQLXBQmDRtKLzeR57wthTNtVq2Veqv0nyNVrEll6iVuMLoL7r9ei01OVtcIbLVElwha/EsObkb8wfK62JVTE1G+6CJ84HND6DRiouJZM6SFotr7bLZZTdcWc7geDefNbyhlY1xJAB7x4dVx1PANqVXupvLqWac0GA52rWme/wAvouDXTyLGo43y+Pc2wqLlcuiKVJhknMb3116rNI6JvpZnvZSpvlhykOa+TG8FzQD1BI4FQbh6ztMPV4e44fFfPz0mbdVN/wAHb4kHzYnFdF2Yo9x7zbO4AdG/7k+S1mB2HVee+xzBwcRPkCYXT0MHkAgQGwNV6n03RThPxJqq6HPnyxcdsSz7Pn6IUfaIXvWcZqC1RLFYyoy7lzbC7K2RBpKyG/RPKjYFlT2ahk5K61iiWRZGwNxTyqWRWcnJMs5c0bA3Fb2aPZrKG+nMdfkVIN3fI81WwVmDJ9nmhtOdyzZNLcfv4qZajYFlf2I4I/CtO5WenwKfxnTlCexBZqMd2cw1a76TSdzh3XDo4XC1r+xNMGaeIrs5ZmvH7wT6rq1IBPYg3M5RvZnEtMsxrT/3KMnza8fBW2bMxo/5tF3Vr2/VdGE2u5I2ILZoW4THT/eUB0zn5BWsPhsaNcTTA5Ui4+ZePgtrm+/Qp5wnsXuFsqU8E8/3mKqP5Nysb+0T6qeIr06DCSQxouTz+JJ8yqW2ttNw7HPIDogQDHvENEncJK5bA4z8Y8ve0ve0wyiDDBN8znD8tup5BYZcih6Yq2yoxb5fQu4nHvrgvcXU8ODAAH8Ss4H3GjyvoOt1sdh7XE3pBoFmtH5Bvk/mJ3lXMLs3Kc9Qh74gbmMH8jGizWoo0KT6kS5pgkiARYcfks4YpblJ9SnJVS6HRMqB0RoVA4a+8b5BUaBEAB2mu5WgZGq7jEwuqAW4cVWqMMTqZ3cOiyVqY3fFY3Oj3Z8UAYs54HyQiXcT6ISAxTKGiAlKZUjGmBKSTDeDpy5J0Bky/RIAIJkoBSAMiA1NIFOgAMCiGD78lKUSmBEs+PxSEffDT5rKoEbkAPKjKFFrt3KQph6BCa0A85+CYbw6pHqm0+KAD766ob5pE/fkmD9hADlRfv8AREoBQBUxOzqVQFr6bHtdYyJkHclgNlUaALaNNrATMAa23nWOSuykWpbUO2I0AbX8CVhbgGAyJlZwmCikIxuoHdGsyZPorD3u3O++Kx5k5TAi1rwf7w9DceqrOoPBMPEHURCsyolAFf2LuXmhZ5QgCCycPvehClDDihu7wQhUAk26oQpAlwSKSFQg+/RJ+h6H5oQgZNvz+ZUH6eHyQhAgP0+ISG/qPghCAJHd1HzTH0SQgCbUvv0QhAEW/fomd3VJCAJffomEIQAFCEIARSKSEAJBQhADQhCAP//Z\n",
      "data:image/png;base64,iVBORw0KGgoAAAANSUhEUgAAABAAAAAQCAMAAAAoLQ9TAAAAM1BMVEVHcEwMX18MX18MX18MX18MX18LX18LX18LX18MX18MX18NYGAMX18LXl4MX18MX18LXl68zrflAAAAEHRSTlMAjlEiZofWx+WfPBSy8nS/5jmTPwAAAIJJREFUGJVVj9sSxCAIQ+MdtGr+/2uLdrfr5oEZDoQMwKlQ/1pIqmo0kznnCbgOIRqpSkoBekGMSEywMszBsnzKCETqCzylNaFHchRnQ0ya1gI4dzST92GnPpZIXm7UH2jckhcINYujXf0Arlhbq19wWUTqh2URuwsMlez883Q4Pr4B3R4FpN8u0AQAAAAASUVORK5CYII=\n",
      "data:image/jpeg;base64,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\n",
      "data:image/png;base64,iVBORw0KGgoAAAANSUhEUgAAABAAAAAQCAMAAAAoLQ9TAAAAS1BMVEUArY8Aq4wArI4Ap4YApoUAqIluyLUAq41WwKoAon++5t7b9vN8zLrU8u3D6eLk+PWL08QltJml2s3///+y39RoxrEAnXgmtJno+vgGnVnNAAAAkUlEQVQYlW2P4Q6DMAiEQcCWosXq6nz/J11t7JIl+34QuATuAPjLRMw0jSEwSzJLwhxukZY1e2SOnteFAGRLWKK0JhZMmwC7tq0JelFnIFNAuY8JghoB5VlL1hA0gc6ZmmM2T1arJbd8e7cMfpZ9f5+XPlnwYpB2/qInGrpKQ7+CHK/OMYRQ507F8Q0+jPd++ADmLgWDyZz0rAAAAABJRU5ErkJggg==\n",
      "data:image/jpeg;base64,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\n",
      "data:image/png;base64,iVBORw0KGgoAAAANSUhEUgAAABAAAAAQCAYAAAAf8/9hAAAB9klEQVQ4jW3TS0jVQRTH8c/8vWVZdtW6hFoaKtFDMQILF6VERatCaBMtol3gohZFizZBuzZtioIggha1j3YVuSmIFkFg9KAXVKZkaT4wr3da3P8t76UDwzBnzvnOb87MCXDlUZ/UqlGLAexADXrT+Tau4TXiYP8QCGlygm04jp3oxHLlVsBbnMedEqQE2IUr6CpFR1GMBUEQQrIYNIazuIV8JpV3qjJ5ZXVOU7bb7O8fPk88F2OhtJ3DJazB7QRVKeSf1kLe6hVt9m46Z3vLUUFYDIAsjqA2QTd6/u1FjdkuG1b3CiFYWZ2ztemgxmwX4mLIRmxOsB/1f9Nj1J7r09k0gCBbs96ujpPac31iLAOswL4MDim+AgghGP56T74wp6f1mPGpd55+vOnnzKfKYkJrBg3lvmB8+r1vk8MiZucnfPz+2EJh/n+AhgRfKr0hJEIqKgkJQmUI5NGc4EFldaAQ82JcUFfTonvdYU113ZUhEd8SxS/6rlLB+MwHI5PDli+t19t2Qtua3ZVPWYWHGbzAZVzEkmIVgum5MfdfXrB21RaZZJmxqVdCKLvKE1zNpIvrqaQzaE51+DU3anJ0JF2FQlrEJD30NN4Hyrpxj+K37sOq1DeBzxjFVrzBSTwrglNbBKnBgXRExa4M6MBd3MAIDPYP+QMzb5frhsRazQAAAABJRU5ErkJggg==\n"
     ]
    }
   ],
   "source": [
    "#get url of cakes 10 first images\n",
    "for i in driver.find_elements(By.XPATH , '//div[@class=\"isv-r PNCib MSM1fd BUooTd\"]//img')[0:10]:\n",
    "    print(i.get_attribute('src'))\n",
    "driver.close()    "
   ]
  },
  {
   "cell_type": "code",
   "execution_count": null,
   "id": "b852e36d",
   "metadata": {},
   "outputs": [],
   "source": []
  },
  {
   "cell_type": "markdown",
   "id": "4146cdcb",
   "metadata": {},
   "source": [
    "# Q4"
   ]
  },
  {
   "cell_type": "markdown",
   "id": "af70af30",
   "metadata": {},
   "source": [
    "#Write a python program to search for a smartphone(e.g.: Oneplus Nord, pixel 4A, etc.) on www.flipkart.com\n",
    "and scrape following details for all the search results displayed on 1st page. Details to be scraped: “Brand\n",
    "Name”, “Smartphone name”, “Colour”, “RAM”, “Storage(ROM)”, “Primary Camera”,\n",
    "“Secondary Camera”, “Display Size”, “Battery Capacity”, “Price”, “Product URL”. Incase if any of the\n",
    "details is missing then replace it by “- “. Save your results in a dataframe and CSV."
   ]
  },
  {
   "cell_type": "code",
   "execution_count": 36,
   "id": "55276332",
   "metadata": {},
   "outputs": [],
   "source": [
    "driver = webdriver.Chrome()\n",
    "driver.get('https://www.flipkart.com/')"
   ]
  },
  {
   "cell_type": "code",
   "execution_count": 40,
   "id": "3ee9f5ae",
   "metadata": {},
   "outputs": [],
   "source": [
    "\n",
    "#search bar\n",
    "search = driver.find_element(By.XPATH , '/html/body/div[1]/div/div[1]/div[1]/div[2]/div[2]/form/div/div/input')\n",
    "search.send_keys('smartphone')"
   ]
  },
  {
   "cell_type": "code",
   "execution_count": 42,
   "id": "83c5da20",
   "metadata": {},
   "outputs": [],
   "source": [
    "#press search icon\n",
    "driver.find_element(By.XPATH , '//button[@class=\"L0Z3Pu\"]').click()"
   ]
  },
  {
   "cell_type": "code",
   "execution_count": 43,
   "id": "d188d034",
   "metadata": {},
   "outputs": [],
   "source": [
    "#click on type to choose smartphones\n",
    "driver.find_element(By.XPATH , '/html/body/div/div/div[3]/div[1]/div[1]/div/div[1]/div/section[21]/div/div').click()"
   ]
  },
  {
   "cell_type": "code",
   "execution_count": 44,
   "id": "17f7b663",
   "metadata": {},
   "outputs": [],
   "source": [
    "#chose smartphones\n",
    "driver.find_element(By.XPATH , '/html/body/div/div/div[3]/div[1]/div[1]/div/div[1]/div/section[21]/div[2]/div/div[1]/div/label').click()"
   ]
  },
  {
   "cell_type": "code",
   "execution_count": 45,
   "id": "2d8b30d5",
   "metadata": {},
   "outputs": [],
   "source": [
    "phone_url = []\n",
    "for i in driver.find_elements(By.XPATH , '//a[@class=\"_1fQZEK\"]'):\n",
    "    phone_url.append(i.get_attribute('href'))"
   ]
  },
  {
   "cell_type": "code",
   "execution_count": 47,
   "id": "7d0f9c17",
   "metadata": {},
   "outputs": [
    {
     "data": {
      "text/plain": [
       "24"
      ]
     },
     "execution_count": 47,
     "metadata": {},
     "output_type": "execute_result"
    }
   ],
   "source": [
    "len(phone_url)"
   ]
  },
  {
   "cell_type": "code",
   "execution_count": 48,
   "id": "613033d1",
   "metadata": {},
   "outputs": [],
   "source": [
    "RAM = []\n",
    "Storage_Rom = []\n",
    "display = []\n",
    "primary_camera = []\n",
    "secondary_camera = []\n",
    "battery = []\n",
    "price = []\n",
    "\n",
    "\n",
    "\n",
    "\n",
    "for i in driver.find_elements(By.XPATH , '//div[@class=\"_1AtVbE col-12-12\"]//ul[@class=\"_1xgFaf\"]/li[1]'):\n",
    "    RAM.append(i.text.strip().split(' | ')[0])\n",
    "    Storage_Rom.append(i.text.strip().split(' | ')[1])\n",
    "    \n",
    "for i in driver.find_elements(By.XPATH , '//ul[@class=\"_1xgFaf\"]//li[2]'):\n",
    "    display.append(i.text.strip())  \n",
    "    \n",
    "for i in driver.find_elements(By.XPATH , '//ul[@class=\"_1xgFaf\"]//li[3]'):\n",
    "    primary_camera.append(i.text.strip().split(' | ')[0])\n",
    "    secondary_camera.append(i.text.strip().split(' | ')[1])\n",
    "\n",
    "for i in driver.find_elements(By.XPATH , '//ul[@class=\"_1xgFaf\"]//li[4]'):\n",
    "    battery.append(i.text.strip())\n",
    "\n",
    "for i in driver.find_elements(By.XPATH , '//div[@class=\"_25b18c\"]/div[@class=\"_30jeq3 _1_WHN1\"]'):\n",
    "    price.append(i.text.strip())"
   ]
  },
  {
   "cell_type": "code",
   "execution_count": 52,
   "id": "957d5fe2",
   "metadata": {},
   "outputs": [],
   "source": [
    "models = []\n",
    "colour = []\n",
    "product_name = []\n",
    "for k in phone_url:\n",
    "    driver.get(k)\n",
    "    time.sleep(2)\n",
    "    try:\n",
    "        path = driver.find_element(By.XPATH , '/html/body/div[1]/div/div[3]/div[1]/div[2]/div[9]/div[5]/div/div[2]/div[1]/div[1]/table/tbody/tr[4]/td[2]/ul/li')\n",
    "        colour.append(path.text.strip())\n",
    "        \n",
    "        model = driver.find_element(By.XPATH , '/html/body/div[1]/div/div[3]/div[1]/div[2]/div[9]/div[5]/div/div[2]/div[1]/div[1]/table/tbody/tr[3]/td[2]/ul/li')\n",
    "        models.append(model.text.strip())\n",
    "        \n",
    "        pro = driver.find_element(By.XPATH , '/html/body/div[1]/div/div[3]/div[1]/div[2]/div[2]/div/div[1]/h1/span')\n",
    "        product_name.append(pro.text)\n",
    "    \n",
    "    except NoSuchElementException:\n",
    "            colour.append('-')\n",
    "            models.append('-')\n",
    "            product_name.append('-')"
   ]
  },
  {
   "cell_type": "code",
   "execution_count": 53,
   "id": "004c4b62",
   "metadata": {},
   "outputs": [
    {
     "data": {
      "text/plain": [
       "24"
      ]
     },
     "execution_count": 53,
     "metadata": {},
     "output_type": "execute_result"
    }
   ],
   "source": [
    "len(product_name)"
   ]
  },
  {
   "cell_type": "code",
   "execution_count": 55,
   "id": "bc334063",
   "metadata": {},
   "outputs": [
    {
     "data": {
      "text/html": [
       "<div>\n",
       "<style scoped>\n",
       "    .dataframe tbody tr th:only-of-type {\n",
       "        vertical-align: middle;\n",
       "    }\n",
       "\n",
       "    .dataframe tbody tr th {\n",
       "        vertical-align: top;\n",
       "    }\n",
       "\n",
       "    .dataframe thead th {\n",
       "        text-align: right;\n",
       "    }\n",
       "</style>\n",
       "<table border=\"1\" class=\"dataframe\">\n",
       "  <thead>\n",
       "    <tr style=\"text-align: right;\">\n",
       "      <th></th>\n",
       "      <th>Brand Name</th>\n",
       "      <th>Product Name</th>\n",
       "      <th>Colour</th>\n",
       "      <th>RAM</th>\n",
       "      <th>Storage Rom</th>\n",
       "      <th>Display</th>\n",
       "      <th>Primary Camera</th>\n",
       "      <th>Secondary Camera</th>\n",
       "      <th>Battery Capacity</th>\n",
       "      <th>Price</th>\n",
       "      <th>Product URL</th>\n",
       "    </tr>\n",
       "  </thead>\n",
       "  <tbody>\n",
       "    <tr>\n",
       "      <th>0</th>\n",
       "      <td>M6 Pro 5G</td>\n",
       "      <td>POCO M6 Pro 5G (Power Black, 128 GB)  (6 GB RAM)</td>\n",
       "      <td>Power Black</td>\n",
       "      <td>6 GB RAM</td>\n",
       "      <td>128 GB ROM</td>\n",
       "      <td>17.25 cm (6.79 inch) Full HD+ Display</td>\n",
       "      <td>50MP + 2MP</td>\n",
       "      <td>8MP Front Camera</td>\n",
       "      <td>5000 mAh Battery</td>\n",
       "      <td>₹12,999</td>\n",
       "      <td>https://www.flipkart.com/poco-m6-pro-5g-power-...</td>\n",
       "    </tr>\n",
       "    <tr>\n",
       "      <th>1</th>\n",
       "      <td>M6 Pro 5G</td>\n",
       "      <td>POCO M6 Pro 5G (Forest Green, 64 GB)  (4 GB RAM)</td>\n",
       "      <td>Forest Green</td>\n",
       "      <td>4 GB RAM</td>\n",
       "      <td>64 GB ROM</td>\n",
       "      <td>17.25 cm (6.79 inch) Full HD+ Display</td>\n",
       "      <td>50MP + 2MP</td>\n",
       "      <td>8MP Front Camera</td>\n",
       "      <td>5000 mAh Battery</td>\n",
       "      <td>₹10,999</td>\n",
       "      <td>https://www.flipkart.com/poco-m6-pro-5g-forest...</td>\n",
       "    </tr>\n",
       "    <tr>\n",
       "      <th>2</th>\n",
       "      <td>M6 Pro 5G</td>\n",
       "      <td>POCO M6 Pro 5G (Power Black, 64 GB)  (4 GB RAM)</td>\n",
       "      <td>Power Black</td>\n",
       "      <td>4 GB RAM</td>\n",
       "      <td>64 GB ROM</td>\n",
       "      <td>17.25 cm (6.79 inch) Full HD+ Display</td>\n",
       "      <td>50MP + 2MP</td>\n",
       "      <td>8MP Front Camera</td>\n",
       "      <td>5000 mAh Battery</td>\n",
       "      <td>₹10,999</td>\n",
       "      <td>https://www.flipkart.com/poco-m6-pro-5g-power-...</td>\n",
       "    </tr>\n",
       "    <tr>\n",
       "      <th>3</th>\n",
       "      <td>C51</td>\n",
       "      <td>POCO C51 (Power Black, 64 GB)  (4 GB RAM)</td>\n",
       "      <td>Power Black</td>\n",
       "      <td>4 GB RAM</td>\n",
       "      <td>64 GB ROM</td>\n",
       "      <td>16.56 cm (6.52 inch) HD+ Display</td>\n",
       "      <td>8MP Dual Rear Camera</td>\n",
       "      <td>5MP Front Camera</td>\n",
       "      <td>5000 mAh Battery</td>\n",
       "      <td>₹6,499</td>\n",
       "      <td>https://www.flipkart.com/poco-c51-power-black-...</td>\n",
       "    </tr>\n",
       "    <tr>\n",
       "      <th>4</th>\n",
       "      <td>C50</td>\n",
       "      <td>POCO C50 (Royal Blue, 32 GB)  (2 GB RAM)</td>\n",
       "      <td>Royal Blue</td>\n",
       "      <td>2 GB RAM</td>\n",
       "      <td>32 GB ROM</td>\n",
       "      <td>16.56 cm (6.52 inch) HD+ Display</td>\n",
       "      <td>8MP Dual Camera</td>\n",
       "      <td>5MP Front Camera</td>\n",
       "      <td>5000 mAh Lithium Polymer Battery</td>\n",
       "      <td>₹5,499</td>\n",
       "      <td>https://www.flipkart.com/poco-c50-royal-blue-3...</td>\n",
       "    </tr>\n",
       "    <tr>\n",
       "      <th>5</th>\n",
       "      <td>C55</td>\n",
       "      <td>POCO C55 (Cool Blue, 128 GB)  (6 GB RAM)</td>\n",
       "      <td>Cool Blue</td>\n",
       "      <td>6 GB RAM</td>\n",
       "      <td>128 GB ROM</td>\n",
       "      <td>17.04 cm (6.71 inch) HD+ Display</td>\n",
       "      <td>50MP Dual Rear Camera</td>\n",
       "      <td>5MP Front Camera</td>\n",
       "      <td>5000 mAh Battery</td>\n",
       "      <td>₹8,499</td>\n",
       "      <td>https://www.flipkart.com/poco-c55-cool-blue-12...</td>\n",
       "    </tr>\n",
       "    <tr>\n",
       "      <th>6</th>\n",
       "      <td>C51</td>\n",
       "      <td>POCO C51 (Royal Blue, 64 GB)  (4 GB RAM)</td>\n",
       "      <td>Royal Blue</td>\n",
       "      <td>4 GB RAM</td>\n",
       "      <td>64 GB ROM</td>\n",
       "      <td>16.56 cm (6.52 inch) HD+ Display</td>\n",
       "      <td>8MP Dual Rear Camera</td>\n",
       "      <td>5MP Front Camera</td>\n",
       "      <td>5000 mAh Battery</td>\n",
       "      <td>₹6,499</td>\n",
       "      <td>https://www.flipkart.com/poco-c51-royal-blue-6...</td>\n",
       "    </tr>\n",
       "    <tr>\n",
       "      <th>7</th>\n",
       "      <td>12</td>\n",
       "      <td>REDMI 12 (Moonstone Silver, 128 GB)  (6 GB RAM)</td>\n",
       "      <td>Moonstone Silver</td>\n",
       "      <td>6 GB RAM</td>\n",
       "      <td>128 GB ROM</td>\n",
       "      <td>17.25 cm (6.79 inch) Full HD+ Display</td>\n",
       "      <td>50MP + 8MP + 2MP</td>\n",
       "      <td>8MP Front Camera</td>\n",
       "      <td>5000 mAh Battery</td>\n",
       "      <td>₹11,499</td>\n",
       "      <td>https://www.flipkart.com/redmi-12-moonstone-si...</td>\n",
       "    </tr>\n",
       "    <tr>\n",
       "      <th>8</th>\n",
       "      <td>C55</td>\n",
       "      <td>POCO C55 (Power Black, 128 GB)  (6 GB RAM)</td>\n",
       "      <td>Power Black</td>\n",
       "      <td>6 GB RAM</td>\n",
       "      <td>128 GB ROM</td>\n",
       "      <td>17.04 cm (6.71 inch) HD+ Display</td>\n",
       "      <td>50MP Dual Rear Camera</td>\n",
       "      <td>5MP Front Camera</td>\n",
       "      <td>5000 mAh Battery</td>\n",
       "      <td>₹8,499</td>\n",
       "      <td>https://www.flipkart.com/poco-c55-power-black-...</td>\n",
       "    </tr>\n",
       "    <tr>\n",
       "      <th>9</th>\n",
       "      <td>12</td>\n",
       "      <td>REDMI 12 (Moonstone Silver, 128 GB)  (4 GB RAM)</td>\n",
       "      <td>Moonstone Silver</td>\n",
       "      <td>4 GB RAM</td>\n",
       "      <td>128 GB ROM</td>\n",
       "      <td>17.25 cm (6.79 inch) Full HD+ Display</td>\n",
       "      <td>50MP + 8MP + 2MP</td>\n",
       "      <td>8MP Front Camera</td>\n",
       "      <td>5000 mAh Battery</td>\n",
       "      <td>₹9,999</td>\n",
       "      <td>https://www.flipkart.com/redmi-12-moonstone-si...</td>\n",
       "    </tr>\n",
       "    <tr>\n",
       "      <th>10</th>\n",
       "      <td>C50</td>\n",
       "      <td>POCO C50 (Country Green, 32 GB)  (2 GB RAM)</td>\n",
       "      <td>Country Green</td>\n",
       "      <td>2 GB RAM</td>\n",
       "      <td>32 GB ROM</td>\n",
       "      <td>16.56 cm (6.52 inch) HD+ Display</td>\n",
       "      <td>8MP Dual Camera</td>\n",
       "      <td>5MP Front Camera</td>\n",
       "      <td>5000 mAh Lithium Polymer Battery</td>\n",
       "      <td>₹5,499</td>\n",
       "      <td>https://www.flipkart.com/poco-c50-country-gree...</td>\n",
       "    </tr>\n",
       "    <tr>\n",
       "      <th>11</th>\n",
       "      <td>e13</td>\n",
       "      <td>MOTOROLA e13 (Aurora Green, 64 GB)  (4 GB RAM)</td>\n",
       "      <td>Aurora Green</td>\n",
       "      <td>4 GB RAM</td>\n",
       "      <td>64 GB ROM</td>\n",
       "      <td>16.51 cm (6.5 inch) HD+ Display</td>\n",
       "      <td>13MP Rear Camera</td>\n",
       "      <td>5MP Front Camera</td>\n",
       "      <td>5000 mAh Battery</td>\n",
       "      <td>₹7,299</td>\n",
       "      <td>https://www.flipkart.com/motorola-e13-aurora-g...</td>\n",
       "    </tr>\n",
       "    <tr>\n",
       "      <th>12</th>\n",
       "      <td>12</td>\n",
       "      <td>REDMI 12 (Pastel Blue, 128 GB)  (6 GB RAM)</td>\n",
       "      <td>Pastel Blue</td>\n",
       "      <td>6 GB RAM</td>\n",
       "      <td>128 GB ROM</td>\n",
       "      <td>17.25 cm (6.79 inch) Full HD+ Display</td>\n",
       "      <td>50MP + 8MP + 2MP</td>\n",
       "      <td>8MP Front Camera</td>\n",
       "      <td>5000 mAh Battery</td>\n",
       "      <td>₹11,499</td>\n",
       "      <td>https://www.flipkart.com/redmi-12-pastel-blue-...</td>\n",
       "    </tr>\n",
       "    <tr>\n",
       "      <th>13</th>\n",
       "      <td>12</td>\n",
       "      <td>REDMI 12 (Pastel Blue, 128 GB)  (4 GB RAM)</td>\n",
       "      <td>Pastel Blue</td>\n",
       "      <td>4 GB RAM</td>\n",
       "      <td>128 GB ROM</td>\n",
       "      <td>17.25 cm (6.79 inch) Full HD+ Display</td>\n",
       "      <td>50MP + 8MP + 2MP</td>\n",
       "      <td>8MP Front Camera</td>\n",
       "      <td>5000 mAh Battery</td>\n",
       "      <td>₹9,999</td>\n",
       "      <td>https://www.flipkart.com/redmi-12-pastel-blue-...</td>\n",
       "    </tr>\n",
       "    <tr>\n",
       "      <th>14</th>\n",
       "      <td>T2x 5G</td>\n",
       "      <td>vivo T2x 5G (Aurora Gold, 128 GB)  (8 GB RAM)</td>\n",
       "      <td>Aurora Gold</td>\n",
       "      <td>8 GB RAM</td>\n",
       "      <td>128 GB ROM</td>\n",
       "      <td>16.71 cm (6.58 inch) Full HD+ Display</td>\n",
       "      <td>50MP + 2MP</td>\n",
       "      <td>8MP Front Camera</td>\n",
       "      <td>5000 mAh Battery</td>\n",
       "      <td>₹15,999</td>\n",
       "      <td>https://www.flipkart.com/vivo-t2x-5g-aurora-go...</td>\n",
       "    </tr>\n",
       "    <tr>\n",
       "      <th>15</th>\n",
       "      <td>T2x 5G</td>\n",
       "      <td>vivo T2x 5G (Glimmer Black, 128 GB)  (8 GB RAM)</td>\n",
       "      <td>Glimmer Black</td>\n",
       "      <td>8 GB RAM</td>\n",
       "      <td>128 GB ROM</td>\n",
       "      <td>16.71 cm (6.58 inch) Full HD+ Display</td>\n",
       "      <td>50MP + 2MP</td>\n",
       "      <td>8MP Front Camera</td>\n",
       "      <td>5000 mAh Battery</td>\n",
       "      <td>₹15,999</td>\n",
       "      <td>https://www.flipkart.com/vivo-t2x-5g-glimmer-b...</td>\n",
       "    </tr>\n",
       "    <tr>\n",
       "      <th>16</th>\n",
       "      <td>T2x 5G</td>\n",
       "      <td>vivo T2x 5G (Marine Blue, 128 GB)  (8 GB RAM)</td>\n",
       "      <td>Marine Blue</td>\n",
       "      <td>8 GB RAM</td>\n",
       "      <td>128 GB ROM</td>\n",
       "      <td>16.71 cm (6.58 inch) Full HD+ Display</td>\n",
       "      <td>50MP + 2MP</td>\n",
       "      <td>8MP Front Camera</td>\n",
       "      <td>5000 mAh Battery</td>\n",
       "      <td>₹15,999</td>\n",
       "      <td>https://www.flipkart.com/vivo-t2x-5g-marine-bl...</td>\n",
       "    </tr>\n",
       "    <tr>\n",
       "      <th>17</th>\n",
       "      <td>T2x 5G</td>\n",
       "      <td>vivo T2x 5G (Aurora Gold, 128 GB)  (6 GB RAM)</td>\n",
       "      <td>Aurora Gold</td>\n",
       "      <td>6 GB RAM</td>\n",
       "      <td>128 GB ROM</td>\n",
       "      <td>16.71 cm (6.58 inch) Full HD+ Display</td>\n",
       "      <td>50MP + 2MP</td>\n",
       "      <td>8MP Front Camera</td>\n",
       "      <td>5000 mAh Battery</td>\n",
       "      <td>₹13,999</td>\n",
       "      <td>https://www.flipkart.com/vivo-t2x-5g-aurora-go...</td>\n",
       "    </tr>\n",
       "    <tr>\n",
       "      <th>18</th>\n",
       "      <td>T2x 5G</td>\n",
       "      <td>vivo T2x 5G (Marine Blue, 128 GB)  (4 GB RAM)</td>\n",
       "      <td>Marine Blue</td>\n",
       "      <td>4 GB RAM</td>\n",
       "      <td>128 GB ROM</td>\n",
       "      <td>16.71 cm (6.58 inch) Full HD+ Display</td>\n",
       "      <td>50MP + 2MP</td>\n",
       "      <td>8MP Front Camera</td>\n",
       "      <td>5000 mAh Battery</td>\n",
       "      <td>₹12,999</td>\n",
       "      <td>https://www.flipkart.com/vivo-t2x-5g-marine-bl...</td>\n",
       "    </tr>\n",
       "    <tr>\n",
       "      <th>19</th>\n",
       "      <td>T2x 5G</td>\n",
       "      <td>vivo T2x 5G (Marine Blue, 128 GB)  (6 GB RAM)</td>\n",
       "      <td>Marine Blue</td>\n",
       "      <td>6 GB RAM</td>\n",
       "      <td>128 GB ROM</td>\n",
       "      <td>16.71 cm (6.58 inch) Full HD+ Display</td>\n",
       "      <td>50MP + 2MP</td>\n",
       "      <td>8MP Front Camera</td>\n",
       "      <td>5000 mAh Battery</td>\n",
       "      <td>₹13,999</td>\n",
       "      <td>https://www.flipkart.com/vivo-t2x-5g-marine-bl...</td>\n",
       "    </tr>\n",
       "    <tr>\n",
       "      <th>20</th>\n",
       "      <td>T2x 5G</td>\n",
       "      <td>vivo T2x 5G (Glimmer Black, 128 GB)  (6 GB RAM)</td>\n",
       "      <td>Glimmer Black</td>\n",
       "      <td>6 GB RAM</td>\n",
       "      <td>128 GB ROM</td>\n",
       "      <td>16.71 cm (6.58 inch) Full HD+ Display</td>\n",
       "      <td>50MP + 2MP</td>\n",
       "      <td>8MP Front Camera</td>\n",
       "      <td>5000 mAh Battery</td>\n",
       "      <td>₹13,999</td>\n",
       "      <td>https://www.flipkart.com/vivo-t2x-5g-glimmer-b...</td>\n",
       "    </tr>\n",
       "    <tr>\n",
       "      <th>21</th>\n",
       "      <td>T2x 5G</td>\n",
       "      <td>vivo T2x 5G (Aurora Gold, 128 GB)  (4 GB RAM)</td>\n",
       "      <td>Aurora Gold</td>\n",
       "      <td>4 GB RAM</td>\n",
       "      <td>128 GB ROM</td>\n",
       "      <td>16.71 cm (6.58 inch) Full HD+ Display</td>\n",
       "      <td>50MP + 2MP</td>\n",
       "      <td>8MP Front Camera</td>\n",
       "      <td>5000 mAh Battery</td>\n",
       "      <td>₹12,999</td>\n",
       "      <td>https://www.flipkart.com/vivo-t2x-5g-aurora-go...</td>\n",
       "    </tr>\n",
       "    <tr>\n",
       "      <th>22</th>\n",
       "      <td>C53</td>\n",
       "      <td>realme C53 (Champion Gold, 64 GB)  (6 GB RAM)</td>\n",
       "      <td>Champion Gold</td>\n",
       "      <td>6 GB RAM</td>\n",
       "      <td>64 GB ROM</td>\n",
       "      <td>17.12 cm (6.74 inch) HD Display</td>\n",
       "      <td>108MP + 2MP</td>\n",
       "      <td>8MP Front Camera</td>\n",
       "      <td>5000 mAh Battery</td>\n",
       "      <td>₹10,999</td>\n",
       "      <td>https://www.flipkart.com/realme-c53-champion-g...</td>\n",
       "    </tr>\n",
       "    <tr>\n",
       "      <th>23</th>\n",
       "      <td>Smart 7 HD</td>\n",
       "      <td>Infinix Smart 7 HD (Jade White, 64 GB)  (2 GB ...</td>\n",
       "      <td>Jade White</td>\n",
       "      <td>2 GB RAM</td>\n",
       "      <td>64 GB ROM</td>\n",
       "      <td>16.76 cm (6.6 inch) HD+ Display</td>\n",
       "      <td>8MP + AI Lens</td>\n",
       "      <td>5MP Front Camera</td>\n",
       "      <td>5000 mAh Battery</td>\n",
       "      <td>₹5,999</td>\n",
       "      <td>https://www.flipkart.com/infinix-smart-7-hd-ja...</td>\n",
       "    </tr>\n",
       "  </tbody>\n",
       "</table>\n",
       "</div>"
      ],
      "text/plain": [
       "    Brand Name                                       Product Name  \\\n",
       "0    M6 Pro 5G   POCO M6 Pro 5G (Power Black, 128 GB)  (6 GB RAM)   \n",
       "1    M6 Pro 5G   POCO M6 Pro 5G (Forest Green, 64 GB)  (4 GB RAM)   \n",
       "2    M6 Pro 5G    POCO M6 Pro 5G (Power Black, 64 GB)  (4 GB RAM)   \n",
       "3          C51          POCO C51 (Power Black, 64 GB)  (4 GB RAM)   \n",
       "4          C50           POCO C50 (Royal Blue, 32 GB)  (2 GB RAM)   \n",
       "5          C55           POCO C55 (Cool Blue, 128 GB)  (6 GB RAM)   \n",
       "6          C51           POCO C51 (Royal Blue, 64 GB)  (4 GB RAM)   \n",
       "7           12    REDMI 12 (Moonstone Silver, 128 GB)  (6 GB RAM)   \n",
       "8          C55         POCO C55 (Power Black, 128 GB)  (6 GB RAM)   \n",
       "9           12    REDMI 12 (Moonstone Silver, 128 GB)  (4 GB RAM)   \n",
       "10         C50        POCO C50 (Country Green, 32 GB)  (2 GB RAM)   \n",
       "11         e13     MOTOROLA e13 (Aurora Green, 64 GB)  (4 GB RAM)   \n",
       "12          12         REDMI 12 (Pastel Blue, 128 GB)  (6 GB RAM)   \n",
       "13          12         REDMI 12 (Pastel Blue, 128 GB)  (4 GB RAM)   \n",
       "14      T2x 5G      vivo T2x 5G (Aurora Gold, 128 GB)  (8 GB RAM)   \n",
       "15      T2x 5G    vivo T2x 5G (Glimmer Black, 128 GB)  (8 GB RAM)   \n",
       "16      T2x 5G      vivo T2x 5G (Marine Blue, 128 GB)  (8 GB RAM)   \n",
       "17      T2x 5G      vivo T2x 5G (Aurora Gold, 128 GB)  (6 GB RAM)   \n",
       "18      T2x 5G      vivo T2x 5G (Marine Blue, 128 GB)  (4 GB RAM)   \n",
       "19      T2x 5G      vivo T2x 5G (Marine Blue, 128 GB)  (6 GB RAM)   \n",
       "20      T2x 5G    vivo T2x 5G (Glimmer Black, 128 GB)  (6 GB RAM)   \n",
       "21      T2x 5G      vivo T2x 5G (Aurora Gold, 128 GB)  (4 GB RAM)   \n",
       "22         C53      realme C53 (Champion Gold, 64 GB)  (6 GB RAM)   \n",
       "23  Smart 7 HD  Infinix Smart 7 HD (Jade White, 64 GB)  (2 GB ...   \n",
       "\n",
       "              Colour       RAM Storage Rom  \\\n",
       "0        Power Black  6 GB RAM  128 GB ROM   \n",
       "1       Forest Green  4 GB RAM   64 GB ROM   \n",
       "2        Power Black  4 GB RAM   64 GB ROM   \n",
       "3        Power Black  4 GB RAM   64 GB ROM   \n",
       "4         Royal Blue  2 GB RAM   32 GB ROM   \n",
       "5          Cool Blue  6 GB RAM  128 GB ROM   \n",
       "6         Royal Blue  4 GB RAM   64 GB ROM   \n",
       "7   Moonstone Silver  6 GB RAM  128 GB ROM   \n",
       "8        Power Black  6 GB RAM  128 GB ROM   \n",
       "9   Moonstone Silver  4 GB RAM  128 GB ROM   \n",
       "10     Country Green  2 GB RAM   32 GB ROM   \n",
       "11      Aurora Green  4 GB RAM   64 GB ROM   \n",
       "12       Pastel Blue  6 GB RAM  128 GB ROM   \n",
       "13       Pastel Blue  4 GB RAM  128 GB ROM   \n",
       "14       Aurora Gold  8 GB RAM  128 GB ROM   \n",
       "15     Glimmer Black  8 GB RAM  128 GB ROM   \n",
       "16       Marine Blue  8 GB RAM  128 GB ROM   \n",
       "17       Aurora Gold  6 GB RAM  128 GB ROM   \n",
       "18       Marine Blue  4 GB RAM  128 GB ROM   \n",
       "19       Marine Blue  6 GB RAM  128 GB ROM   \n",
       "20     Glimmer Black  6 GB RAM  128 GB ROM   \n",
       "21       Aurora Gold  4 GB RAM  128 GB ROM   \n",
       "22     Champion Gold  6 GB RAM   64 GB ROM   \n",
       "23        Jade White  2 GB RAM   64 GB ROM   \n",
       "\n",
       "                                  Display         Primary Camera  \\\n",
       "0   17.25 cm (6.79 inch) Full HD+ Display             50MP + 2MP   \n",
       "1   17.25 cm (6.79 inch) Full HD+ Display             50MP + 2MP   \n",
       "2   17.25 cm (6.79 inch) Full HD+ Display             50MP + 2MP   \n",
       "3        16.56 cm (6.52 inch) HD+ Display   8MP Dual Rear Camera   \n",
       "4        16.56 cm (6.52 inch) HD+ Display        8MP Dual Camera   \n",
       "5        17.04 cm (6.71 inch) HD+ Display  50MP Dual Rear Camera   \n",
       "6        16.56 cm (6.52 inch) HD+ Display   8MP Dual Rear Camera   \n",
       "7   17.25 cm (6.79 inch) Full HD+ Display       50MP + 8MP + 2MP   \n",
       "8        17.04 cm (6.71 inch) HD+ Display  50MP Dual Rear Camera   \n",
       "9   17.25 cm (6.79 inch) Full HD+ Display       50MP + 8MP + 2MP   \n",
       "10       16.56 cm (6.52 inch) HD+ Display        8MP Dual Camera   \n",
       "11        16.51 cm (6.5 inch) HD+ Display       13MP Rear Camera   \n",
       "12  17.25 cm (6.79 inch) Full HD+ Display       50MP + 8MP + 2MP   \n",
       "13  17.25 cm (6.79 inch) Full HD+ Display       50MP + 8MP + 2MP   \n",
       "14  16.71 cm (6.58 inch) Full HD+ Display             50MP + 2MP   \n",
       "15  16.71 cm (6.58 inch) Full HD+ Display             50MP + 2MP   \n",
       "16  16.71 cm (6.58 inch) Full HD+ Display             50MP + 2MP   \n",
       "17  16.71 cm (6.58 inch) Full HD+ Display             50MP + 2MP   \n",
       "18  16.71 cm (6.58 inch) Full HD+ Display             50MP + 2MP   \n",
       "19  16.71 cm (6.58 inch) Full HD+ Display             50MP + 2MP   \n",
       "20  16.71 cm (6.58 inch) Full HD+ Display             50MP + 2MP   \n",
       "21  16.71 cm (6.58 inch) Full HD+ Display             50MP + 2MP   \n",
       "22        17.12 cm (6.74 inch) HD Display            108MP + 2MP   \n",
       "23        16.76 cm (6.6 inch) HD+ Display          8MP + AI Lens   \n",
       "\n",
       "    Secondary Camera                  Battery Capacity    Price  \\\n",
       "0   8MP Front Camera                  5000 mAh Battery  ₹12,999   \n",
       "1   8MP Front Camera                  5000 mAh Battery  ₹10,999   \n",
       "2   8MP Front Camera                  5000 mAh Battery  ₹10,999   \n",
       "3   5MP Front Camera                  5000 mAh Battery   ₹6,499   \n",
       "4   5MP Front Camera  5000 mAh Lithium Polymer Battery   ₹5,499   \n",
       "5   5MP Front Camera                  5000 mAh Battery   ₹8,499   \n",
       "6   5MP Front Camera                  5000 mAh Battery   ₹6,499   \n",
       "7   8MP Front Camera                  5000 mAh Battery  ₹11,499   \n",
       "8   5MP Front Camera                  5000 mAh Battery   ₹8,499   \n",
       "9   8MP Front Camera                  5000 mAh Battery   ₹9,999   \n",
       "10  5MP Front Camera  5000 mAh Lithium Polymer Battery   ₹5,499   \n",
       "11  5MP Front Camera                  5000 mAh Battery   ₹7,299   \n",
       "12  8MP Front Camera                  5000 mAh Battery  ₹11,499   \n",
       "13  8MP Front Camera                  5000 mAh Battery   ₹9,999   \n",
       "14  8MP Front Camera                  5000 mAh Battery  ₹15,999   \n",
       "15  8MP Front Camera                  5000 mAh Battery  ₹15,999   \n",
       "16  8MP Front Camera                  5000 mAh Battery  ₹15,999   \n",
       "17  8MP Front Camera                  5000 mAh Battery  ₹13,999   \n",
       "18  8MP Front Camera                  5000 mAh Battery  ₹12,999   \n",
       "19  8MP Front Camera                  5000 mAh Battery  ₹13,999   \n",
       "20  8MP Front Camera                  5000 mAh Battery  ₹13,999   \n",
       "21  8MP Front Camera                  5000 mAh Battery  ₹12,999   \n",
       "22  8MP Front Camera                  5000 mAh Battery  ₹10,999   \n",
       "23  5MP Front Camera                  5000 mAh Battery   ₹5,999   \n",
       "\n",
       "                                          Product URL  \n",
       "0   https://www.flipkart.com/poco-m6-pro-5g-power-...  \n",
       "1   https://www.flipkart.com/poco-m6-pro-5g-forest...  \n",
       "2   https://www.flipkart.com/poco-m6-pro-5g-power-...  \n",
       "3   https://www.flipkart.com/poco-c51-power-black-...  \n",
       "4   https://www.flipkart.com/poco-c50-royal-blue-3...  \n",
       "5   https://www.flipkart.com/poco-c55-cool-blue-12...  \n",
       "6   https://www.flipkart.com/poco-c51-royal-blue-6...  \n",
       "7   https://www.flipkart.com/redmi-12-moonstone-si...  \n",
       "8   https://www.flipkart.com/poco-c55-power-black-...  \n",
       "9   https://www.flipkart.com/redmi-12-moonstone-si...  \n",
       "10  https://www.flipkart.com/poco-c50-country-gree...  \n",
       "11  https://www.flipkart.com/motorola-e13-aurora-g...  \n",
       "12  https://www.flipkart.com/redmi-12-pastel-blue-...  \n",
       "13  https://www.flipkart.com/redmi-12-pastel-blue-...  \n",
       "14  https://www.flipkart.com/vivo-t2x-5g-aurora-go...  \n",
       "15  https://www.flipkart.com/vivo-t2x-5g-glimmer-b...  \n",
       "16  https://www.flipkart.com/vivo-t2x-5g-marine-bl...  \n",
       "17  https://www.flipkart.com/vivo-t2x-5g-aurora-go...  \n",
       "18  https://www.flipkart.com/vivo-t2x-5g-marine-bl...  \n",
       "19  https://www.flipkart.com/vivo-t2x-5g-marine-bl...  \n",
       "20  https://www.flipkart.com/vivo-t2x-5g-glimmer-b...  \n",
       "21  https://www.flipkart.com/vivo-t2x-5g-aurora-go...  \n",
       "22  https://www.flipkart.com/realme-c53-champion-g...  \n",
       "23  https://www.flipkart.com/infinix-smart-7-hd-ja...  "
      ]
     },
     "execution_count": 55,
     "metadata": {},
     "output_type": "execute_result"
    }
   ],
   "source": [
    "#now instantiate the dataframe:\n",
    "\n",
    "smartphones = pd.DataFrame()\n",
    "\n",
    "smartphones['Brand Name'] = models\n",
    "smartphones['Product Name'] = product_name\n",
    "smartphones['Colour'] = colour\n",
    "smartphones['RAM'] = RAM\n",
    "smartphones['Storage Rom'] = Storage_Rom\n",
    "smartphones['Display'] = display\n",
    "smartphones['Primary Camera'] = primary_camera\n",
    "smartphones['Secondary Camera'] = secondary_camera\n",
    "smartphones['Battery Capacity'] = battery\n",
    "smartphones['Price'] = price\n",
    "smartphones['Product URL'] = phone_url\n",
    "\n",
    "smartphones"
   ]
  },
  {
   "cell_type": "code",
   "execution_count": 56,
   "id": "6bbe06dc",
   "metadata": {},
   "outputs": [],
   "source": [
    "# export smartphones dataframe to excel\n",
    "smartphones.to_csv('E:\\\\Datatrained\\\\internship\\\\Smartphones.csv' , index = False )"
   ]
  },
  {
   "cell_type": "code",
   "execution_count": null,
   "id": "6e53fd22",
   "metadata": {},
   "outputs": [],
   "source": []
  },
  {
   "cell_type": "markdown",
   "id": "c453ae55",
   "metadata": {},
   "source": [
    "# Q5"
   ]
  },
  {
   "cell_type": "markdown",
   "id": "e1198146",
   "metadata": {},
   "source": [
    "Write a program to scrap geospatial coordinates (latitude, longitude) of a city searched on google maps."
   ]
  },
  {
   "cell_type": "code",
   "execution_count": 243,
   "id": "a2a66689",
   "metadata": {},
   "outputs": [],
   "source": [
    "driver = webdriver.Chrome()\n",
    "driver.get('https://www.google.co.in/maps')"
   ]
  },
  {
   "cell_type": "code",
   "execution_count": 244,
   "id": "42cc633f",
   "metadata": {},
   "outputs": [
    {
     "name": "stdout",
     "output_type": "stream",
     "text": [
      "Enter City : fayoum\n"
     ]
    }
   ],
   "source": [
    "#enter city name\n",
    "city = input('Enter City : ')\n",
    "\n",
    "#search for it in search bar\n",
    "search = driver.find_element(By.XPATH , '//input[@jslog=\"11886\"]')\n",
    "search.send_keys(city)\n",
    "\n",
    "#click on search button\n",
    "driver.find_element(By.XPATH , '//button[@jslog=\"11887\"]').click()"
   ]
  },
  {
   "cell_type": "code",
   "execution_count": 246,
   "id": "ec85a0d0",
   "metadata": {},
   "outputs": [
    {
     "name": "stdout",
     "output_type": "stream",
     "text": [
      "https://www.google.co.in/maps/place/%D8%A7%D9%84%D9%81%D9%8A%D9%88%D9%85%D8%8C+%D9%82%D8%B3%D9%85+%D8%A7%D9%84%D9%81%D9%8A%D9%88%D9%85%D8%8C+%D8%A7%D9%84%D9%81%D9%8A%D9%88%D9%85%E2%80%AD/@29.310895,30.8628432,14z/data=!3m1!4b1!4m6!3m5!1s0x1459792fa8bf0013:0xa698b3d528236f63!8m2!3d29.3084021!4d30.8428497!16zL20vMGI1anBo?entry=ttu\n",
      "['29.310895,30.8628432,14z/']\n"
     ]
    }
   ],
   "source": [
    "import re\n",
    "\n",
    "#to find current url of position\n",
    "current_position = driver.current_url\n",
    "print(current_position)\n",
    "\n",
    "#now extract geospatial coordinates \n",
    "geo_coordinates = re.findall( r'@(.*)data' , current_position)\n",
    "print(geo_coordinates)"
   ]
  },
  {
   "cell_type": "code",
   "execution_count": 251,
   "id": "c2e63584",
   "metadata": {},
   "outputs": [
    {
     "name": "stdout",
     "output_type": "stream",
     "text": [
      "latitude =  29.310895 , longitude =  30.8628432\n"
     ]
    }
   ],
   "source": [
    "for i in geo_coordinates:\n",
    "    latitude = i.split(',')[0]\n",
    "    longitude = i.split(',')[1]\n",
    "print('latitude = ',latitude ,', longitude = ', longitude)"
   ]
  },
  {
   "cell_type": "code",
   "execution_count": null,
   "id": "7b7272a7",
   "metadata": {},
   "outputs": [],
   "source": []
  },
  {
   "cell_type": "markdown",
   "id": "61392dc9",
   "metadata": {},
   "source": [
    "# Q6"
   ]
  },
  {
   "cell_type": "markdown",
   "id": "2d480368",
   "metadata": {},
   "source": [
    "Write a program to scrap all the available details of best gaming laptops from digit.in."
   ]
  },
  {
   "cell_type": "code",
   "execution_count": 57,
   "id": "0acd03e1",
   "metadata": {},
   "outputs": [],
   "source": [
    "driver = webdriver.Chrome()\n",
    "driver.get('https://www.digit.in/top-products/best-gaming-laptops-40.html')"
   ]
  },
  {
   "cell_type": "code",
   "execution_count": 63,
   "id": "cd4ac81e",
   "metadata": {},
   "outputs": [
    {
     "name": "stdout",
     "output_type": "stream",
     "text": [
      "['HP OMEN 17 (2023)', 'MSI Titan GT77 12UHS', 'Lenovo Legion 5i Pro', 'ASUS ROG Strix Scar 18 2023', 'Acer Predator Helios Neo 16', 'ASUS ROG Zephyrus G14', 'MSI Cyborg 15']\n"
     ]
    }
   ],
   "source": [
    "#find Brand Name\n",
    "Brand = []\n",
    "for i in driver.find_elements(By.XPATH , '//div[@class=\"specfpro_details_cont\"]//span[@class=\"datahreflink\"]'):\n",
    "    Brand.append(i.text)\n",
    "print(Brand)    "
   ]
  },
  {
   "cell_type": "code",
   "execution_count": 80,
   "id": "e7ff93c1",
   "metadata": {},
   "outputs": [
    {
     "name": "stdout",
     "output_type": "stream",
     "text": [
      "['Windows 11 Home OS', 'Windows 11 Home OS', 'Windows 11 Home OS', 'Windows 11 Home OS', 'Windows 11 Home OS', 'Windows 11 Home OS', 'Windows 11 Home OS']\n"
     ]
    }
   ],
   "source": [
    "#find windows\n",
    "windows = []\n",
    "for i in driver.find_elements(By.XPATH , '//div[@class=\"Product-specs\"]//div[@class=\"Specs-Wrap\"]//li[1]'):\n",
    "    \n",
    "    windows.append(i.get_attribute('title'))\n",
    "print(windows)    "
   ]
  },
  {
   "cell_type": "code",
   "execution_count": 81,
   "id": "8f234071",
   "metadata": {},
   "outputs": [
    {
     "name": "stdout",
     "output_type": "stream",
     "text": [
      "['17.3\" (2560 x 1440) Display', '17.3\" (3840 x 2160) Display', '16\" (2560 x 1600) Display', '18\" (1920 x 1200) Display', '16\" (2560 x 1600) Display', '14\" (1920 x 1200) Display', '15.6\" (1920 x 1080) Display']\n"
     ]
    }
   ],
   "source": [
    "#find display\n",
    "display= []\n",
    "for i in driver.find_elements(By.XPATH , '//div[@class=\"Product-specs\"]//div[@class=\"Specs-Wrap\"]//li[2]'):\n",
    "    \n",
    "    display.append(i.get_attribute('title'))\n",
    "print(display)    "
   ]
  },
  {
   "cell_type": "code",
   "execution_count": 84,
   "id": "ac400140",
   "metadata": {},
   "outputs": [
    {
     "name": "stdout",
     "output_type": "stream",
     "text": [
      "['13th Gen Intel Core i7-13700HX | 5.0 GHz Processor', '12th Gen Intel Core i9-12900HX | 3.6 GHz Processor', '12th Gen Intel Core i7-12700H | 4.7 GHz Processor', '13th Gen Intel Core i9-13980HX | 2.2 GHz Processor', '13th Gen Intel Core i7-13700HX  | NA Processor', 'AMD Ryzen 9-6900HS | 4.9 GHz Processor', '12th Gen Intel Core i7-12650H | 4.7 GHz Processor']\n"
     ]
    }
   ],
   "source": [
    "# find processor\n",
    "processor = []\n",
    "for i in driver.find_elements(By.XPATH , '//div[@class=\"Product-specs\"]//div[@class=\"Specs-Wrap\"]//li[4]'):\n",
    "    \n",
    "    processor.append(i.get_attribute('title'))\n",
    "print(processor)    "
   ]
  },
  {
   "cell_type": "code",
   "execution_count": 87,
   "id": "fa0082fb",
   "metadata": {},
   "outputs": [
    {
     "name": "stdout",
     "output_type": "stream",
     "text": [
      "['1 TB SSD/16 GB DDR5 Memory', '2 TB SSD/64 GB DDR5 Memory', '1 TB SSD/32 GB DDR5 Memory', '1 TB SSD/32 GB DDR5 Memory', '1 TB SSD/16 GB DDR5 Memory', '1 TB SSD/16 GB DDR5 Memory', '1 TB SSD/16 GB DDR5 Memory']\n"
     ]
    }
   ],
   "source": [
    "#find memory\n",
    "memory = []\n",
    "for i in driver.find_elements(By.XPATH , '//div[@class=\"Product-specs\"]//div[@class=\"Specs-Wrap\"]//li[5]'):\n",
    "    \n",
    "    memory.append(i.get_attribute('title'))\n",
    "print(memory)    "
   ]
  },
  {
   "cell_type": "code",
   "execution_count": 93,
   "id": "d4faa18c",
   "metadata": {},
   "outputs": [
    {
     "name": "stdout",
     "output_type": "stream",
     "text": [
      "['397.1 x 262 x 27 mm dimension & 2.78 kg weight', '397 x 330 x 23 mm dimension & 3.3 kg weight', '359.9 x 264.4 x 19.9 mm dimension & 3.6 kg weight', '294 x 399 x 23 mm dimension & 3.1 kg weight', '360 x 279 x 28 mm dimension & 2.6 kg weight', '312 x 227 x 19 mm dimension & 1.65 kg weight', '& 1.98 kg weight']\n"
     ]
    }
   ],
   "source": [
    "#find body\n",
    "body = []\n",
    "for i in driver.find_elements(By.XPATH , '//div[@class=\"Spcs-details\"]//tbody//tr[7]'):\n",
    "    body.append(i.text.strip().split(' : ')[1])\n",
    "print(body)    "
   ]
  },
  {
   "cell_type": "code",
   "execution_count": 94,
   "id": "e28aab8c",
   "metadata": {},
   "outputs": [
    {
     "name": "stdout",
     "output_type": "stream",
     "text": [
      "['₹ 269,777', '₹ 499,990', '₹ 179,990', '₹ 279,990', '₹ 149,990', '₹ 156,990', '₹ 125,000']\n"
     ]
    }
   ],
   "source": [
    "#find price\n",
    "price = []\n",
    "for i in driver.find_elements(By.XPATH , '//div[@class=\"Spcs-details\"]//tbody//tr[8]'):\n",
    "    price.append(i.text.strip().split(' : ')[1])\n",
    "print(price)  "
   ]
  },
  {
   "cell_type": "code",
   "execution_count": 96,
   "id": "eb82fbe5",
   "metadata": {},
   "outputs": [
    {
     "data": {
      "text/html": [
       "<div>\n",
       "<style scoped>\n",
       "    .dataframe tbody tr th:only-of-type {\n",
       "        vertical-align: middle;\n",
       "    }\n",
       "\n",
       "    .dataframe tbody tr th {\n",
       "        vertical-align: top;\n",
       "    }\n",
       "\n",
       "    .dataframe thead th {\n",
       "        text-align: right;\n",
       "    }\n",
       "</style>\n",
       "<table border=\"1\" class=\"dataframe\">\n",
       "  <thead>\n",
       "    <tr style=\"text-align: right;\">\n",
       "      <th></th>\n",
       "      <th>Brand</th>\n",
       "      <th>windows</th>\n",
       "      <th>Display</th>\n",
       "      <th>Processor</th>\n",
       "      <th>Memory</th>\n",
       "      <th>Body</th>\n",
       "      <th>Price</th>\n",
       "    </tr>\n",
       "  </thead>\n",
       "  <tbody>\n",
       "    <tr>\n",
       "      <th>0</th>\n",
       "      <td>HP OMEN 17 (2023)</td>\n",
       "      <td>Windows 11 Home OS</td>\n",
       "      <td>17.3\" (2560 x 1440) Display</td>\n",
       "      <td>13th Gen Intel Core i7-13700HX | 5.0 GHz Proce...</td>\n",
       "      <td>1 TB SSD/16 GB DDR5 Memory</td>\n",
       "      <td>397.1 x 262 x 27 mm dimension &amp; 2.78 kg weight</td>\n",
       "      <td>₹ 269,777</td>\n",
       "    </tr>\n",
       "    <tr>\n",
       "      <th>1</th>\n",
       "      <td>MSI Titan GT77 12UHS</td>\n",
       "      <td>Windows 11 Home OS</td>\n",
       "      <td>17.3\" (3840 x 2160) Display</td>\n",
       "      <td>12th Gen Intel Core i9-12900HX | 3.6 GHz Proce...</td>\n",
       "      <td>2 TB SSD/64 GB DDR5 Memory</td>\n",
       "      <td>397 x 330 x 23 mm dimension &amp; 3.3 kg weight</td>\n",
       "      <td>₹ 499,990</td>\n",
       "    </tr>\n",
       "    <tr>\n",
       "      <th>2</th>\n",
       "      <td>Lenovo Legion 5i Pro</td>\n",
       "      <td>Windows 11 Home OS</td>\n",
       "      <td>16\" (2560 x 1600) Display</td>\n",
       "      <td>12th Gen Intel Core i7-12700H | 4.7 GHz Processor</td>\n",
       "      <td>1 TB SSD/32 GB DDR5 Memory</td>\n",
       "      <td>359.9 x 264.4 x 19.9 mm dimension &amp; 3.6 kg weight</td>\n",
       "      <td>₹ 179,990</td>\n",
       "    </tr>\n",
       "    <tr>\n",
       "      <th>3</th>\n",
       "      <td>ASUS ROG Strix Scar 18 2023</td>\n",
       "      <td>Windows 11 Home OS</td>\n",
       "      <td>18\" (1920 x 1200) Display</td>\n",
       "      <td>13th Gen Intel Core i9-13980HX | 2.2 GHz Proce...</td>\n",
       "      <td>1 TB SSD/32 GB DDR5 Memory</td>\n",
       "      <td>294 x 399 x 23 mm dimension &amp; 3.1 kg weight</td>\n",
       "      <td>₹ 279,990</td>\n",
       "    </tr>\n",
       "    <tr>\n",
       "      <th>4</th>\n",
       "      <td>Acer Predator Helios Neo 16</td>\n",
       "      <td>Windows 11 Home OS</td>\n",
       "      <td>16\" (2560 x 1600) Display</td>\n",
       "      <td>13th Gen Intel Core i7-13700HX  | NA Processor</td>\n",
       "      <td>1 TB SSD/16 GB DDR5 Memory</td>\n",
       "      <td>360 x 279 x 28 mm dimension &amp; 2.6 kg weight</td>\n",
       "      <td>₹ 149,990</td>\n",
       "    </tr>\n",
       "    <tr>\n",
       "      <th>5</th>\n",
       "      <td>ASUS ROG Zephyrus G14</td>\n",
       "      <td>Windows 11 Home OS</td>\n",
       "      <td>14\" (1920 x 1200) Display</td>\n",
       "      <td>AMD Ryzen 9-6900HS | 4.9 GHz Processor</td>\n",
       "      <td>1 TB SSD/16 GB DDR5 Memory</td>\n",
       "      <td>312 x 227 x 19 mm dimension &amp; 1.65 kg weight</td>\n",
       "      <td>₹ 156,990</td>\n",
       "    </tr>\n",
       "    <tr>\n",
       "      <th>6</th>\n",
       "      <td>MSI Cyborg 15</td>\n",
       "      <td>Windows 11 Home OS</td>\n",
       "      <td>15.6\" (1920 x 1080) Display</td>\n",
       "      <td>12th Gen Intel Core i7-12650H | 4.7 GHz Processor</td>\n",
       "      <td>1 TB SSD/16 GB DDR5 Memory</td>\n",
       "      <td>&amp; 1.98 kg weight</td>\n",
       "      <td>₹ 125,000</td>\n",
       "    </tr>\n",
       "  </tbody>\n",
       "</table>\n",
       "</div>"
      ],
      "text/plain": [
       "                         Brand             windows  \\\n",
       "0            HP OMEN 17 (2023)  Windows 11 Home OS   \n",
       "1         MSI Titan GT77 12UHS  Windows 11 Home OS   \n",
       "2         Lenovo Legion 5i Pro  Windows 11 Home OS   \n",
       "3  ASUS ROG Strix Scar 18 2023  Windows 11 Home OS   \n",
       "4  Acer Predator Helios Neo 16  Windows 11 Home OS   \n",
       "5        ASUS ROG Zephyrus G14  Windows 11 Home OS   \n",
       "6                MSI Cyborg 15  Windows 11 Home OS   \n",
       "\n",
       "                       Display  \\\n",
       "0  17.3\" (2560 x 1440) Display   \n",
       "1  17.3\" (3840 x 2160) Display   \n",
       "2    16\" (2560 x 1600) Display   \n",
       "3    18\" (1920 x 1200) Display   \n",
       "4    16\" (2560 x 1600) Display   \n",
       "5    14\" (1920 x 1200) Display   \n",
       "6  15.6\" (1920 x 1080) Display   \n",
       "\n",
       "                                           Processor  \\\n",
       "0  13th Gen Intel Core i7-13700HX | 5.0 GHz Proce...   \n",
       "1  12th Gen Intel Core i9-12900HX | 3.6 GHz Proce...   \n",
       "2  12th Gen Intel Core i7-12700H | 4.7 GHz Processor   \n",
       "3  13th Gen Intel Core i9-13980HX | 2.2 GHz Proce...   \n",
       "4     13th Gen Intel Core i7-13700HX  | NA Processor   \n",
       "5             AMD Ryzen 9-6900HS | 4.9 GHz Processor   \n",
       "6  12th Gen Intel Core i7-12650H | 4.7 GHz Processor   \n",
       "\n",
       "                       Memory  \\\n",
       "0  1 TB SSD/16 GB DDR5 Memory   \n",
       "1  2 TB SSD/64 GB DDR5 Memory   \n",
       "2  1 TB SSD/32 GB DDR5 Memory   \n",
       "3  1 TB SSD/32 GB DDR5 Memory   \n",
       "4  1 TB SSD/16 GB DDR5 Memory   \n",
       "5  1 TB SSD/16 GB DDR5 Memory   \n",
       "6  1 TB SSD/16 GB DDR5 Memory   \n",
       "\n",
       "                                                Body      Price  \n",
       "0     397.1 x 262 x 27 mm dimension & 2.78 kg weight  ₹ 269,777  \n",
       "1        397 x 330 x 23 mm dimension & 3.3 kg weight  ₹ 499,990  \n",
       "2  359.9 x 264.4 x 19.9 mm dimension & 3.6 kg weight  ₹ 179,990  \n",
       "3        294 x 399 x 23 mm dimension & 3.1 kg weight  ₹ 279,990  \n",
       "4        360 x 279 x 28 mm dimension & 2.6 kg weight  ₹ 149,990  \n",
       "5       312 x 227 x 19 mm dimension & 1.65 kg weight  ₹ 156,990  \n",
       "6                                   & 1.98 kg weight  ₹ 125,000  "
      ]
     },
     "execution_count": 96,
     "metadata": {},
     "output_type": "execute_result"
    }
   ],
   "source": [
    "Laptops = pd.DataFrame()\n",
    "Laptops['Brand'] = Brand\n",
    "Laptops['windows'] = windows\n",
    "Laptops['Display'] = display\n",
    "Laptops['Processor'] = processor\n",
    "Laptops['Memory'] = memory\n",
    "Laptops['Body'] = body\n",
    "Laptops['Price'] = price\n",
    "Laptops"
   ]
  },
  {
   "cell_type": "code",
   "execution_count": null,
   "id": "fdd310e7",
   "metadata": {},
   "outputs": [],
   "source": []
  },
  {
   "cell_type": "code",
   "execution_count": null,
   "id": "bb322497",
   "metadata": {},
   "outputs": [],
   "source": []
  },
  {
   "cell_type": "markdown",
   "id": "c2eba08f",
   "metadata": {},
   "source": [
    "# Q7"
   ]
  },
  {
   "cell_type": "markdown",
   "id": "ad3a67c7",
   "metadata": {},
   "source": [
    "Write a python program to scrape the details for all billionaires from www.forbes.com. Details to be scrapped:\n",
    "“Rank”, “Name”, “Net worth”, “Age”, “Citizenship”, “Source”, “Industry”."
   ]
  },
  {
   "cell_type": "code",
   "execution_count": 98,
   "id": "32b33f79",
   "metadata": {},
   "outputs": [],
   "source": [
    "driver = webdriver.Chrome()\n",
    "driver.get('https://www.forbes.com/billionaires/')"
   ]
  },
  {
   "cell_type": "code",
   "execution_count": 128,
   "id": "8a26a4f7",
   "metadata": {},
   "outputs": [
    {
     "data": {
      "text/plain": [
       "14"
      ]
     },
     "execution_count": 128,
     "metadata": {},
     "output_type": "execute_result"
    }
   ],
   "source": [
    "len(driver.find_elements(By.XPATH , '//div[@class=\"LeftRail_container__9pEea TableRow_leftRailTable__x2FIq\"]'))"
   ]
  },
  {
   "cell_type": "code",
   "execution_count": 147,
   "id": "edc4eaf8",
   "metadata": {},
   "outputs": [
    {
     "name": "stdout",
     "output_type": "stream",
     "text": [
      "['1', '2', '3', '4', '5', '6', '7', '8', '9', '10', '11', '12', '13', '14', '15', '16', '17', '17', '19', '20', '21', '22', '23', '24', '25', '26', '27', '28', '29', '30', '31', '31', '33', '34', '35', '35', '37', '38', '39', '40', '41', '41', '43', '43', '45', '46', '47', '48', '49', '50', '51', '52', '53', '54', '55', '56', '57', '58', '59', '60', '61', '62', '63', '64', '65', '65', '67', '68', '69', '70', '71', '72', '72', '74', '74', '76', '77', '77', '79', '80', '81', '82', '83', '84', '84', '86', '86', '88', '89', '89', '89', '92', '93', '94', '94', '94', '97', '97', '99', '100', '101', '101', '103', '104', '104', '106', '107', '108', '108', '108', '108', '112', '113', '114', '115', '116', '116', '118', '119', '120', '121', '122', '123', '124', '124', '126', '127', '128', '128', '130', '130', '130', '133', '133', '133', '136', '137', '138', '138', '140', '141', '142', '142', '144', '145', '146', '147', '148', '148', '148', '151', '151', '153', '153', '153', '153', '157', '157', '159', '159', '161', '161', '161', '164', '165', '165', '167', '167', '167', '170', '171', '171', '171', '171', '171', '171', '171', '171', '179', '179', '179', '182', '183', '184', '184', '184', '184', '184', '184', '190', '190', '190', '190', '190', '195', '195', '195', '195', '195', '195']\n"
     ]
    },
    {
     "data": {
      "text/plain": [
       "200"
      ]
     },
     "execution_count": 147,
     "metadata": {},
     "output_type": "execute_result"
    }
   ],
   "source": [
    "#find rank \n",
    "rank = []\n",
    "for i in driver.find_elements(By.XPATH , '//div[@class=\"LeftRail_container__9pEea TableRow_leftRailTable__x2FIq\"]/div[@class=\"TableRow_rowContainer__IC1Tv\"]//div[@class=\"TableRow_row__L-0Km\"]/div[1]'):\n",
    "    rank.append(i.text)\n",
    "print(rank)\n",
    "len(rank)"
   ]
  },
  {
   "cell_type": "code",
   "execution_count": 148,
   "id": "4e672cab",
   "metadata": {},
   "outputs": [
    {
     "name": "stdout",
     "output_type": "stream",
     "text": [
      "['Bernard Arnault & family', 'Elon Musk', 'Jeff Bezos', 'Larry Ellison', 'Warren Buffett', 'Bill Gates', 'Michael Bloomberg', 'Carlos Slim Helu & family', 'Mukesh Ambani', 'Steve Ballmer', 'Francoise Bettencourt Meyers & family', 'Larry Page', 'Amancio Ortega', 'Sergey Brin', 'Zhong Shanshan', 'Mark Zuckerberg', 'Charles Koch', 'Julia Koch & family', 'Jim Walton', 'Rob Walton', 'Alice Walton', 'David Thomson & family', 'Michael Dell', 'Gautam Adani', 'Phil Knight & family', 'Zhang Yiming', 'Dieter Schwarz', 'François Pinault & family', 'Klaus-Michael Kuehne', 'Giovanni Ferrero', 'Jacqueline Mars', 'John Mars', 'Li Ka-shing', 'Ma Huateng', 'Miriam Adelson & family', 'Ken Griffin', 'Mark Mateschitz', 'Robin Zeng', 'Tadashi Yanai & family', 'Len Blavatnik', 'Alain Wertheimer', 'Gerard Wertheimer', 'Gianluigi Aponte', 'Rafaela Aponte-Diamant', 'Colin Zheng Huang', 'Reinhold Wuerth & family', 'Lee Shau Kee', 'Jeff Yass', 'Jim Simons', 'Stephen Schwarzman', 'Susanne Klatten', 'Gina Rinehart', 'William Ding', 'Germán Larrea Mota Velasco & family', 'Shiv Nadar', 'Low Tuck Kwong', 'Thomas Peterffy', 'Andrey Melnichenko & family', 'Stefan Quandt', 'MacKenzie Scott', 'R. Budi Hartono', 'Vladimir Potanin', 'Jack Ma', 'He Xiangjian & family', 'Iris Fontbona & family', 'Michael Hartono', 'James Ratcliffe', 'Cyrus Poonawalla', 'Masayoshi Son', 'Vladimir Lisin', 'Emmanuel Besnier', 'Abigail Johnson', 'Leonid Mikhelson & family', 'Lukas Walton', 'Wang Wei', 'Jensen Huang', 'Leonard Lauder', 'Takemitsu Takizaki', 'Alexey Mordashov & family', 'Vagit Alekperov', 'Thomas Frist, Jr. & family', 'Andrew Forrest', 'Ray Dalio', 'Li Eric', 'Wang Wenyin', 'Eyal Ofer', 'Qin Yinglin', 'Wang Chuanfu', 'Harold Hamm & family', 'David Tepper', 'Gennady Timchenko', 'Daniel Gilbert', 'Lakshmi Mittal', 'Steve Cohen', 'Carl Icahn', 'Savitri Jindal & family', 'Donald Bren', 'John Menard, Jr.', 'Rupert Murdoch & family', 'Vicky Safra & family', 'Theo Albrecht, Jr. & family', 'Renata Kellnerova & family', 'Li Xiting', 'Stefan Persson', 'Eric Schmidt', 'Michael Platt', 'Pang Kang', 'Karl Albrecht Jr. & family', 'Beate Heister', 'Jorge Paulo Lemann & family', 'Peter Woo', 'Dilip Shanghvi', 'Robert Pera', 'Radhakishan Damani', 'Huang Shilin', 'Dhanin Chearavanont', 'David Green & family', 'Charoen Sirivadhanabhakdi', 'Charlene de Carvalho-Heineken & family', 'Xu Hang', 'Wei Jianjun & family', 'Alisher Usmanov', 'Goh Cheng Liang', 'Kumar Birla', 'Aliko Dangote', 'Kwong Siu-hing', 'Idan Ofer', 'Chen Bang', 'Lui Che Woo', 'John Fredriksen', 'Diane Hendricks', 'Jan Koum', 'Jerry Jones', 'George Kaiser', 'Joseph Lau', 'Lu Xiangyang', 'Harry Triguboff', 'Uday Kotak', 'Stanley Kroenke', 'Mikhail Fridman', 'Sarath Ratanavadi', 'Dang Yanbao', 'Jiang Rensheng & family', 'Shahid Khan', 'Laurene Powell Jobs & family', 'Robert Kuok', 'Stephen Ross', 'Pavel Durov', 'Andreas Struengmann & family', 'Thomas Struengmann & family', 'Liu Hanyuan', 'Michael Rubin', 'Israel Englander', 'Viatcheslav Kantor', 'Anthony Pratt', 'Mikhail Prokhorov', 'Giorgio Armani', 'Johann Rupert & family', 'Gong Hongjia & family', 'Zhang Zhidong', 'Philip Anschutz', 'Judy Love & family', 'Ricardo Salinas Pliego & family', 'Donald Newhouse', 'Robert Kraft', 'Marcel Herrmann Telles', 'Suleiman Kerimov & family', 'Chris Xu', 'Changpeng Zhao', 'Andrew Beal', 'Mike Cannon-Brookes', 'Carl Cook', 'David Duffield', 'Jeffery Hildebrand', 'Viktor Rashnikov', 'Eduardo Saverin', 'Georg Schaeffler', 'Christy Walton', 'Scott Farquhar', 'Quek Leng Chan', 'Wu Yajun', 'Autry Stephens', 'Liu Yongxing', 'Vinod Adani', 'Nicolas Puech', 'Jacques Saadé, Jr.', 'Rodolphe Saadé', 'Tanya Saadé Zeenny', 'Melker Schorling & family', 'Andrei Guriev & family', 'Michael Kim', 'Lei Jun', 'Friedhelm Loh', 'Sun Piaoyang', 'Rick Cohen & family', 'Jin Baofang', 'Luo Liguo & family', 'Marijke Mars', 'Pamela Mars', 'Valerie Mars']\n"
     ]
    },
    {
     "data": {
      "text/plain": [
       "200"
      ]
     },
     "execution_count": 148,
     "metadata": {},
     "output_type": "execute_result"
    }
   ],
   "source": [
    "#find name\n",
    "name = []\n",
    "for i in driver.find_elements(By.XPATH , '//div[@class=\"LeftRail_container__9pEea TableRow_leftRailTable__x2FIq\"]/div[@class=\"TableRow_rowContainer__IC1Tv\"]//div[@class=\"TableRow_row__L-0Km\"]/div[2]'):\n",
    "    name.append(i.text)\n",
    "print(name)\n",
    "len(name)"
   ]
  },
  {
   "cell_type": "code",
   "execution_count": 158,
   "id": "c1940e6b",
   "metadata": {},
   "outputs": [
    {
     "name": "stdout",
     "output_type": "stream",
     "text": [
      "['$211 B', '$180 B', '$114 B', '$107 B', '$106 B', '$104 B', '$94.5 B', '$93 B', '$83.4 B', '$80.7 B', '$80.5 B', '$79.2 B', '$77.3 B', '$76 B', '$68 B', '$64.4 B', '$59 B', '$59 B', '$58.8 B', '$57.6 B', '$56.7 B', '$54.4 B', '$50.1 B', '$47.2 B', '$45.1 B', '$45 B', '$42.9 B', '$40.1 B', '$39.1 B', '$38.9 B', '$38.3 B', '$38.3 B', '$38 B', '$35.3 B', '$35 B', '$35 B', '$34.7 B', '$33.4 B', '$32.6 B', '$32.1 B', '$31.6 B', '$31.6 B', '$31.2 B', '$31.2 B', '$30.2 B', '$29.7 B', '$29.5 B', '$28.5 B', '$28.1 B', '$27.8 B', '$27.4 B', '$27 B', '$26.7 B', '$26.6 B', '$25.6 B', '$25.5 B', '$25.3 B', '$25.2 B', '$24.6 B', '$24.4 B', '$24.2 B', '$23.7 B', '$23.5 B', '$23.4 B', '$23.1 B', '$23.1 B', '$22.9 B', '$22.6 B', '$22.4 B', '$22.1 B', '$22 B', '$21.6 B', '$21.6 B', '$21.2 B', '$21.2 B', '$21.1 B', '$21 B', '$21 B', '$20.9 B', '$20.5 B', '$20.2 B', '$19.6 B', '$19.1 B', '$19 B', '$19 B', '$18.9 B', '$18.9 B', '$18.7 B', '$18.5 B', '$18.5 B', '$18.5 B', '$18 B', '$17.7 B', '$17.5 B', '$17.5 B', '$17.5 B', '$17.4 B', '$17.4 B', '$17.1 B', '$16.7 B', '$16.5 B', '$16.5 B', '$16.3 B', '$16.2 B', '$16.2 B', '$16 B', '$15.9 B', '$15.8 B', '$15.8 B', '$15.8 B', '$15.8 B', '$15.6 B', '$15.5 B', '$15.3 B', '$15.2 B', '$14.9 B', '$14.9 B', '$14.8 B', '$14.7 B', '$14.6 B', '$14.5 B', '$14.4 B', '$14.3 B', '$14.2 B', '$14.2 B', '$14.1 B', '$14 B', '$13.9 B', '$13.9 B', '$13.7 B', '$13.7 B', '$13.7 B', '$13.3 B', '$13.3 B', '$13.3 B', '$13.2 B', '$13.1 B', '$12.9 B', '$12.9 B', '$12.6 B', '$12.3 B', '$12.2 B', '$12.2 B', '$12.1 B', '$12 B', '$11.8 B', '$11.6 B', '$11.5 B', '$11.5 B', '$11.5 B', '$11.4 B', '$11.4 B', '$11.3 B', '$11.3 B', '$11.3 B', '$11.3 B', '$11.1 B', '$11.1 B', '$11 B', '$11 B', '$10.9 B', '$10.9 B', '$10.9 B', '$10.7 B', '$10.6 B', '$10.6 B', '$10.5 B', '$10.5 B', '$10.5 B', '$10.3 B', '$10.2 B', '$10.2 B', '$10.2 B', '$10.2 B', '$10.2 B', '$10.2 B', '$10.2 B', '$10.2 B', '$10.1 B', '$10.1 B', '$10.1 B', '$10 B', '$9.9 B', '$9.8 B', '$9.8 B', '$9.8 B', '$9.8 B', '$9.8 B', '$9.8 B', '$9.7 B', '$9.7 B', '$9.7 B', '$9.7 B', '$9.7 B', '$9.6 B', '$9.6 B', '$9.6 B', '$9.6 B', '$9.6 B', '$9.6 B']\n"
     ]
    },
    {
     "data": {
      "text/plain": [
       "200"
      ]
     },
     "execution_count": 158,
     "metadata": {},
     "output_type": "execute_result"
    }
   ],
   "source": [
    "#find Net Worth \n",
    "net_worth = []\n",
    "for i in driver.find_elements(By.XPATH , '//div[@class=\"LeftRail_container__9pEea TableRow_leftRailTable__x2FIq\"]/div[@class=\"TableRow_rowContainer__IC1Tv\"]//div[@class=\"TableRow_row__L-0Km\"]/div[3]'):\n",
    "    net_worth.append(i.text)\n",
    "print(net_worth)\n",
    "len(net_worth)"
   ]
  },
  {
   "cell_type": "code",
   "execution_count": 159,
   "id": "307777a4",
   "metadata": {},
   "outputs": [
    {
     "name": "stdout",
     "output_type": "stream",
     "text": [
      "['74', '51', '59', '78', '92', '67', '81', '83', '65', '67', '69', '50', '87', '49', '68', '38', '87', '60', '74', '78', '73', '65', '58', '60', '85', '39', '83', '86', '85', '58', '83', '87', '94', '51', '77', '54', '30', '54', '74', '65', '74', '72', '82', '78', '43', '87', '95', '64', '84', '76', '60', '69', '51', '69', '77', '74', '78', '51', '56', '52', '82', '62', '58', '80', '80', '83', '70', '81', '65', '66', '52', '61', '67', '36', '52', '60', '90', '77', '57', '72', '84', '61', '73', '59', '55', '72', '57', '57', '77', '65', '70', '61', '72', '66', '87', '73', '90', '83', '92', '70', '72', '55', '72', '75', '67', '55', '67', 'N/A', 'N/A', '83', '76', '67', '45', '68', '56', '83', '81', '78', '68', '60', '59', '69', '95', '55', '65', '93', '67', '57', '94', '78', '76', '47', '80', '80', '71', '60', '90', '64', '75', '58', '57', '50', '69', '72', '59', '99', '82', '38', '73', '73', '59', '50', '74', '69', '62', '57', '88', '72', '58', '51', '83', '85', '67', '93', '81', '73', '57', '39', '45', '70', '43', '60', '82', '64', '74', '41', '58', '74', '43', '81', '59', '85', '74', '74', '80', '51', '53', '55', '75', '63', '59', '53', '76', '64', '70', '70', '67', '58', '62', '64']\n"
     ]
    },
    {
     "data": {
      "text/plain": [
       "200"
      ]
     },
     "execution_count": 159,
     "metadata": {},
     "output_type": "execute_result"
    }
   ],
   "source": [
    "#find AGE \n",
    "age = []\n",
    "for i in driver.find_elements(By.XPATH , '//div[@class=\"LeftRail_container__9pEea TableRow_leftRailTable__x2FIq\"]/div[@class=\"TableRow_rowContainer__IC1Tv\"]//div[@class=\"TableRow_row__L-0Km\"]/div[4]'):\n",
    "    age.append(i.text)\n",
    "print(age)\n",
    "len(age)"
   ]
  },
  {
   "cell_type": "code",
   "execution_count": 157,
   "id": "7e218011",
   "metadata": {},
   "outputs": [
    {
     "name": "stdout",
     "output_type": "stream",
     "text": [
      "['France', 'United States', 'United States', 'United States', 'United States', 'United States', 'United States', 'Mexico', 'India', 'United States', 'France', 'United States', 'Spain', 'United States', 'China', 'United States', 'United States', 'United States', 'United States', 'United States', 'United States', 'Canada', 'United States', 'India', 'United States', 'China', 'Germany', 'France', 'Germany', 'Italy', 'United States', 'United States', 'Hong Kong', 'China', 'United States', 'United States', 'Austria', 'Hong Kong', 'Japan', 'United States', 'France', 'France', 'Switzerland', 'Switzerland', 'China', 'Germany', 'Hong Kong', 'United States', 'United States', 'United States', 'Germany', 'Australia', 'China', 'Mexico', 'India', 'Indonesia', 'United States', 'Russia', 'Germany', 'United States', 'Indonesia', 'Russia', 'China', 'China', 'Chile', 'Indonesia', 'United Kingdom', 'India', 'Japan', 'Russia', 'France', 'United States', 'Russia', 'United States', 'China', 'United States', 'United States', 'Japan', 'Russia', 'Russia', 'United States', 'Australia', 'United States', 'China', 'China', 'Israel', 'China', 'China', 'United States', 'United States', 'Russia', 'United States', 'India', 'United States', 'United States', 'India', 'United States', 'United States', 'United States', 'Brazil', 'Germany', 'Czech Republic', 'Singapore', 'Sweden', 'United States', 'United Kingdom', 'China', 'Germany', 'Germany', 'Brazil', 'Hong Kong', 'India', 'United States', 'India', 'China', 'Thailand', 'United States', 'Thailand', 'Netherlands', 'Hong Kong', 'China', 'Russia', 'Singapore', 'India', 'Nigeria', 'Hong Kong', 'Israel', 'China', 'Hong Kong', 'Cyprus', 'United States', 'United States', 'United States', 'United States', 'Hong Kong', 'China', 'Australia', 'India', 'United States', 'Russia', 'Thailand', 'China', 'China', 'United States', 'United States', 'Malaysia', 'United States', 'United Arab Emirates', 'Germany', 'Germany', 'China', 'United States', 'United States', 'Russia', 'Australia', 'Russia', 'Italy', 'South Africa', 'Hong Kong', 'China', 'United States', 'United States', 'Mexico', 'United States', 'United States', 'Brazil', 'Russia', 'China', 'Canada', 'United States', 'Australia', 'United States', 'United States', 'United States', 'Russia', 'Brazil', 'Germany', 'United States', 'Australia', 'Malaysia', 'China', 'United States', 'China', 'Cyprus', 'France', 'France', 'France', 'France', 'Sweden', 'Russia', 'United States', 'China', 'Germany', 'China', 'United States', 'China', 'China', 'United States', 'United States', 'United States']\n"
     ]
    },
    {
     "data": {
      "text/plain": [
       "200"
      ]
     },
     "execution_count": 157,
     "metadata": {},
     "output_type": "execute_result"
    }
   ],
   "source": [
    "#find country\n",
    "country = []\n",
    "for i in driver.find_elements(By.XPATH , '//div[@class=\"LeftRail_container__9pEea TableRow_leftRailTable__x2FIq\"]/div[@class=\"TableRow_rowContainer__IC1Tv\"]//div[@class=\"TableRow_row__L-0Km\"]/div[5]'):\n",
    "    country.append(i.text)\n",
    "print(country)\n",
    "len(country)"
   ]
  },
  {
   "cell_type": "code",
   "execution_count": 156,
   "id": "6c9e0abd",
   "metadata": {},
   "outputs": [
    {
     "name": "stdout",
     "output_type": "stream",
     "text": [
      "['LVMH', 'Tesla, SpaceX', 'Amazon', 'Oracle', 'Berkshire Hathaway', 'Microsoft', 'Bloomberg LP', 'Telecom', 'Diversified', 'Microsoft', \"L'Oréal\", 'Google', 'Zara', 'Google', 'Beverages, pharmaceuticals', 'Facebook', 'Koch Industries', 'Koch Industries', 'Walmart', 'Walmart', 'Walmart', 'Media', 'Dell Technologies', 'Infrastructure, commodities', 'Nike', 'TikTok', 'Retail', 'Luxury goods', 'Shipping', 'Nutella, chocolates', 'Candy, pet food', 'Candy, pet food', 'Diversified', 'Internet media', 'Casinos', 'Hedge funds', 'Red Bull', 'Batteries', 'Fashion retail', 'Music, chemicals', 'Chanel', 'Chanel', 'Shipping', 'Shipping', 'E-commerce', 'Fasteners', 'Real estate', 'Trading, investments', 'Hedge funds', 'Investments', 'BMW, pharmaceuticals', 'Mining', 'Online games', 'Mining', 'software services', 'Coal', 'Discount brokerage', 'Fertilizers, coal', 'BMW', 'Amazon', 'Banking, tobacco', 'Metals', 'E-commerce', 'Home appliances', 'Mining', 'Banking, tobacco', 'Chemicals', 'Vaccines', 'Internet, telecom', 'Steel, transport', 'Cheese', 'Fidelity', 'Gas, chemicals', 'Walmart', 'Package delivery', 'Semiconductors', 'Estee Lauder', 'Sensors', 'Steel, investments', 'Oil', 'Hospitals', 'Mining', 'Hedge funds', 'Automobiles', 'Mining, copper products', 'Real estate, shipping', 'Pig breeding', 'Batteries, automobiles', 'Oil & gas', 'Hedge funds', 'Oil, gas', 'Quicken Loans', 'Steel', 'Hedge funds', 'Investments', 'Steel', 'Real estate', 'Home improvement stores', 'Newspapers, TV network', 'Banking', \"Aldi, Trader Joe's\", 'Finance, telecommunications', 'medical devices', 'H&M', 'Google', 'Hedge funds', 'Soy sauce', 'Supermarkets', 'Supermarkets', 'Beer', 'Real estate', 'Pharmaceuticals', 'Wireless networking', 'Retail, investments', 'Batteries', 'Diversified', 'Retail', 'Alcohol, real estate', 'Heineken', 'Medical devices', 'Automobiles', 'Steel, telecom, investments', 'Paints', 'Commodities', 'Cement, sugar', 'Real estate', 'Shipping', 'Hospitals', 'Casinos/hotels', 'Shipping', 'Building supplies', 'WhatsApp', 'Dallas Cowboys', 'Oil & gas, banking', 'Real estate', 'Automobiles, batteries', 'Real estate', 'Banking', 'Sports, real estate', 'Oil, banking, telecom', 'Energy', 'Coal', 'Vaccines', 'Auto parts', 'Apple, Disney', 'Palm oil, shipping, property', 'Real estate', 'Messaging app', 'Pharmaceuticals', 'Pharmaceuticals', 'Agribusiness', 'Online retail', 'Hedge funds', 'Fertilizer, real estate', 'Manufacturing', 'Investments', 'Luxury goods', 'Luxury goods', 'Video surveillance', 'Internet media', 'Energy, sports, entertainment', 'Gas stations', 'Retail, media', 'Media', 'Manufacturing, New England Patriots', 'Beer', 'Gold', 'E-commerce', 'Cryptocurrency exchange', 'Banks, real estate', 'Software', 'Medical devices', 'Business software', 'Oil', 'Steel', 'Facebook', 'Auto parts', 'Walmart', 'Software', 'Banking, property', 'Real estate', 'Oil', 'Diversified', 'Infrastructure, commodities', 'Hermes', 'Shipping', 'Shipping', 'Shipping', 'Investments', 'Fertilizers', 'Private equity', 'Smartphones', 'Manufacturing', 'Pharmaceuticals', 'Warehouse automation', 'Solar panels', 'Chemicals', 'Candy, pet food', 'Candy, pet food', 'Candy, pet food']\n"
     ]
    },
    {
     "data": {
      "text/plain": [
       "200"
      ]
     },
     "execution_count": 156,
     "metadata": {},
     "output_type": "execute_result"
    }
   ],
   "source": [
    "#find source \n",
    "source = []\n",
    "for i in driver.find_elements(By.XPATH , '//div[@class=\"LeftRail_container__9pEea TableRow_leftRailTable__x2FIq\"]/div[@class=\"TableRow_rowContainer__IC1Tv\"]//div[@class=\"TableRow_row__L-0Km\"]/div[6]'):\n",
    "    source.append(i.text)\n",
    "print(source)\n",
    "len(source)"
   ]
  },
  {
   "cell_type": "code",
   "execution_count": 160,
   "id": "ca089186",
   "metadata": {},
   "outputs": [
    {
     "name": "stdout",
     "output_type": "stream",
     "text": [
      "['Fashion & Retail', 'Automotive', 'Technology', 'Technology', 'Finance & Investments', 'Technology', 'Media & Entertainment', 'Telecom', 'Diversified', 'Technology', 'Fashion & Retail', 'Technology', 'Fashion & Retail', 'Technology', 'Food & Beverage', 'Technology', 'Diversified', 'Diversified', 'Fashion & Retail', 'Fashion & Retail', 'Fashion & Retail', 'Media & Entertainment', 'Technology', 'Diversified', 'Fashion & Retail', 'Technology', 'Fashion & Retail', 'Fashion & Retail', 'Logistics', 'Food & Beverage', 'Food & Beverage', 'Food & Beverage', 'Diversified', 'Technology', 'Gambling & Casinos', 'Finance & Investments', 'Food & Beverage', 'Automotive', 'Fashion & Retail', 'Diversified', 'Fashion & Retail', 'Fashion & Retail', 'Logistics', 'Logistics', 'Technology', 'Manufacturing', 'Real Estate', 'Finance & Investments', 'Finance & Investments', 'Finance & Investments', 'Automotive', 'Metals & Mining', 'Technology', 'Metals & Mining', 'Technology', 'Energy', 'Finance & Investments', 'Metals & Mining', 'Automotive', 'Technology', 'Finance & Investments', 'Metals & Mining', 'Technology', 'Manufacturing', 'Metals & Mining', 'Manufacturing', 'Manufacturing', 'Healthcare', 'Telecom', 'Metals & Mining', 'Food & Beverage', 'Finance & Investments', 'Energy', 'Fashion & Retail', 'Service', 'Technology', 'Fashion & Retail', 'Manufacturing', 'Metals & Mining', 'Energy', 'Healthcare', 'Metals & Mining', 'Finance & Investments', 'Automotive', 'Metals & Mining', 'Diversified', 'Food & Beverage', 'Automotive', 'Energy', 'Finance & Investments', 'Energy', 'Finance & Investments', 'Metals & Mining', 'Finance & Investments', 'Finance & Investments', 'Metals & Mining', 'Real Estate', 'Fashion & Retail', 'Media & Entertainment', 'Finance & Investments', 'Fashion & Retail', 'Finance & Investments', 'Healthcare', 'Fashion & Retail', 'Technology', 'Finance & Investments', 'Food & Beverage', 'Fashion & Retail', 'Fashion & Retail', 'Food & Beverage', 'Real Estate', 'Healthcare', 'Technology', 'Fashion & Retail', 'Automotive', 'Diversified', 'Fashion & Retail', 'Food & Beverage', 'Food & Beverage', 'Healthcare', 'Automotive', 'Metals & Mining', 'Manufacturing', 'Diversified', 'Manufacturing', 'Real Estate', 'Diversified', 'Healthcare', 'Gambling & Casinos', 'Logistics', 'Construction & Engineering', 'Technology', 'Sports', 'Energy', 'Real Estate', 'Automotive', 'Real Estate', 'Finance & Investments', 'Sports', 'Energy', 'Energy', 'Metals & Mining', 'Healthcare', 'Automotive', 'Technology', 'Diversified', 'Real Estate', 'Technology', 'Healthcare', 'Healthcare', 'Food & Beverage', 'Fashion & Retail', 'Finance & Investments', 'Manufacturing', 'Manufacturing', 'Finance & Investments', 'Fashion & Retail', 'Fashion & Retail', 'Finance & Investments', 'Technology', 'Finance & Investments', 'Fashion & Retail', 'Fashion & Retail', 'Media & Entertainment', 'Sports', 'Food & Beverage', 'Finance & Investments', 'Fashion & Retail', 'Finance & Investments', 'Finance & Investments', 'Technology', 'Healthcare', 'Technology', 'Energy', 'Manufacturing', 'Technology', 'Automotive', 'Fashion & Retail', 'Technology', 'Diversified', 'Real Estate', 'Energy', 'Service', 'Diversified', 'Fashion & Retail', 'Logistics', 'Logistics', 'Logistics', 'Finance & Investments', 'Manufacturing', 'Finance & Investments', 'Technology', 'Manufacturing', 'Healthcare', 'Technology', 'Energy', 'Manufacturing', 'Food & Beverage', 'Food & Beverage', 'Food & Beverage']\n"
     ]
    },
    {
     "data": {
      "text/plain": [
       "200"
      ]
     },
     "execution_count": 160,
     "metadata": {},
     "output_type": "execute_result"
    }
   ],
   "source": [
    "# find industry\n",
    "industry = []\n",
    "for i in driver.find_elements(By.XPATH , '//div[@class=\"LeftRail_container__9pEea TableRow_leftRailTable__x2FIq\"]/div[@class=\"TableRow_rowContainer__IC1Tv\"]//div[@class=\"TableRow_row__L-0Km\"]/div[7]'):\n",
    "    industry.append(i.text)\n",
    "print(industry)\n",
    "len(industry)"
   ]
  },
  {
   "cell_type": "code",
   "execution_count": null,
   "id": "0f3544d9",
   "metadata": {},
   "outputs": [],
   "source": []
  },
  {
   "cell_type": "code",
   "execution_count": 168,
   "id": "d38e0122",
   "metadata": {},
   "outputs": [],
   "source": [
    "ranks=[]\n",
    "names=[]\n",
    "worths=[]\n",
    "ages=[]\n",
    "countries = []\n",
    "sources = []\n",
    "industries = []\n",
    "for pages in range(0,14):\n",
    "    \n",
    "    for i in driver.find_elements(By.XPATH , '//div[@class=\"LeftRail_container__9pEea TableRow_leftRailTable__x2FIq\"]/div[@class=\"TableRow_rowContainer__IC1Tv\"]//div[@class=\"TableRow_row__L-0Km\"]/div[1]'):\n",
    "        \n",
    "        ranks.append(i.text)\n",
    "        \n",
    "    for i in driver.find_elements(By.XPATH , '//div[@class=\"LeftRail_container__9pEea TableRow_leftRailTable__x2FIq\"]/div[@class=\"TableRow_rowContainer__IC1Tv\"]//div[@class=\"TableRow_row__L-0Km\"]/div[2]'):\n",
    "        names.append(i.text)\n",
    "    \n",
    "    for i in driver.find_elements(By.XPATH , '//div[@class=\"LeftRail_container__9pEea TableRow_leftRailTable__x2FIq\"]/div[@class=\"TableRow_rowContainer__IC1Tv\"]//div[@class=\"TableRow_row__L-0Km\"]/div[3]'):\n",
    "        worths.append(i.text)\n",
    "    \n",
    "    for i in driver.find_elements(By.XPATH , '//div[@class=\"LeftRail_container__9pEea TableRow_leftRailTable__x2FIq\"]/div[@class=\"TableRow_rowContainer__IC1Tv\"]//div[@class=\"TableRow_row__L-0Km\"]/div[4]'):\n",
    "        ages.append(i.text)\n",
    "    \n",
    "    for i in driver.find_elements(By.XPATH , '//div[@class=\"LeftRail_container__9pEea TableRow_leftRailTable__x2FIq\"]/div[@class=\"TableRow_rowContainer__IC1Tv\"]//div[@class=\"TableRow_row__L-0Km\"]/div[5]'):\n",
    "        countries.append(i.text)\n",
    "    \n",
    "    for i in driver.find_elements(By.XPATH , '//div[@class=\"LeftRail_container__9pEea TableRow_leftRailTable__x2FIq\"]/div[@class=\"TableRow_rowContainer__IC1Tv\"]//div[@class=\"TableRow_row__L-0Km\"]/div[6]'):\n",
    "        sources.append(i.text)\n",
    "        \n",
    "    for i in driver.find_elements(By.XPATH , '//div[@class=\"LeftRail_container__9pEea TableRow_leftRailTable__x2FIq\"]/div[@class=\"TableRow_rowContainer__IC1Tv\"]//div[@class=\"TableRow_row__L-0Km\"]/div[7]'):\n",
    "        industries.append(i.text) \n",
    "    \n",
    "    next_button= driver.find_element(By.XPATH , '//button[@class=\"Pagination_paginationBtn__UIBE-\"]')\n",
    "    next_button.click()\n",
    "    time.sleep(2)"
   ]
  },
  {
   "cell_type": "code",
   "execution_count": 179,
   "id": "3c352ab7",
   "metadata": {},
   "outputs": [
    {
     "data": {
      "text/html": [
       "<div>\n",
       "<style scoped>\n",
       "    .dataframe tbody tr th:only-of-type {\n",
       "        vertical-align: middle;\n",
       "    }\n",
       "\n",
       "    .dataframe tbody tr th {\n",
       "        vertical-align: top;\n",
       "    }\n",
       "\n",
       "    .dataframe thead th {\n",
       "        text-align: right;\n",
       "    }\n",
       "</style>\n",
       "<table border=\"1\" class=\"dataframe\">\n",
       "  <thead>\n",
       "    <tr style=\"text-align: right;\">\n",
       "      <th></th>\n",
       "      <th>Ranks</th>\n",
       "      <th>Names</th>\n",
       "      <th>Net Worth</th>\n",
       "      <th>Age</th>\n",
       "      <th>Country</th>\n",
       "      <th>Source</th>\n",
       "      <th>Industry</th>\n",
       "    </tr>\n",
       "  </thead>\n",
       "  <tbody>\n",
       "    <tr>\n",
       "      <th>0</th>\n",
       "      <td>1</td>\n",
       "      <td>Bernard Arnault &amp; family</td>\n",
       "      <td>$211 B</td>\n",
       "      <td>74</td>\n",
       "      <td>France</td>\n",
       "      <td>LVMH</td>\n",
       "      <td>Fashion &amp; Retail</td>\n",
       "    </tr>\n",
       "    <tr>\n",
       "      <th>1</th>\n",
       "      <td>2</td>\n",
       "      <td>Elon Musk</td>\n",
       "      <td>$180 B</td>\n",
       "      <td>51</td>\n",
       "      <td>United States</td>\n",
       "      <td>Tesla, SpaceX</td>\n",
       "      <td>Automotive</td>\n",
       "    </tr>\n",
       "    <tr>\n",
       "      <th>2</th>\n",
       "      <td>3</td>\n",
       "      <td>Jeff Bezos</td>\n",
       "      <td>$114 B</td>\n",
       "      <td>59</td>\n",
       "      <td>United States</td>\n",
       "      <td>Amazon</td>\n",
       "      <td>Technology</td>\n",
       "    </tr>\n",
       "    <tr>\n",
       "      <th>3</th>\n",
       "      <td>4</td>\n",
       "      <td>Larry Ellison</td>\n",
       "      <td>$107 B</td>\n",
       "      <td>78</td>\n",
       "      <td>United States</td>\n",
       "      <td>Oracle</td>\n",
       "      <td>Technology</td>\n",
       "    </tr>\n",
       "    <tr>\n",
       "      <th>4</th>\n",
       "      <td>5</td>\n",
       "      <td>Warren Buffett</td>\n",
       "      <td>$106 B</td>\n",
       "      <td>92</td>\n",
       "      <td>United States</td>\n",
       "      <td>Berkshire Hathaway</td>\n",
       "      <td>Finance &amp; Investments</td>\n",
       "    </tr>\n",
       "    <tr>\n",
       "      <th>...</th>\n",
       "      <td>...</td>\n",
       "      <td>...</td>\n",
       "      <td>...</td>\n",
       "      <td>...</td>\n",
       "      <td>...</td>\n",
       "      <td>...</td>\n",
       "      <td>...</td>\n",
       "    </tr>\n",
       "    <tr>\n",
       "      <th>2782</th>\n",
       "      <td>390</td>\n",
       "      <td>Radovan Vitek</td>\n",
       "      <td>$6.5 B</td>\n",
       "      <td>51</td>\n",
       "      <td>Czech Republic</td>\n",
       "      <td>Real estate</td>\n",
       "      <td>Real Estate</td>\n",
       "    </tr>\n",
       "    <tr>\n",
       "      <th>2783</th>\n",
       "      <td>397</td>\n",
       "      <td>Carl Bennet</td>\n",
       "      <td>$6.4 B</td>\n",
       "      <td>71</td>\n",
       "      <td>Sweden</td>\n",
       "      <td>Investments</td>\n",
       "      <td>Finance &amp; Investments</td>\n",
       "    </tr>\n",
       "    <tr>\n",
       "      <th>2784</th>\n",
       "      <td>397</td>\n",
       "      <td>Stephen Bisciotti</td>\n",
       "      <td>$6.4 B</td>\n",
       "      <td>62</td>\n",
       "      <td>United States</td>\n",
       "      <td>Staffing, Baltimore Ravens</td>\n",
       "      <td>Sports</td>\n",
       "    </tr>\n",
       "    <tr>\n",
       "      <th>2785</th>\n",
       "      <td>397</td>\n",
       "      <td>Stanley Druckenmiller</td>\n",
       "      <td>$6.4 B</td>\n",
       "      <td>69</td>\n",
       "      <td>United States</td>\n",
       "      <td>Hedge funds</td>\n",
       "      <td>Finance &amp; Investments</td>\n",
       "    </tr>\n",
       "    <tr>\n",
       "      <th>2786</th>\n",
       "      <td>397</td>\n",
       "      <td>Jian Jun</td>\n",
       "      <td>$6.4 B</td>\n",
       "      <td>59</td>\n",
       "      <td>China</td>\n",
       "      <td>Biomedical products</td>\n",
       "      <td>Healthcare</td>\n",
       "    </tr>\n",
       "  </tbody>\n",
       "</table>\n",
       "<p>2787 rows × 7 columns</p>\n",
       "</div>"
      ],
      "text/plain": [
       "     Ranks                     Names Net Worth Age         Country  \\\n",
       "0        1  Bernard Arnault & family    $211 B  74          France   \n",
       "1        2                 Elon Musk    $180 B  51   United States   \n",
       "2        3                Jeff Bezos    $114 B  59   United States   \n",
       "3        4             Larry Ellison    $107 B  78   United States   \n",
       "4        5            Warren Buffett    $106 B  92   United States   \n",
       "...    ...                       ...       ...  ..             ...   \n",
       "2782   390             Radovan Vitek    $6.5 B  51  Czech Republic   \n",
       "2783   397               Carl Bennet    $6.4 B  71          Sweden   \n",
       "2784   397         Stephen Bisciotti    $6.4 B  62   United States   \n",
       "2785   397     Stanley Druckenmiller    $6.4 B  69   United States   \n",
       "2786   397                  Jian Jun    $6.4 B  59           China   \n",
       "\n",
       "                          Source               Industry  \n",
       "0                           LVMH       Fashion & Retail  \n",
       "1                  Tesla, SpaceX             Automotive  \n",
       "2                         Amazon             Technology  \n",
       "3                         Oracle             Technology  \n",
       "4             Berkshire Hathaway  Finance & Investments  \n",
       "...                          ...                    ...  \n",
       "2782                 Real estate            Real Estate  \n",
       "2783                 Investments  Finance & Investments  \n",
       "2784  Staffing, Baltimore Ravens                 Sports  \n",
       "2785                 Hedge funds  Finance & Investments  \n",
       "2786         Biomedical products             Healthcare  \n",
       "\n",
       "[2787 rows x 7 columns]"
      ]
     },
     "execution_count": 179,
     "metadata": {},
     "output_type": "execute_result"
    }
   ],
   "source": [
    "billionaires = pd.DataFrame()\n",
    "billionaires['Ranks'] = ranks\n",
    "billionaires['Names'] = names\n",
    "billionaires['Net Worth'] = worths\n",
    "billionaires['Age'] = ages\n",
    "billionaires['Country'] = countries\n",
    "billionaires['Source'] = sources\n",
    "billionaires['Industry'] = industries\n",
    "billionaires"
   ]
  },
  {
   "cell_type": "code",
   "execution_count": 180,
   "id": "422a4b01",
   "metadata": {},
   "outputs": [],
   "source": [
    "#export to csv\n",
    "billionaires.to_csv('E:\\\\Datatrained\\\\internship\\\\Billionaires.csv' , index=False)"
   ]
  },
  {
   "cell_type": "code",
   "execution_count": null,
   "id": "034b99a3",
   "metadata": {},
   "outputs": [],
   "source": []
  },
  {
   "cell_type": "code",
   "execution_count": null,
   "id": "8ea7700e",
   "metadata": {},
   "outputs": [],
   "source": []
  },
  {
   "cell_type": "markdown",
   "id": "6ab6fc4e",
   "metadata": {},
   "source": [
    "# Q8"
   ]
  },
  {
   "cell_type": "markdown",
   "id": "217e24ef",
   "metadata": {},
   "source": [
    "Write a program to extract at least 500 Comments, Comment upvote and time when comment was posted\n",
    "from any YouTube Video."
   ]
  },
  {
   "cell_type": "code",
   "execution_count": 2,
   "id": "33c67cab",
   "metadata": {},
   "outputs": [],
   "source": [
    "driver = webdriver.Chrome()\n",
    "driver.get('https://www.youtube.com/watch?v=A50eUEnP8oU')"
   ]
  },
  {
   "cell_type": "code",
   "execution_count": 19,
   "id": "a47e701f",
   "metadata": {},
   "outputs": [],
   "source": [
    "#scrape the comments\n",
    "comments = []\n",
    "try:\n",
    "    #use execute script to scroll down the page\n",
    "    driver.execute_script(\"window.scrollTo(0,Math.max(document.documentElement.scrollHeight,document.body.scrollHeight,document.documentElement.clientHeight))\")\n",
    "    time.sleep(20)\n",
    "    for i in driver.find_elements(By.XPATH , '//ytd-comments[@id=\"comments\"]//yt-formatted-string[@id=\"content-text\"]')[0:500]:\n",
    "        comments.append(i.text)\n",
    "except Exception as e:\n",
    "    print(e)"
   ]
  },
  {
   "cell_type": "code",
   "execution_count": 20,
   "id": "939f4276",
   "metadata": {},
   "outputs": [
    {
     "data": {
      "text/plain": [
       "500"
      ]
     },
     "execution_count": 20,
     "metadata": {},
     "output_type": "execute_result"
    }
   ],
   "source": [
    "len(comments)"
   ]
  },
  {
   "cell_type": "code",
   "execution_count": 68,
   "id": "7c3f15ae",
   "metadata": {},
   "outputs": [],
   "source": [
    "#scrape times of comments\n",
    "timed = []\n",
    "driver.execute_script(\"window.scrollTo(0,Math.max(document.documentElement.scrollHeight,document.body.scrollHeight,document.documentElement.clientHeight))\")\n",
    "time.sleep(3)\n",
    "for i in driver.find_elements(By.XPATH , '//ytd-comments[@id=\"comments\"]//yt-formatted-string[@class=\"published-time-text style-scope ytd-comment-renderer\"]/a')[0:500]:\n",
    "        timed.append(i.text)\n",
    "        if len(timed) == 500:\n",
    "            break"
   ]
  },
  {
   "cell_type": "code",
   "execution_count": 114,
   "id": "e8cac4b1",
   "metadata": {},
   "outputs": [
    {
     "data": {
      "text/plain": [
       "500"
      ]
     },
     "execution_count": 114,
     "metadata": {},
     "output_type": "execute_result"
    }
   ],
   "source": [
    "len(timed)"
   ]
  },
  {
   "cell_type": "code",
   "execution_count": null,
   "id": "09dc8474",
   "metadata": {},
   "outputs": [],
   "source": []
  },
  {
   "cell_type": "code",
   "execution_count": 110,
   "id": "29e02eb2",
   "metadata": {},
   "outputs": [],
   "source": [
    "#scrape upvotes of comments\n",
    "votes = []\n",
    "\n",
    "driver.execute_script(\"window.scrollTo(0,Math.max(document.documentElement.scrollHeight,document.body.scrollHeight,document.documentElement.clientHeight))\")\n",
    "time.sleep(20)\n",
    "\n",
    "like = driver.find_elements(By.XPATH , '//span[@id=\"vote-count-middle\"]')[0:500]\n",
    "\n",
    "for i in like:\n",
    "    if i.text == None:\n",
    "        votes.append(0)\n",
    "    else:\n",
    "        votes.append(i.text)\n",
    "        \n",
    "        \n",
    "        if len(votes) == 500:\n",
    "            break"
   ]
  },
  {
   "cell_type": "code",
   "execution_count": 116,
   "id": "c3f36a73",
   "metadata": {},
   "outputs": [
    {
     "data": {
      "text/plain": [
       "500"
      ]
     },
     "execution_count": 116,
     "metadata": {},
     "output_type": "execute_result"
    }
   ],
   "source": [
    "len(votes)"
   ]
  },
  {
   "cell_type": "code",
   "execution_count": 127,
   "id": "20c9d832",
   "metadata": {},
   "outputs": [
    {
     "data": {
      "text/html": [
       "<div>\n",
       "<style scoped>\n",
       "    .dataframe tbody tr th:only-of-type {\n",
       "        vertical-align: middle;\n",
       "    }\n",
       "\n",
       "    .dataframe tbody tr th {\n",
       "        vertical-align: top;\n",
       "    }\n",
       "\n",
       "    .dataframe thead th {\n",
       "        text-align: right;\n",
       "    }\n",
       "</style>\n",
       "<table border=\"1\" class=\"dataframe\">\n",
       "  <thead>\n",
       "    <tr style=\"text-align: right;\">\n",
       "      <th></th>\n",
       "      <th>Comments</th>\n",
       "      <th>Times</th>\n",
       "      <th>Upvotes</th>\n",
       "    </tr>\n",
       "  </thead>\n",
       "  <tbody>\n",
       "    <tr>\n",
       "      <th>0</th>\n",
       "      <td>Greatest of all time</td>\n",
       "      <td>1 month ago</td>\n",
       "      <td>2.8K</td>\n",
       "    </tr>\n",
       "    <tr>\n",
       "      <th>1</th>\n",
       "      <td>What a goal, What a player, What a man, What a...</td>\n",
       "      <td>1 month ago</td>\n",
       "      <td>734</td>\n",
       "    </tr>\n",
       "    <tr>\n",
       "      <th>2</th>\n",
       "      <td>The fact both managers had a smile on their fa...</td>\n",
       "      <td>1 month ago</td>\n",
       "      <td>508</td>\n",
       "    </tr>\n",
       "    <tr>\n",
       "      <th>3</th>\n",
       "      <td>What a goal from the G.O.A.T, in his debut he ...</td>\n",
       "      <td>1 month ago</td>\n",
       "      <td>171</td>\n",
       "    </tr>\n",
       "    <tr>\n",
       "      <th>4</th>\n",
       "      <td>Started with a legendary goal.... THE GREATEST...</td>\n",
       "      <td>1 month ago</td>\n",
       "      <td>213</td>\n",
       "    </tr>\n",
       "    <tr>\n",
       "      <th>...</th>\n",
       "      <td>...</td>\n",
       "      <td>...</td>\n",
       "      <td>...</td>\n",
       "    </tr>\n",
       "    <tr>\n",
       "      <th>495</th>\n",
       "      <td>0:34 he looks so happy! That smile means every...</td>\n",
       "      <td>1 month ago</td>\n",
       "      <td></td>\n",
       "    </tr>\n",
       "    <tr>\n",
       "      <th>496</th>\n",
       "      <td>He’s the hero</td>\n",
       "      <td>1 month ago</td>\n",
       "      <td></td>\n",
       "    </tr>\n",
       "    <tr>\n",
       "      <th>497</th>\n",
       "      <td>Messi brought a new dimension of football to t...</td>\n",
       "      <td>1 month ago</td>\n",
       "      <td></td>\n",
       "    </tr>\n",
       "    <tr>\n",
       "      <th>498</th>\n",
       "      <td>Es de película este muchacho es el mejor de to...</td>\n",
       "      <td>1 month ago</td>\n",
       "      <td></td>\n",
       "    </tr>\n",
       "    <tr>\n",
       "      <th>499</th>\n",
       "      <td>Congratulations to Inter Miami players adapted...</td>\n",
       "      <td>1 month ago</td>\n",
       "      <td>1</td>\n",
       "    </tr>\n",
       "  </tbody>\n",
       "</table>\n",
       "<p>500 rows × 3 columns</p>\n",
       "</div>"
      ],
      "text/plain": [
       "                                              Comments        Times Upvotes\n",
       "0                                 Greatest of all time  1 month ago    2.8K\n",
       "1    What a goal, What a player, What a man, What a...  1 month ago     734\n",
       "2    The fact both managers had a smile on their fa...  1 month ago     508\n",
       "3    What a goal from the G.O.A.T, in his debut he ...  1 month ago     171\n",
       "4    Started with a legendary goal.... THE GREATEST...  1 month ago     213\n",
       "..                                                 ...          ...     ...\n",
       "495  0:34 he looks so happy! That smile means every...  1 month ago        \n",
       "496                                     He’s the hero   1 month ago        \n",
       "497  Messi brought a new dimension of football to t...  1 month ago        \n",
       "498  Es de película este muchacho es el mejor de to...  1 month ago        \n",
       "499  Congratulations to Inter Miami players adapted...  1 month ago       1\n",
       "\n",
       "[500 rows x 3 columns]"
      ]
     },
     "execution_count": 127,
     "metadata": {},
     "output_type": "execute_result"
    }
   ],
   "source": [
    "youtube_comments = pd.DataFrame()\n",
    "youtube_comments['Comments'] = comments[0:500]\n",
    "youtube_comments['Times']   = timed\n",
    "youtube_comments['Upvotes'] = votes\n",
    "youtube_comments"
   ]
  },
  {
   "cell_type": "code",
   "execution_count": 132,
   "id": "f72c3948",
   "metadata": {},
   "outputs": [],
   "source": [
    "#Export to Data Frame\n",
    "youtube_comments.to_csv('E:\\\\Datatrained\\\\internship\\\\youtube comments.csv')"
   ]
  },
  {
   "cell_type": "code",
   "execution_count": null,
   "id": "0f871dc0",
   "metadata": {},
   "outputs": [],
   "source": []
  },
  {
   "cell_type": "code",
   "execution_count": null,
   "id": "bb380863",
   "metadata": {},
   "outputs": [],
   "source": []
  },
  {
   "cell_type": "markdown",
   "id": "4ca3c4f8",
   "metadata": {},
   "source": [
    "# Q9"
   ]
  },
  {
   "cell_type": "markdown",
   "id": "3bed02b8",
   "metadata": {},
   "source": [
    "Write a python program to scrape a data for all available Hostels from https://www.hostelworld.com/ in\n",
    "“London” location. You have to scrape hostel name, distance from city centre, ratings, total reviews, overall\n",
    "reviews, privates from price, dorms from price, facilities and property description"
   ]
  },
  {
   "cell_type": "code",
   "execution_count": 400,
   "id": "488387fe",
   "metadata": {},
   "outputs": [],
   "source": [
    "driver = webdriver.Chrome()\n",
    "driver.get('https://www.hostelworld.com/')"
   ]
  },
  {
   "cell_type": "code",
   "execution_count": 401,
   "id": "282a4c0f",
   "metadata": {},
   "outputs": [],
   "source": [
    "# insert londn in search bar\n",
    "search_bar = driver.find_element(By.XPATH , '/html/body/div[3]/div/div/div[2]/div[2]/div[2]/div/div/div/div[1]/div[1]/div/div[2]/input')\n",
    "search_bar.send_keys('London')"
   ]
  },
  {
   "cell_type": "code",
   "execution_count": 402,
   "id": "e8e29475",
   "metadata": {},
   "outputs": [],
   "source": [
    "#choose first item\n",
    "driver.find_element(By.XPATH ,'/html/body/div[3]/div/div/div[2]/div[2]/div[2]/div/div/div/div[1]/div[2]/div/ul/li[2]/button/div[2]/div[1]' ).click()\n",
    "\n",
    "#now press on search button\n",
    "driver.find_element(By.XPATH , '/html/body/div[3]/div/div/div[2]/div[2]/div[2]/div/div/div/div[5]/button').click()"
   ]
  },
  {
   "cell_type": "code",
   "execution_count": 404,
   "id": "badc4c09",
   "metadata": {},
   "outputs": [],
   "source": [
    "url = []\n",
    "for pages in range(0,3):\n",
    "    for i in driver.find_elements(By.XPATH , '//div[@class=\"property-card\"]/a'):       \n",
    "        url.append(i.get_attribute('href'))\n",
    "        \n",
    "    driver.find_element(By.XPATH ,'//button[@class=\"pill-content page-nav nav-right icon-only\"]').click()\n",
    "    time.sleep(2)\n",
    "  "
   ]
  },
  {
   "cell_type": "code",
   "execution_count": 405,
   "id": "d8ff1071",
   "metadata": {},
   "outputs": [
    {
     "data": {
      "text/plain": [
       "76"
      ]
     },
     "execution_count": 405,
     "metadata": {},
     "output_type": "execute_result"
    }
   ],
   "source": [
    "len(url)"
   ]
  },
  {
   "cell_type": "code",
   "execution_count": 407,
   "id": "6ed5af18",
   "metadata": {},
   "outputs": [
    {
     "data": {
      "text/plain": [
       "['https://www.hostelworld.com/pwa/hosteldetails.php/Astor-Kensington/London/523?from=2023-08-31&to=2023-09-03&guests=2',\n",
       " 'https://www.hostelworld.com/pwa/hosteldetails.php/Saint-James-Backpackers/London/70909?from=2023-08-31&to=2023-09-03&guests=2',\n",
       " 'https://www.hostelworld.com/pwa/hosteldetails.php/St-Christopher-s-Greenwich/London/501?from=2023-08-31&to=2023-09-03&guests=2',\n",
       " 'https://www.hostelworld.com/pwa/hosteldetails.php/Smart-Camden-Inn-Hostel/London/596?from=2023-08-31&to=2023-09-03&guests=2',\n",
       " 'https://www.hostelworld.com/pwa/hosteldetails.php/St-Christopher-s-Inn-Liverpool-Street/London/271698?from=2023-08-31&to=2023-09-03&guests=2',\n",
       " 'https://www.hostelworld.com/pwa/hosteldetails.php/PubLove-The-Steam-Engine-Waterloo/London/29389?from=2023-08-31&to=2023-09-03&guests=2',\n",
       " 'https://www.hostelworld.com/pwa/hosteldetails.php/St-Christopher-s-Shepherds-Bush/London/506?from=2023-08-31&to=2023-09-03&guests=2',\n",
       " 'https://www.hostelworld.com/pwa/hosteldetails.php/YHA-London-St-Pauls/London/6977?from=2023-08-31&to=2023-09-03&guests=2',\n",
       " 'https://www.hostelworld.com/pwa/hosteldetails.php/St-Christopher-s-Oasis-Female-Only/London/504?from=2023-08-31&to=2023-09-03&guests=2',\n",
       " 'https://www.hostelworld.com/pwa/hosteldetails.php/Smart-Hyde-Park-View-Hostel/London/8069?from=2023-08-31&to=2023-09-03&guests=2',\n",
       " 'https://www.hostelworld.com/pwa/hosteldetails.php/The-Backpackshack/London/63112?from=2023-08-31&to=2023-09-03&guests=2',\n",
       " 'https://www.hostelworld.com/pwa/hosteldetails.php/PubLove-The-Crown-Battersea/London/60336?from=2023-08-31&to=2023-09-03&guests=2',\n",
       " 'https://www.hostelworld.com/pwa/hosteldetails.php/Dover-Castle-Hostel-and-Bar/London/530?from=2023-08-31&to=2023-09-03&guests=2',\n",
       " 'https://www.hostelworld.com/pwa/hosteldetails.php/Hootananny-Hostel/London/24068?from=2023-08-31&to=2023-09-03&guests=2',\n",
       " 'https://www.hostelworld.com/pwa/hosteldetails.php/Book-a-Bed-Hostels/London/14746?from=2023-08-31&to=2023-09-03&guests=2',\n",
       " 'https://www.hostelworld.com/pwa/hosteldetails.php/Strand-Continental/London/51118?from=2023-08-31&to=2023-09-03&guests=2',\n",
       " 'https://www.hostelworld.com/pwa/hosteldetails.php/Park-Villa/London/98066?from=2023-08-31&to=2023-09-03&guests=2',\n",
       " 'https://www.hostelworld.com/pwa/hosteldetails.php/Selina-Camden/London/310274?from=2023-08-31&to=2023-09-03&guests=2',\n",
       " 'https://www.hostelworld.com/pwa/hosteldetails.php/PubLove-The-White-Ferry-Victoria/London/39761?from=2023-08-31&to=2023-09-03&guests=2',\n",
       " 'https://www.hostelworld.com/pwa/hosteldetails.php/PubLove-The-Rose-Crown/London/297123?from=2023-08-31&to=2023-09-03&guests=2',\n",
       " 'https://www.hostelworld.com/pwa/hosteldetails.php/London-Waterloo-Hostel/London/39493?from=2023-08-31&to=2023-09-03&guests=2',\n",
       " 'https://www.hostelworld.com/pwa/hosteldetails.php/YHA-London-Central/London/23598?from=2023-08-31&to=2023-09-03&guests=2',\n",
       " 'https://www.hostelworld.com/pwa/hosteldetails.php/Enrico-Hotel/London/5585?from=2023-08-31&to=2023-09-03&guests=2',\n",
       " 'https://www.hostelworld.com/pwa/hosteldetails.php/Kensal-Green-Backpackers/London/4483?from=2023-08-31&to=2023-09-03&guests=2',\n",
       " 'https://www.hostelworld.com/pwa/hosteldetails.php/PubLove-The-Exmouth-Arms-Euston/London/93796?from=2023-08-31&to=2023-09-03&guests=2',\n",
       " 'https://www.hostelworld.com/pwa/hosteldetails.php/PubLove-The-Green-Man-Paddington/London/21953?from=2023-08-31&to=2023-09-03&guests=2',\n",
       " 'https://www.hostelworld.com/pwa/hosteldetails.php/Tony-s-House-Hotel/London/8503?from=2023-08-31&to=2023-09-03&guests=2',\n",
       " 'https://www.hostelworld.com/pwa/hosteldetails.php/Marble-Arch-Inn/London/13337?from=2023-08-31&to=2023-09-03&guests=2',\n",
       " 'https://www.hostelworld.com/pwa/hosteldetails.php/Palmers-Lodge-Swiss-Cottage/London/14348?from=2023-08-31&to=2023-09-03&guests=2',\n",
       " 'https://www.hostelworld.com/pwa/hosteldetails.php/Belgrave-Hotel-London/London/268771?from=2023-08-31&to=2023-09-03&guests=2',\n",
       " 'https://www.hostelworld.com/pwa/hosteldetails.php/City-Hotel-Carlton/London/27551?from=2023-08-31&to=2023-09-03&guests=2',\n",
       " 'https://www.hostelworld.com/pwa/hosteldetails.php/YHA-London-Thameside/London/7000?from=2023-08-31&to=2023-09-03&guests=2',\n",
       " 'https://www.hostelworld.com/pwa/hosteldetails.php/Kip-Hotel/London/266789?from=2023-08-31&to=2023-09-03&guests=2',\n",
       " 'https://www.hostelworld.com/pwa/hosteldetails.php/Litsa-s-Central-Studios/London/317332?from=2023-08-31&to=2023-09-03&guests=2',\n",
       " 'https://www.hostelworld.com/pwa/hosteldetails.php/Europa-House-Hotel/London/318378?from=2023-08-31&to=2023-09-03&guests=2',\n",
       " 'https://www.hostelworld.com/pwa/hosteldetails.php/London-House-Hotel/London/529?from=2023-08-31&to=2023-09-03&guests=2',\n",
       " 'https://www.hostelworld.com/pwa/hosteldetails.php/Colliers-Hotel/London/308375?from=2023-08-31&to=2023-09-03&guests=2',\n",
       " 'https://www.hostelworld.com/pwa/hosteldetails.php/Zedwell-Piccadilly-Circus/London/319783?from=2023-08-31&to=2023-09-03&guests=2',\n",
       " 'https://www.hostelworld.com/pwa/hosteldetails.php/Barry-House/London/287321?from=2023-08-31&to=2023-09-03&guests=2',\n",
       " 'https://www.hostelworld.com/pwa/hosteldetails.php/Park-Hotel-Essex/London/10143?from=2023-08-31&to=2023-09-03&guests=2',\n",
       " 'https://www.hostelworld.com/pwa/hosteldetails.php/Park-Hotel/London/295852?from=2023-08-31&to=2023-09-03&guests=2',\n",
       " 'https://www.hostelworld.com/pwa/hosteldetails.php/Belgravia-Hotel/London/306595?from=2023-08-31&to=2023-09-03&guests=2',\n",
       " 'https://www.hostelworld.com/pwa/hosteldetails.php/Hyde-Park-Court-Hotel/London/5107?from=2023-08-31&to=2023-09-03&guests=2',\n",
       " 'https://www.hostelworld.com/pwa/hosteldetails.php/All-Star-Private-Studios/London/24709?from=2023-08-31&to=2023-09-03&guests=2',\n",
       " 'https://www.hostelworld.com/pwa/hosteldetails.php/Airways-Hotel-Victoria-London/London/16289?from=2023-08-31&to=2023-09-03&guests=2',\n",
       " 'https://www.hostelworld.com/pwa/hosteldetails.php/Aron-Guest-House/London/64748?from=2023-08-31&to=2023-09-03&guests=2',\n",
       " 'https://www.hostelworld.com/pwa/hosteldetails.php/Hotel-Shepherds-Bush-London/London/308621?from=2023-08-31&to=2023-09-03&guests=2',\n",
       " 'https://www.hostelworld.com/pwa/hosteldetails.php/Fairway-Hotel/London/81121?from=2023-08-31&to=2023-09-03&guests=2',\n",
       " 'https://www.hostelworld.com/pwa/hosteldetails.php/The-Dover/London/267341?from=2023-08-31&to=2023-09-03&guests=2',\n",
       " 'https://www.hostelworld.com/pwa/hosteldetails.php/Hanover-Hotel/London/6252?from=2023-08-31&to=2023-09-03&guests=2',\n",
       " 'https://www.hostelworld.com/pwa/hosteldetails.php/Budget-London-Apartments/London/11493?from=2023-08-31&to=2023-09-03&guests=2',\n",
       " 'https://www.hostelworld.com/pwa/hosteldetails.php/The-London-Home-Hostel/London/80690?from=2023-08-31&to=2023-09-03&guests=2',\n",
       " 'https://www.hostelworld.com/pwa/hosteldetails.php/London365-Hostel/London/61114?from=2023-08-31&to=2023-09-03&guests=2',\n",
       " 'https://www.hostelworld.com/pwa/hosteldetails.php/City-Hotel-Carlton/London/27551?from=2023-08-31&to=2023-09-03&guests=2',\n",
       " 'https://www.hostelworld.com/pwa/hosteldetails.php/YHA-London-Thameside/London/7000?from=2023-08-31&to=2023-09-03&guests=2',\n",
       " 'https://www.hostelworld.com/pwa/hosteldetails.php/Kip-Hotel/London/266789?from=2023-08-31&to=2023-09-03&guests=2',\n",
       " 'https://www.hostelworld.com/pwa/hosteldetails.php/Litsa-s-Central-Studios/London/317332?from=2023-08-31&to=2023-09-03&guests=2',\n",
       " 'https://www.hostelworld.com/pwa/hosteldetails.php/Europa-House-Hotel/London/318378?from=2023-08-31&to=2023-09-03&guests=2',\n",
       " 'https://www.hostelworld.com/pwa/hosteldetails.php/London-House-Hotel/London/529?from=2023-08-31&to=2023-09-03&guests=2',\n",
       " 'https://www.hostelworld.com/pwa/hosteldetails.php/Colliers-Hotel/London/308375?from=2023-08-31&to=2023-09-03&guests=2',\n",
       " 'https://www.hostelworld.com/pwa/hosteldetails.php/Zedwell-Piccadilly-Circus/London/319783?from=2023-08-31&to=2023-09-03&guests=2',\n",
       " 'https://www.hostelworld.com/pwa/hosteldetails.php/Barry-House/London/287321?from=2023-08-31&to=2023-09-03&guests=2',\n",
       " 'https://www.hostelworld.com/pwa/hosteldetails.php/Park-Hotel-Essex/London/10143?from=2023-08-31&to=2023-09-03&guests=2',\n",
       " 'https://www.hostelworld.com/pwa/hosteldetails.php/Park-Hotel/London/295852?from=2023-08-31&to=2023-09-03&guests=2',\n",
       " 'https://www.hostelworld.com/pwa/hosteldetails.php/Belgravia-Hotel/London/306595?from=2023-08-31&to=2023-09-03&guests=2',\n",
       " 'https://www.hostelworld.com/pwa/hosteldetails.php/Hyde-Park-Court-Hotel/London/5107?from=2023-08-31&to=2023-09-03&guests=2',\n",
       " 'https://www.hostelworld.com/pwa/hosteldetails.php/All-Star-Private-Studios/London/24709?from=2023-08-31&to=2023-09-03&guests=2',\n",
       " 'https://www.hostelworld.com/pwa/hosteldetails.php/Airways-Hotel-Victoria-London/London/16289?from=2023-08-31&to=2023-09-03&guests=2',\n",
       " 'https://www.hostelworld.com/pwa/hosteldetails.php/Aron-Guest-House/London/64748?from=2023-08-31&to=2023-09-03&guests=2',\n",
       " 'https://www.hostelworld.com/pwa/hosteldetails.php/Hotel-Shepherds-Bush-London/London/308621?from=2023-08-31&to=2023-09-03&guests=2',\n",
       " 'https://www.hostelworld.com/pwa/hosteldetails.php/Fairway-Hotel/London/81121?from=2023-08-31&to=2023-09-03&guests=2',\n",
       " 'https://www.hostelworld.com/pwa/hosteldetails.php/The-Dover/London/267341?from=2023-08-31&to=2023-09-03&guests=2',\n",
       " 'https://www.hostelworld.com/pwa/hosteldetails.php/Hanover-Hotel/London/6252?from=2023-08-31&to=2023-09-03&guests=2',\n",
       " 'https://www.hostelworld.com/pwa/hosteldetails.php/Budget-London-Apartments/London/11493?from=2023-08-31&to=2023-09-03&guests=2',\n",
       " 'https://www.hostelworld.com/pwa/hosteldetails.php/The-London-Home-Hostel/London/80690?from=2023-08-31&to=2023-09-03&guests=2',\n",
       " 'https://www.hostelworld.com/pwa/hosteldetails.php/London365-Hostel/London/61114?from=2023-08-31&to=2023-09-03&guests=2']"
      ]
     },
     "execution_count": 407,
     "metadata": {},
     "output_type": "execute_result"
    }
   ],
   "source": [
    "url"
   ]
  },
  {
   "cell_type": "code",
   "execution_count": 408,
   "id": "270931b8",
   "metadata": {},
   "outputs": [],
   "source": [
    "names=[]\n",
    "for i in url:\n",
    "    driver.get(i)\n",
    "    time.sleep(2)\n",
    "    try:\n",
    "        #find names\n",
    "        name = driver.find_element(By.XPATH , '//div[@class=\"title-2\"]')\n",
    "        names.append(name.text)\n",
    "    except NoSuchElementException:\n",
    "        names.append('-')    "
   ]
  },
  {
   "cell_type": "code",
   "execution_count": 409,
   "id": "59f074c6",
   "metadata": {},
   "outputs": [
    {
     "data": {
      "text/plain": [
       "76"
      ]
     },
     "execution_count": 409,
     "metadata": {},
     "output_type": "execute_result"
    }
   ],
   "source": [
    "len(names)"
   ]
  },
  {
   "cell_type": "code",
   "execution_count": 417,
   "id": "ff2afbf2",
   "metadata": {},
   "outputs": [],
   "source": [
    "description=[]\n",
    "for i in url:\n",
    "    driver.get(i)\n",
    "    time.sleep(2)\n",
    "    try:\n",
    "        #find names\n",
    "        des = driver.find_element(By.XPATH , '/html/body/div[3]/div/div/div[2]/section/div[9]/div/div[2]/div[4]/div/div[2]')\n",
    "        description.append(des.text)\n",
    "    except NoSuchElementException:\n",
    "        description.append('-') "
   ]
  },
  {
   "cell_type": "code",
   "execution_count": 418,
   "id": "cf79bc19",
   "metadata": {},
   "outputs": [
    {
     "data": {
      "text/plain": [
       "76"
      ]
     },
     "execution_count": 418,
     "metadata": {},
     "output_type": "execute_result"
    }
   ],
   "source": [
    "len(description)"
   ]
  },
  {
   "cell_type": "code",
   "execution_count": 420,
   "id": "671e9b7a",
   "metadata": {},
   "outputs": [],
   "source": [
    "rates=[]\n",
    "for i in url:\n",
    "    driver.get(i)\n",
    "    time.sleep(2)\n",
    "    try:\n",
    "        #find names\n",
    "        rate = driver.find_element(By.XPATH , '/html/body/div[3]/div/div/div[2]/section/div[9]/div/div[1]/div[1]/div[1]')\n",
    "        rates.append(rate.text)\n",
    "    except NoSuchElementException:\n",
    "        rates.append('-')   "
   ]
  },
  {
   "cell_type": "code",
   "execution_count": 422,
   "id": "1358fd7c",
   "metadata": {},
   "outputs": [
    {
     "data": {
      "text/plain": [
       "76"
      ]
     },
     "execution_count": 422,
     "metadata": {},
     "output_type": "execute_result"
    }
   ],
   "source": [
    "len(rates)"
   ]
  },
  {
   "cell_type": "code",
   "execution_count": 424,
   "id": "a2085802",
   "metadata": {},
   "outputs": [],
   "source": [
    "over_all_rate = []\n",
    "for i in url:\n",
    "    driver.get(i)\n",
    "    time.sleep(2)\n",
    "    try:\n",
    "        #find names\n",
    "        over = driver.find_element(By.XPATH ,'/html/body/div[3]/div/div/div[2]/section/div[9]/div/div[1]/div[1]/div[2]/div[1]/span')\n",
    "        over_all_rate.append(over.text)\n",
    "    except NoSuchElementException:\n",
    "        over_all_rate.append('-')   "
   ]
  },
  {
   "cell_type": "code",
   "execution_count": 426,
   "id": "4d5fc16b",
   "metadata": {},
   "outputs": [
    {
     "data": {
      "text/plain": [
       "76"
      ]
     },
     "execution_count": 426,
     "metadata": {},
     "output_type": "execute_result"
    }
   ],
   "source": [
    "len(over_all_rate)"
   ]
  },
  {
   "cell_type": "code",
   "execution_count": 427,
   "id": "e0cd9f53",
   "metadata": {},
   "outputs": [],
   "source": [
    "total_reviews=[]\n",
    "for i in url:\n",
    "    driver.get(i)\n",
    "    time.sleep(2)\n",
    "    try:\n",
    "        #find names\n",
    "        s = driver.find_element(By.XPATH , '/html/body/div[3]/div/div/div[2]/section/div[9]/div/div[1]/div[1]/div[2]/div[2]')\n",
    "        total_reviews.append(s.text)\n",
    "    except NoSuchElementException:\n",
    "        total_reviews.append('-')    "
   ]
  },
  {
   "cell_type": "code",
   "execution_count": 429,
   "id": "39e7180c",
   "metadata": {},
   "outputs": [
    {
     "data": {
      "text/plain": [
       "76"
      ]
     },
     "execution_count": 429,
     "metadata": {},
     "output_type": "execute_result"
    }
   ],
   "source": [
    "len(total_reviews)"
   ]
  },
  {
   "cell_type": "code",
   "execution_count": 433,
   "id": "e91216bb",
   "metadata": {},
   "outputs": [],
   "source": [
    "facilities=[]\n",
    "for i in url:\n",
    "    driver.get(i)\n",
    "    time.sleep(2)\n",
    "    try:\n",
    "        #find names\n",
    "        f = driver.find_element(By.XPATH , '/html/body/div[3]/div/div/div[2]/section/div[13]/div/ul')\n",
    "        facilities.append(str(f.text).replace('\\n',''))\n",
    "    except NoSuchElementException:\n",
    "        facilities.append('-') "
   ]
  },
  {
   "cell_type": "code",
   "execution_count": 435,
   "id": "a11bbedc",
   "metadata": {},
   "outputs": [
    {
     "data": {
      "text/plain": [
       "76"
      ]
     },
     "execution_count": 435,
     "metadata": {},
     "output_type": "execute_result"
    }
   ],
   "source": [
    "len(facilities)"
   ]
  },
  {
   "cell_type": "code",
   "execution_count": 444,
   "id": "2fce4f0a",
   "metadata": {},
   "outputs": [],
   "source": [
    "location=[]\n",
    "for i in url:\n",
    "    driver.get(i)\n",
    "    time.sleep(2)\n",
    "    try:\n",
    "        #find names\n",
    "        l = driver.find_element(By.XPATH , '//button[@class=\"property-address\"]')\n",
    "        location.append(l.text)\n",
    "    except NoSuchElementException:\n",
    "        location.append('-')    "
   ]
  },
  {
   "cell_type": "code",
   "execution_count": 448,
   "id": "d28ef4b0",
   "metadata": {},
   "outputs": [
    {
     "data": {
      "text/html": [
       "<div>\n",
       "<style scoped>\n",
       "    .dataframe tbody tr th:only-of-type {\n",
       "        vertical-align: middle;\n",
       "    }\n",
       "\n",
       "    .dataframe tbody tr th {\n",
       "        vertical-align: top;\n",
       "    }\n",
       "\n",
       "    .dataframe thead th {\n",
       "        text-align: right;\n",
       "    }\n",
       "</style>\n",
       "<table border=\"1\" class=\"dataframe\">\n",
       "  <thead>\n",
       "    <tr style=\"text-align: right;\">\n",
       "      <th></th>\n",
       "      <th>Name</th>\n",
       "      <th>Description</th>\n",
       "      <th>Rate</th>\n",
       "      <th>Overall Review</th>\n",
       "      <th>Total Reviews</th>\n",
       "      <th>facilties</th>\n",
       "      <th>location</th>\n",
       "    </tr>\n",
       "  </thead>\n",
       "  <tbody>\n",
       "    <tr>\n",
       "      <th>0</th>\n",
       "      <td>Astor Kensington</td>\n",
       "      <td>-</td>\n",
       "      <td>8.0</td>\n",
       "      <td>Fabulous</td>\n",
       "      <td>6529 Total Reviews</td>\n",
       "      <td>FreeLinen Included Free City Maps Free WiFiGen...</td>\n",
       "      <td>45 Queensborough Terrace, Bayswater,</td>\n",
       "    </tr>\n",
       "    <tr>\n",
       "      <th>1</th>\n",
       "      <td>Saint James Backpackers</td>\n",
       "      <td>-</td>\n",
       "      <td>7.7</td>\n",
       "      <td>Very Good</td>\n",
       "      <td>1915 Total Reviews</td>\n",
       "      <td>FreeFree Breakfast Linen Included Free City Ma...</td>\n",
       "      <td>21 Longridge Road,</td>\n",
       "    </tr>\n",
       "    <tr>\n",
       "      <th>2</th>\n",
       "      <td>St Christopher's Greenwich</td>\n",
       "      <td>-</td>\n",
       "      <td>7.8</td>\n",
       "      <td>Very Good</td>\n",
       "      <td>3377 Total Reviews</td>\n",
       "      <td>FreeLinen Included Free City Maps Free WiFi Fr...</td>\n",
       "      <td>189 Greenwich High Road, Greenwich,</td>\n",
       "    </tr>\n",
       "    <tr>\n",
       "      <th>3</th>\n",
       "      <td>Smart Camden Inn Hostel</td>\n",
       "      <td>Located in the middle of Camden Town, we’re th...</td>\n",
       "      <td>7.8</td>\n",
       "      <td>Very Good</td>\n",
       "      <td>3085 Total Reviews</td>\n",
       "      <td>Security8.7Location8.6Staff8.4Atmosphere6.7Cle...</td>\n",
       "      <td>55/57 Bayham Street, Camden,</td>\n",
       "    </tr>\n",
       "    <tr>\n",
       "      <th>4</th>\n",
       "      <td>St Christopher's Inn - Liverpool Street</td>\n",
       "      <td>Our Liverpool Street hostel is the newest of o...</td>\n",
       "      <td>7.7</td>\n",
       "      <td>Very Good</td>\n",
       "      <td>523 Total Reviews</td>\n",
       "      <td>FreeLinen Included Free City Maps Free WiFiGen...</td>\n",
       "      <td>52 Wilson Street, Finsbury,</td>\n",
       "    </tr>\n",
       "    <tr>\n",
       "      <th>...</th>\n",
       "      <td>...</td>\n",
       "      <td>...</td>\n",
       "      <td>...</td>\n",
       "      <td>...</td>\n",
       "      <td>...</td>\n",
       "      <td>...</td>\n",
       "      <td>...</td>\n",
       "    </tr>\n",
       "    <tr>\n",
       "      <th>71</th>\n",
       "      <td>The Dover</td>\n",
       "      <td>With friendly staff, excellent service and an ...</td>\n",
       "      <td>No Rating\\n0 Total Reviews</td>\n",
       "      <td>-</td>\n",
       "      <td>-</td>\n",
       "      <td>-</td>\n",
       "      <td>44 Belgrave Road,</td>\n",
       "    </tr>\n",
       "    <tr>\n",
       "      <th>72</th>\n",
       "      <td>Hanover Hotel</td>\n",
       "      <td>All the main attractions of the city are withi...</td>\n",
       "      <td>No Rating\\n0 Total Reviews</td>\n",
       "      <td>-</td>\n",
       "      <td>-</td>\n",
       "      <td>-</td>\n",
       "      <td>30 St. Georges Drive, Victoria,</td>\n",
       "    </tr>\n",
       "    <tr>\n",
       "      <th>73</th>\n",
       "      <td>Budget London Apartments</td>\n",
       "      <td>We offer the best budget accommodation located...</td>\n",
       "      <td>4.7</td>\n",
       "      <td>Rating</td>\n",
       "      <td>366 Total Reviews</td>\n",
       "      <td>FreeLinen Included Free WiFi Free Internet Acc...</td>\n",
       "      <td>30 Chatsworth Rd., Willesden Green,</td>\n",
       "    </tr>\n",
       "    <tr>\n",
       "      <th>74</th>\n",
       "      <td>The London Home Hostel</td>\n",
       "      <td>If you are looking to meet and socialise with ...</td>\n",
       "      <td>4.9</td>\n",
       "      <td>Rating</td>\n",
       "      <td>268 Total Reviews</td>\n",
       "      <td>FreeLinen Included Free WiFi Free Internet Acc...</td>\n",
       "      <td>39 Chatsworth Road, London,</td>\n",
       "    </tr>\n",
       "    <tr>\n",
       "      <th>75</th>\n",
       "      <td>London365 Hostel</td>\n",
       "      <td>At London365 Hostel We offer budget accommodat...</td>\n",
       "      <td>3.8</td>\n",
       "      <td>Rating</td>\n",
       "      <td>235 Total Reviews</td>\n",
       "      <td>FreeLinen Included Free WiFi Free Internet Acc...</td>\n",
       "      <td>30 Chatsworth Road,</td>\n",
       "    </tr>\n",
       "  </tbody>\n",
       "</table>\n",
       "<p>76 rows × 7 columns</p>\n",
       "</div>"
      ],
      "text/plain": [
       "                                       Name  \\\n",
       "0                          Astor Kensington   \n",
       "1                   Saint James Backpackers   \n",
       "2                St Christopher's Greenwich   \n",
       "3                   Smart Camden Inn Hostel   \n",
       "4   St Christopher's Inn - Liverpool Street   \n",
       "..                                      ...   \n",
       "71                                The Dover   \n",
       "72                            Hanover Hotel   \n",
       "73                 Budget London Apartments   \n",
       "74                   The London Home Hostel   \n",
       "75                         London365 Hostel   \n",
       "\n",
       "                                          Description  \\\n",
       "0                                                   -   \n",
       "1                                                   -   \n",
       "2                                                   -   \n",
       "3   Located in the middle of Camden Town, we’re th...   \n",
       "4   Our Liverpool Street hostel is the newest of o...   \n",
       "..                                                ...   \n",
       "71  With friendly staff, excellent service and an ...   \n",
       "72  All the main attractions of the city are withi...   \n",
       "73  We offer the best budget accommodation located...   \n",
       "74  If you are looking to meet and socialise with ...   \n",
       "75  At London365 Hostel We offer budget accommodat...   \n",
       "\n",
       "                          Rate Overall Review       Total Reviews  \\\n",
       "0                          8.0       Fabulous  6529 Total Reviews   \n",
       "1                          7.7      Very Good  1915 Total Reviews   \n",
       "2                          7.8      Very Good  3377 Total Reviews   \n",
       "3                          7.8      Very Good  3085 Total Reviews   \n",
       "4                          7.7      Very Good   523 Total Reviews   \n",
       "..                         ...            ...                 ...   \n",
       "71  No Rating\\n0 Total Reviews              -                   -   \n",
       "72  No Rating\\n0 Total Reviews              -                   -   \n",
       "73                         4.7         Rating   366 Total Reviews   \n",
       "74                         4.9         Rating   268 Total Reviews   \n",
       "75                         3.8         Rating   235 Total Reviews   \n",
       "\n",
       "                                            facilties  \\\n",
       "0   FreeLinen Included Free City Maps Free WiFiGen...   \n",
       "1   FreeFree Breakfast Linen Included Free City Ma...   \n",
       "2   FreeLinen Included Free City Maps Free WiFi Fr...   \n",
       "3   Security8.7Location8.6Staff8.4Atmosphere6.7Cle...   \n",
       "4   FreeLinen Included Free City Maps Free WiFiGen...   \n",
       "..                                                ...   \n",
       "71                                                  -   \n",
       "72                                                  -   \n",
       "73  FreeLinen Included Free WiFi Free Internet Acc...   \n",
       "74  FreeLinen Included Free WiFi Free Internet Acc...   \n",
       "75  FreeLinen Included Free WiFi Free Internet Acc...   \n",
       "\n",
       "                                location  \n",
       "0   45 Queensborough Terrace, Bayswater,  \n",
       "1                     21 Longridge Road,  \n",
       "2    189 Greenwich High Road, Greenwich,  \n",
       "3           55/57 Bayham Street, Camden,  \n",
       "4            52 Wilson Street, Finsbury,  \n",
       "..                                   ...  \n",
       "71                     44 Belgrave Road,  \n",
       "72       30 St. Georges Drive, Victoria,  \n",
       "73   30 Chatsworth Rd., Willesden Green,  \n",
       "74           39 Chatsworth Road, London,  \n",
       "75                   30 Chatsworth Road,  \n",
       "\n",
       "[76 rows x 7 columns]"
      ]
     },
     "execution_count": 448,
     "metadata": {},
     "output_type": "execute_result"
    }
   ],
   "source": [
    "hostels = pd.DataFrame()\n",
    "hostels['Name'] = names\n",
    "hostels['Description'] = description\n",
    "hostels['Rate'] = rates\n",
    "hostels['Overall Review'] = over_all_rate\n",
    "hostels['Total Reviews'] = total_reviews\n",
    "hostels['facilties'] = facilities\n",
    "hostels['location'] = location\n",
    "hostels"
   ]
  },
  {
   "cell_type": "code",
   "execution_count": null,
   "id": "c664f3d9",
   "metadata": {},
   "outputs": [],
   "source": []
  }
 ],
 "metadata": {
  "kernelspec": {
   "display_name": "Python 3 (ipykernel)",
   "language": "python",
   "name": "python3"
  },
  "language_info": {
   "codemirror_mode": {
    "name": "ipython",
    "version": 3
   },
   "file_extension": ".py",
   "mimetype": "text/x-python",
   "name": "python",
   "nbconvert_exporter": "python",
   "pygments_lexer": "ipython3",
   "version": "3.9.16"
  }
 },
 "nbformat": 4,
 "nbformat_minor": 5
}
